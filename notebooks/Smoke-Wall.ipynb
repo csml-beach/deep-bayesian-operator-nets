{
 "cells": [
  {
   "cell_type": "code",
   "execution_count": 14,
   "id": "9dfe42ba-6c99-4e8d-873b-12bc70389803",
   "metadata": {
    "tags": []
   },
   "outputs": [],
   "source": [
    "import warnings\n",
    "import matplotlib.animation as animation \n",
    "from IPython import display \n",
    "import numpy as np\n",
    "import h5py\n"
   ]
  },
  {
   "cell_type": "code",
   "execution_count": 15,
   "id": "e752f5da",
   "metadata": {},
   "outputs": [],
   "source": [
    "#from phi.flow import *  # minimal dependencies\n",
    "# from phi.torch.flow import *\n",
    "# from phi.tf.flow import *\n",
    "\n",
    "from phi.jax.flow import *"
   ]
  },
  {
   "cell_type": "code",
   "execution_count": 16,
   "id": "3dfcbedc",
   "metadata": {},
   "outputs": [],
   "source": [
    "Res       = 200   # Resolution\n",
    "Walls = Obstacle(union(\n",
    "    [Box(x=(20, 60), y=(50, 51)), #bottom wall\n",
    "    Box(x=(80, 100), y=(70, 71)), #top bar\n",
    "    Box(x=(20, 21), y=(50, 65)),\n",
    "    Box(x=(45, 46), y=(50, 65)),\n",
    "    Box(x=(30, 31), y=(80, 100)),\n",
    "    ]\n",
    "))\n",
    "\n",
    "@jit_compile  # Only for PyTorch, TensorFlow and Jax\n",
    "def step(v, s, p, dt=1.):\n",
    "    s = advect.mac_cormack(s, v, dt) + inflow\n",
    "    buoyancy = resample(s * (0, 0.1), to=v)\n",
    "    v = advect.semi_lagrangian(v, v, dt) + buoyancy * dt\n",
    "    v, p = fluid.make_incompressible(v, Walls, Solve('auto', 1e-4, 0, x0=p))\n",
    "    return v, s, p\n"
   ]
  },
  {
   "cell_type": "code",
   "execution_count": 18,
   "id": "506d3ee1-a3bb-4c7d-bf26-056adab43778",
   "metadata": {},
   "outputs": [
    {
     "name": "stdout",
     "output_type": "stream",
     "text": [
      "source at  10.0\n",
      "source at  20.0\n",
      "source at  30.0\n",
      "source at  40.0\n",
      "source at  50.0\n",
      "source at  60.0\n",
      "source at  70.0\n",
      "source at  80.0\n",
      "source at  90.0\n"
     ]
    }
   ],
   "source": [
    "hf = h5py.File(\"Smoke-Flow-Data.h5\", \"w\")\n",
    "\n",
    "\n",
    "for source in np.linspace(10,90,9):\n",
    "\n",
    "    print('source at ', source)\n",
    "    \n",
    "    \n",
    "    velocity = StaggeredGrid(0, x=Res, y=Res, bounds=Box(x=100, y=100))  # or CenteredGrid(...)\n",
    "    smoke    = CenteredGrid(0, ZERO_GRADIENT, x=2*Res, y=2*Res, bounds=Box(x=100, y=100))\n",
    "    inflow   = 0.05 * resample(Sphere(x=source, y=10.0, radius=5), to=smoke, soft=True)\n",
    "    pressure = None\n",
    "    \n",
    "    \n",
    "    trajectory = [smoke]\n",
    "\n",
    "    for _ in range(300):\n",
    "        velocity, smoke, pressure = step(velocity, smoke, pressure)\n",
    "        trajectory.append(smoke)\n",
    "        #     plot(vis.overlay(smoke,Walls.geometry), alpha=1, show_color_bar=False, animate='time')\n",
    "    trajectory = field.stack(trajectory, batch('time'))\n",
    "    g = hf.create_group(name = 'x-{}'.format(source))\n",
    "    g.create_dataset('velocity', data=trajectory.uniform_values().numpy('time,x,y,vector'))\n",
    "    g.attrs['SourcePosition'] = source\n",
    "\n",
    "hf.close()"
   ]
  },
  {
   "cell_type": "code",
   "execution_count": 6,
   "id": "8a9d78dd-4a31-42c3-890b-b410ecac7ab5",
   "metadata": {},
   "outputs": [
    {
     "ename": "NameError",
     "evalue": "name 'trj' is not defined",
     "output_type": "error",
     "traceback": [
      "\u001b[0;31m---------------------------------------------------------------------------\u001b[0m",
      "\u001b[0;31mNameError\u001b[0m                                 Traceback (most recent call last)",
      "Cell \u001b[0;32mIn[6], line 1\u001b[0m\n\u001b[0;32m----> 1\u001b[0m plot(vis\u001b[38;5;241m.\u001b[39moverlay(\u001b[43mtrj\u001b[49m[\u001b[38;5;241m1\u001b[39m],Walls\u001b[38;5;241m.\u001b[39mgeometry), alpha\u001b[38;5;241m=\u001b[39m\u001b[38;5;241m1\u001b[39m, show_color_bar\u001b[38;5;241m=\u001b[39m\u001b[38;5;28;01mFalse\u001b[39;00m, animate\u001b[38;5;241m=\u001b[39m\u001b[38;5;124m'\u001b[39m\u001b[38;5;124mtime\u001b[39m\u001b[38;5;124m'\u001b[39m)\n",
      "\u001b[0;31mNameError\u001b[0m: name 'trj' is not defined"
     ]
    }
   ],
   "source": [
    "plot(vis.overlay(trj[1],Walls.geometry), alpha=1, show_color_bar=False, animate='time')"
   ]
  },
  {
   "cell_type": "code",
   "execution_count": null,
   "id": "9653a38f",
   "metadata": {},
   "outputs": [],
   "source": []
  }
 ],
 "metadata": {
  "kernelspec": {
   "display_name": "Python 3 (ipykernel)",
   "language": "python",
   "name": "python3"
  },
  "language_info": {
   "codemirror_mode": {
    "name": "ipython",
    "version": 3
   },
   "file_extension": ".py",
   "mimetype": "text/x-python",
   "name": "python",
   "nbconvert_exporter": "python",
   "pygments_lexer": "ipython3",
   "version": "3.9.13"
  }
 },
 "nbformat": 4,
 "nbformat_minor": 5
}
