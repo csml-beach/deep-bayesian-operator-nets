{
 "cells": [
  {
   "cell_type": "code",
   "execution_count": 1,
   "id": "9dfe42ba-6c99-4e8d-873b-12bc70389803",
   "metadata": {
    "tags": []
   },
   "outputs": [],
   "source": [
    "import warnings\n",
    "import matplotlib.animation as animation \n",
    "from IPython import display \n",
    "import numpy as np\n",
    "import h5py\n",
    "import matplotlib.pyplot as plt"
   ]
  },
  {
   "cell_type": "code",
   "execution_count": 2,
   "id": "e752f5da",
   "metadata": {},
   "outputs": [
    {
     "name": "stdout",
     "output_type": "stream",
     "text": [
      "Metal device set to: Apple M1 Pro\n"
     ]
    },
    {
     "name": "stderr",
     "output_type": "stream",
     "text": [
      "2023-10-19 22:02:54.105066: W pjrt_plugin/src/mps_client.cc:534] WARNING: JAX Apple GPU support is experimental and not all JAX functionality is correctly supported!\n"
     ]
    }
   ],
   "source": [
    "#from phi.flow import *  # minimal dependencies\n",
    "# from phi.torch.flow import *\n",
    "# from phi.tf.flow import *\n",
    "\n",
    "from phi.jax.flow import *"
   ]
  },
  {
   "cell_type": "code",
   "execution_count": 10,
   "id": "3dfcbedc",
   "metadata": {},
   "outputs": [],
   "source": [
    "Res       = 200   # Resolution\n",
    "Walls = Obstacle(union(\n",
    "    [Box(x=(20, 60), y=(50, 51)), #bottom wall\n",
    "    Box(x=(80, 100), y=(70, 71)), #top bar\n",
    "    Box(x=(20, 21), y=(50, 65)),\n",
    "    Box(x=(45, 46), y=(50, 65)),\n",
    "    Box(x=(30, 31), y=(80, 100)),\n",
    "    ]\n",
    "))\n"
   ]
  },
  {
   "cell_type": "code",
   "execution_count": 148,
   "id": "506d3ee1-a3bb-4c7d-bf26-056adab43778",
   "metadata": {},
   "outputs": [
    {
     "name": "stdout",
     "output_type": "stream",
     "text": [
      "source at  50.0\n",
      "source at  80.0\n"
     ]
    }
   ],
   "source": [
    "hf = h5py.File(\"Smoke-Flow-Data-temp.h5\", \"w\")\n",
    "\n",
    "\n",
    "for source in np.linspace(10,90,9):\n",
    "\n",
    "    print('source at ', source)\n",
    "\n",
    "\n",
    "    @jit_compile  # Only for PyTorch, TensorFlow and Jax\n",
    "    def step(v, s, p, dt=1.):\n",
    "    s = advect.mac_cormack(s, v, dt) + inflow\n",
    "    buoyancy = resample(s * (0, 0.1), to=v)\n",
    "    v = advect.semi_lagrangian(v, v, dt) + buoyancy * dt\n",
    "    v, p = fluid.make_incompressible(v, Walls, Solve('auto', 1e-4, 0, x0=p))\n",
    "    return v, s, p\n",
    "    \n",
    "    \n",
    "    velocity = StaggeredGrid(0, x=Res, y=Res, bounds=Box(x=100, y=100))  # or CenteredGrid(...)\n",
    "    smoke    = CenteredGrid(0, ZERO_GRADIENT, x=2*Res, y=2*Res, bounds=Box(x=100, y=100))\n",
    "    inflow   = 0.05 * resample(Sphere(x=source, y=10.0, radius=5), to=smoke, soft=True)\n",
    "    pressure = None\n",
    "    \n",
    "    \n",
    "    trajectory = [smoke]\n",
    "\n",
    "    for _ in range(500):\n",
    "        velocity, smoke, pressure = step(velocity, smoke, pressure)\n",
    "        trajectory.append(smoke)\n",
    "        #     plot(vis.overlay(smoke,Walls.geometry), alpha=1, show_color_bar=False, animate='time')\n",
    "    trajectory = field.stack(trajectory, batch('time'))\n",
    "    g = hf.create_group(name = 'x-{}'.format(source))\n",
    "    g.create_dataset('density', data=trajectory.uniform_values().numpy('time,x,y,vector'))\n",
    "    g.attrs['SourcePosition'] = source\n",
    "\n",
    "hf.close()"
   ]
  },
  {
   "cell_type": "code",
   "execution_count": 163,
   "id": "4fb3da33-67a6-40c2-a6e8-2443015a8360",
   "metadata": {},
   "outputs": [],
   "source": [
    "hf.close()"
   ]
  },
  {
   "cell_type": "code",
   "execution_count": 3,
   "id": "9653a38f",
   "metadata": {},
   "outputs": [],
   "source": [
    "hf = h5py.File(\"Smoke-Flow-Data-temp.h5\", \"r\")"
   ]
  },
  {
   "cell_type": "code",
   "execution_count": 4,
   "id": "1fd0224d-1207-4667-9f0d-37badd0f84eb",
   "metadata": {},
   "outputs": [
    {
     "data": {
      "text/plain": [
       "<KeysViewHDF5 ['x-10.0', 'x-20.0', 'x-30.0', 'x-40.0', 'x-50.0', 'x-60.0', 'x-70.0', 'x-80.0', 'x-90.0']>"
      ]
     },
     "execution_count": 4,
     "metadata": {},
     "output_type": "execute_result"
    }
   ],
   "source": [
    "hf.keys()\n"
   ]
  },
  {
   "cell_type": "code",
   "execution_count": 59,
   "id": "50a8a12f-980f-492e-9928-57fbb5e992dc",
   "metadata": {},
   "outputs": [],
   "source": []
  },
  {
   "cell_type": "code",
   "execution_count": 55,
   "id": "c423144e-49fb-4a38-9174-2350694b44f6",
   "metadata": {},
   "outputs": [],
   "source": [
    "dd = hf['x-90.0']['density']"
   ]
  },
  {
   "cell_type": "code",
   "execution_count": 56,
   "id": "6c12eeff-e8e0-4607-b2c0-f5b3f7d9f2fb",
   "metadata": {},
   "outputs": [],
   "source": [
    "q = tensor(np.array(dd[:,:,:,0]), batch('time'), spatial('x,y'))\n",
    "gridQ = CenteredGrid(q, bounds=Box(x=100, y=100))\n",
    "p = plot(vis.overlay(gridQ,Walls.geometry), alpha=1,\n",
    "     show_color_bar=False, animate='time')"
   ]
  },
  {
   "cell_type": "code",
   "execution_count": 57,
   "id": "91346767-f06e-4085-beca-6d5a06bf8a9a",
   "metadata": {},
   "outputs": [],
   "source": [
    "# plot(vis.overlay(gridQ,Walls.geometry), alpha=1,\n",
    "#      show_color_bar=False, animate='time')"
   ]
  },
  {
   "cell_type": "code",
   "execution_count": 58,
   "id": "b5d6b83e-abce-47ac-93d6-147833441899",
   "metadata": {},
   "outputs": [],
   "source": [
    "p.save('Smoke-x-90.mp4')"
   ]
  },
  {
   "cell_type": "code",
   "execution_count": null,
   "id": "8f6cada3-4641-4ab6-94c6-2c65ef24bc6a",
   "metadata": {},
   "outputs": [],
   "source": [
    "hf.close()"
   ]
  }
 ],
 "metadata": {
  "kernelspec": {
   "display_name": "Python 3 (ipykernel)",
   "language": "python",
   "name": "python3"
  },
  "language_info": {
   "codemirror_mode": {
    "name": "ipython",
    "version": 3
   },
   "file_extension": ".py",
   "mimetype": "text/x-python",
   "name": "python",
   "nbconvert_exporter": "python",
   "pygments_lexer": "ipython3",
   "version": "3.11.3"
  }
 },
 "nbformat": 4,
 "nbformat_minor": 5
}
