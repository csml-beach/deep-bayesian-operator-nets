{
 "cells": [
  {
   "cell_type": "code",
   "execution_count": 1,
   "id": "9dfe42ba-6c99-4e8d-873b-12bc70389803",
   "metadata": {
    "tags": []
   },
   "outputs": [],
   "source": [
    "import warnings\n",
    "import matplotlib.animation as animation \n",
    "from IPython import display \n",
    "\n",
    "warnings.filterwarnings('ignore')"
   ]
  },
  {
   "cell_type": "code",
   "execution_count": 2,
   "id": "dacde703-5889-4221-b9d0-037e21b9caf3",
   "metadata": {},
   "outputs": [
    {
     "name": "stderr",
     "output_type": "stream",
     "text": [
      "2023-10-19 15:26:18.456552: W pjrt_plugin/src/mps_client.cc:534] WARNING: JAX Apple GPU support is experimental and not all JAX functionality is correctly supported!\n"
     ]
    },
    {
     "name": "stdout",
     "output_type": "stream",
     "text": [
      "Metal device set to: Apple M2 Max\n"
     ]
    }
   ],
   "source": [
    "\"\"\" Smoke Plume\n",
    "Hot smoke is emitted from a circular region at the bottom.\n",
    "The simulation computes the resulting air flow in a closed box.\n",
    "\"\"\"\n",
    "#from phi.flow import *  # minimal dependencies\n",
    "# from phi.torch.flow import *\n",
    "# from phi.tf.flow import *\n",
    "from phi.jax.flow import *\n",
    "\n",
    "Res       = 200   # Resolution\n",
    "Smoke_Pos = 50\n",
    "\n",
    "Walls = Obstacle(union(\n",
    "    [Box(x=(20, 60), y=(50, 51)), #bottom wall\n",
    "    Box(x=(80, 100), y=(70, 71)), #top bar\n",
    "    Box(x=(20, 21), y=(50, 65)),\n",
    "    Box(x=(45, 46), y=(50, 65)),\n",
    "    Box(x=(30, 31), y=(80, 100)),\n",
    "    ]\n",
    "))\n",
    "\n",
    "\n",
    "\n",
    "velocity = StaggeredGrid(0, x=Res, y=Res, bounds=Box(x=100, y=100))  # or CenteredGrid(...)\n",
    "smoke = CenteredGrid(0, ZERO_GRADIENT, x=2*Res, y=2*Res, bounds=Box(x=100, y=100))\n",
    "inflow = 0.05 * resample(Sphere(x=Smoke_Pos, y=10, radius=5), to=smoke, soft=True)\n",
    "\n",
    "pressure = None\n",
    "\n",
    "\n",
    "@jit_compile  # Only for PyTorch, TensorFlow and Jax\n",
    "def step(v, s, p, dt=1.):\n",
    "    s = advect.mac_cormack(s, v, dt) + inflow\n",
    "    buoyancy = resample(s * (0, 0.1), to=v)\n",
    "    v = advect.semi_lagrangian(v, v, dt) + buoyancy * dt\n",
    "    v, p = fluid.make_incompressible(v, Walls, Solve('auto', 1e-4, 0, x0=p))\n",
    "    return v, s, p"
   ]
  },
  {
   "cell_type": "code",
   "execution_count": 8,
   "id": "506d3ee1-a3bb-4c7d-bf26-056adab43778",
   "metadata": {},
   "outputs": [
    {
     "data": {
      "image/png": "[encoded data removed]",
      "text/plain": [
       "<Figure size 1200x500 with 1 Axes>"
      ]
     },
     "metadata": {},
     "output_type": "display_data"
    }
   ],
   "source": [
    "for _ in range(1):\n",
    "    velocity, smoke, pressure = step(velocity, smoke, pressure)\n",
    "    plot(vis.overlay(smoke,Walls.geometry), alpha=1, show_color_bar=False, animate='time')"
   ]
  },
  {
   "cell_type": "code",
   "execution_count": 4,
   "id": "1dc36fb6-3d00-4875-ae63-c3fdd0ddab50",
   "metadata": {},
   "outputs": [
    {
     "ename": "KeyboardInterrupt",
     "evalue": "",
     "output_type": "error",
     "traceback": [
      "\u001b[0;31m---------------------------------------------------------------------------\u001b[0m",
      "\u001b[0;31mKeyboardInterrupt\u001b[0m                         Traceback (most recent call last)",
      "Cell \u001b[0;32mIn[4], line 1\u001b[0m\n\u001b[0;32m----> 1\u001b[0m trj \u001b[38;5;241m=\u001b[39m \u001b[43miterate\u001b[49m\u001b[43m(\u001b[49m\u001b[43mstep\u001b[49m\u001b[43m,\u001b[49m\u001b[43m \u001b[49m\u001b[43mbatch\u001b[49m\u001b[43m(\u001b[49m\u001b[43mtime\u001b[49m\u001b[38;5;241;43m=\u001b[39;49m\u001b[38;5;241;43m100\u001b[39;49m\u001b[43m)\u001b[49m\u001b[43m,\u001b[49m\u001b[43m \u001b[49m\u001b[43mvelocity\u001b[49m\u001b[43m,\u001b[49m\u001b[43m \u001b[49m\u001b[43msmoke\u001b[49m\u001b[43m,\u001b[49m\u001b[43m \u001b[49m\u001b[43mpressure\u001b[49m\u001b[43m)\u001b[49m\n",
      "File \u001b[0;32m~/.pyenv/versions/jax/lib/python3.11/site-packages/phiml/math/_functional.py:1096\u001b[0m, in \u001b[0;36miterate\u001b[0;34m(f, iterations, f_kwargs, range, measure, *x0, **f_kwargs_)\u001b[0m\n\u001b[1;32m   1094\u001b[0m ts \u001b[38;5;241m=\u001b[39m [measure()] \u001b[38;5;28;01mif\u001b[39;00m measure \u001b[38;5;28;01melse\u001b[39;00m \u001b[38;5;28;01mNone\u001b[39;00m\n\u001b[1;32m   1095\u001b[0m \u001b[38;5;28;01mfor\u001b[39;00m _ \u001b[38;5;129;01min\u001b[39;00m \u001b[38;5;28mrange\u001b[39m(iterations\u001b[38;5;241m.\u001b[39msize):\n\u001b[0;32m-> 1096\u001b[0m     x \u001b[38;5;241m=\u001b[39m \u001b[43mf\u001b[49m\u001b[43m(\u001b[49m\u001b[38;5;241;43m*\u001b[39;49m\u001b[43mx\u001b[49m\u001b[43m,\u001b[49m\u001b[43m \u001b[49m\u001b[38;5;241;43m*\u001b[39;49m\u001b[38;5;241;43m*\u001b[39;49m\u001b[43mf_kwargs\u001b[49m\u001b[43m)\u001b[49m\n\u001b[1;32m   1097\u001b[0m     \u001b[38;5;28;01mif\u001b[39;00m \u001b[38;5;129;01mnot\u001b[39;00m \u001b[38;5;28misinstance\u001b[39m(x, \u001b[38;5;28mtuple\u001b[39m):\n\u001b[1;32m   1098\u001b[0m         x \u001b[38;5;241m=\u001b[39m (x,)\n",
      "File \u001b[0;32m~/.pyenv/versions/jax/lib/python3.11/site-packages/phiml/math/_functional.py:198\u001b[0m, in \u001b[0;36mJitFunction.__call__\u001b[0;34m(self, *args, **kwargs)\u001b[0m\n\u001b[1;32m    193\u001b[0m             \u001b[38;5;28;01mif\u001b[39;00m \u001b[38;5;28mlen\u001b[39m(\u001b[38;5;28mself\u001b[39m\u001b[38;5;241m.\u001b[39mtraces) \u001b[38;5;241m>\u001b[39m\u001b[38;5;241m=\u001b[39m \u001b[38;5;241m10\u001b[39m:\n\u001b[1;32m    194\u001b[0m                 warnings\u001b[38;5;241m.\u001b[39mwarn(\u001b[38;5;124mf\u001b[39m\u001b[38;5;124m\"\"\"\u001b[39m\u001b[38;5;124mΦ-ML-lin: The jit-compiled function \u001b[39m\u001b[38;5;124m'\u001b[39m\u001b[38;5;132;01m{\u001b[39;00mf_name(\u001b[38;5;28mself\u001b[39m\u001b[38;5;241m.\u001b[39mf)\u001b[38;5;132;01m}\u001b[39;00m\u001b[38;5;124m'\u001b[39m\u001b[38;5;124m was traced \u001b[39m\u001b[38;5;132;01m{\u001b[39;00m\u001b[38;5;28mlen\u001b[39m(\u001b[38;5;28mself\u001b[39m\u001b[38;5;241m.\u001b[39mtraces)\u001b[38;5;132;01m}\u001b[39;00m\u001b[38;5;124m times.\u001b[39m\n\u001b[1;32m    195\u001b[0m \u001b[38;5;124mPerforming many traces may be slow and cause memory leaks.\u001b[39m\n\u001b[1;32m    196\u001b[0m \u001b[38;5;124mRe-tracing occurs when the number or types of arguments vary, tensor shapes vary between calls or different auxiliary arguments are given (compared by reference).\u001b[39m\n\u001b[1;32m    197\u001b[0m \u001b[38;5;124mSet forget_traces=True to avoid memory leaks when many traces are required.\u001b[39m\u001b[38;5;124m\"\"\"\u001b[39m, \u001b[38;5;167;01mRuntimeWarning\u001b[39;00m)\n\u001b[0;32m--> 198\u001b[0m         native_result \u001b[38;5;241m=\u001b[39m \u001b[38;5;28;43mself\u001b[39;49m\u001b[38;5;241;43m.\u001b[39;49m\u001b[43mtraces\u001b[49m\u001b[43m[\u001b[49m\u001b[43mkey\u001b[49m\u001b[43m]\u001b[49m\u001b[43m(\u001b[49m\u001b[38;5;241;43m*\u001b[39;49m\u001b[43mnatives\u001b[49m\u001b[43m)\u001b[49m\n\u001b[1;32m    199\u001b[0m         output_key \u001b[38;5;241m=\u001b[39m match_output_signature(key, \u001b[38;5;28mself\u001b[39m\u001b[38;5;241m.\u001b[39mrecorded_mappings, \u001b[38;5;28mself\u001b[39m)\n\u001b[1;32m    200\u001b[0m         output_tensors \u001b[38;5;241m=\u001b[39m assemble_tensors(native_result, output_key\u001b[38;5;241m.\u001b[39mspecs)\n",
      "File \u001b[0;32m~/.pyenv/versions/jax/lib/python3.11/site-packages/phiml/backend/jax/_jax_backend.py:219\u001b[0m, in \u001b[0;36mJaxBackend.jit_compile.<locals>.run_jit_f\u001b[0;34m(*args)\u001b[0m\n\u001b[1;32m    216\u001b[0m \u001b[38;5;28;01mdef\u001b[39;00m \u001b[38;5;21mrun_jit_f\u001b[39m(\u001b[38;5;241m*\u001b[39margs):\n\u001b[1;32m    217\u001b[0m     \u001b[38;5;66;03m# print(jax.make_jaxpr(f)(*args))\u001b[39;00m\n\u001b[1;32m    218\u001b[0m     ML_LOGGER\u001b[38;5;241m.\u001b[39mdebug(\u001b[38;5;124mf\u001b[39m\u001b[38;5;124m\"\u001b[39m\u001b[38;5;124mJaxBackend: running jit-compiled \u001b[39m\u001b[38;5;124m'\u001b[39m\u001b[38;5;132;01m{\u001b[39;00mf\u001b[38;5;241m.\u001b[39m\u001b[38;5;18m__name__\u001b[39m\u001b[38;5;132;01m}\u001b[39;00m\u001b[38;5;124m'\u001b[39m\u001b[38;5;124m with shapes \u001b[39m\u001b[38;5;132;01m{\u001b[39;00m[\u001b[38;5;28mself\u001b[39m\u001b[38;5;241m.\u001b[39mshape(arg)\u001b[38;5;250m \u001b[39m\u001b[38;5;28;01mfor\u001b[39;00m\u001b[38;5;250m \u001b[39marg\u001b[38;5;250m \u001b[39m\u001b[38;5;129;01min\u001b[39;00m\u001b[38;5;250m \u001b[39margs]\u001b[38;5;132;01m}\u001b[39;00m\u001b[38;5;124m and dtypes \u001b[39m\u001b[38;5;132;01m{\u001b[39;00m[\u001b[38;5;28mself\u001b[39m\u001b[38;5;241m.\u001b[39mdtype(arg)\u001b[38;5;250m \u001b[39m\u001b[38;5;28;01mfor\u001b[39;00m\u001b[38;5;250m \u001b[39marg\u001b[38;5;250m \u001b[39m\u001b[38;5;129;01min\u001b[39;00m\u001b[38;5;250m \u001b[39margs]\u001b[38;5;132;01m}\u001b[39;00m\u001b[38;5;124m\"\u001b[39m)\n\u001b[0;32m--> 219\u001b[0m     \u001b[38;5;28;01mreturn\u001b[39;00m \u001b[38;5;28;43mself\u001b[39;49m\u001b[38;5;241;43m.\u001b[39;49m\u001b[43mas_registered\u001b[49m\u001b[38;5;241;43m.\u001b[39;49m\u001b[43mcall\u001b[49m\u001b[43m(\u001b[49m\u001b[43mjit_f\u001b[49m\u001b[43m,\u001b[49m\u001b[43m \u001b[49m\u001b[38;5;241;43m*\u001b[39;49m\u001b[43margs\u001b[49m\u001b[43m,\u001b[49m\u001b[43m \u001b[49m\u001b[43mname\u001b[49m\u001b[38;5;241;43m=\u001b[39;49m\u001b[38;5;124;43mf\u001b[39;49m\u001b[38;5;124;43m\"\u001b[39;49m\u001b[38;5;124;43mrun jit-compiled \u001b[39;49m\u001b[38;5;124;43m'\u001b[39;49m\u001b[38;5;132;43;01m{\u001b[39;49;00m\u001b[43mf\u001b[49m\u001b[38;5;241;43m.\u001b[39;49m\u001b[38;5;18;43m__name__\u001b[39;49m\u001b[38;5;132;43;01m}\u001b[39;49;00m\u001b[38;5;124;43m'\u001b[39;49m\u001b[38;5;124;43m\"\u001b[39;49m\u001b[43m)\u001b[49m\n",
      "File \u001b[0;32m~/.pyenv/versions/jax/lib/python3.11/site-packages/phiml/backend/_backend.py:396\u001b[0m, in \u001b[0;36mBackend.call\u001b[0;34m(self, f, name, *args)\u001b[0m\n\u001b[1;32m    387\u001b[0m \u001b[38;5;28;01mdef\u001b[39;00m \u001b[38;5;21mcall\u001b[39m(\u001b[38;5;28mself\u001b[39m, f: Callable, \u001b[38;5;241m*\u001b[39margs, name\u001b[38;5;241m=\u001b[39m\u001b[38;5;28;01mNone\u001b[39;00m):\n\u001b[1;32m    388\u001b[0m \u001b[38;5;250m    \u001b[39m\u001b[38;5;124;03m\"\"\"\u001b[39;00m\n\u001b[1;32m    389\u001b[0m \u001b[38;5;124;03m    Calls `f(*args)` and returns the result.\u001b[39;00m\n\u001b[1;32m    390\u001b[0m \u001b[38;5;124;03m    This method may be used to register internal calls with the profiler.\u001b[39;00m\n\u001b[0;32m   (...)\u001b[0m\n\u001b[1;32m    394\u001b[0m \u001b[38;5;124;03m        choose_backend(key).call(custom_function, *args)\u001b[39;00m\n\u001b[1;32m    395\u001b[0m \u001b[38;5;124;03m    \"\"\"\u001b[39;00m\n\u001b[0;32m--> 396\u001b[0m     \u001b[38;5;28;01mreturn\u001b[39;00m \u001b[43mf\u001b[49m\u001b[43m(\u001b[49m\u001b[38;5;241;43m*\u001b[39;49m\u001b[43margs\u001b[49m\u001b[43m)\u001b[49m\n",
      "\u001b[0;31mKeyboardInterrupt\u001b[0m: "
     ]
    }
   ],
   "source": [
    "trj = iterate(step, batch(time=100), velocity, smoke, pressure)"
   ]
  },
  {
   "cell_type": "code",
   "execution_count": 6,
   "id": "8a9d78dd-4a31-42c3-890b-b410ecac7ab5",
   "metadata": {},
   "outputs": [
    {
     "ename": "NameError",
     "evalue": "name 'trj' is not defined",
     "output_type": "error",
     "traceback": [
      "\u001b[0;31m---------------------------------------------------------------------------\u001b[0m",
      "\u001b[0;31mNameError\u001b[0m                                 Traceback (most recent call last)",
      "Cell \u001b[0;32mIn[6], line 1\u001b[0m\n\u001b[0;32m----> 1\u001b[0m plot(vis\u001b[38;5;241m.\u001b[39moverlay(\u001b[43mtrj\u001b[49m[\u001b[38;5;241m1\u001b[39m],Walls\u001b[38;5;241m.\u001b[39mgeometry), alpha\u001b[38;5;241m=\u001b[39m\u001b[38;5;241m1\u001b[39m, show_color_bar\u001b[38;5;241m=\u001b[39m\u001b[38;5;28;01mFalse\u001b[39;00m, animate\u001b[38;5;241m=\u001b[39m\u001b[38;5;124m'\u001b[39m\u001b[38;5;124mtime\u001b[39m\u001b[38;5;124m'\u001b[39m)\n",
      "\u001b[0;31mNameError\u001b[0m: name 'trj' is not defined"
     ]
    }
   ],
   "source": [
    "plot(vis.overlay(trj[1],Walls.geometry), alpha=1, show_color_bar=False, animate='time')"
   ]
  },
  {
   "cell_type": "code",
   "execution_count": 57,
   "id": "c315764f-a7a4-4f29-9f18-6cdf5d009e19",
   "metadata": {},
   "outputs": [
    {
     "data": {
      "text/plain": [
       "(101, 400, 400, 1)"
      ]
     },
     "execution_count": 57,
     "metadata": {},
     "output_type": "execute_result"
    }
   ],
   "source": [
    "trj[1].uniform_values().numpy('time,x,y,vector').shape"
   ]
  },
  {
   "cell_type": "code",
   "execution_count": 68,
   "id": "8c1ff544-7253-42c2-8371-ff087feba32b",
   "metadata": {},
   "outputs": [
    {
     "data": {
      "text/plain": [
       "(101, 201, 201, 2)"
      ]
     },
     "execution_count": 68,
     "metadata": {},
     "output_type": "execute_result"
    }
   ],
   "source": [
    "trj[0].uniform_values().numpy('time,x,y,vector').shape"
   ]
  },
  {
   "cell_type": "code",
   "execution_count": 74,
   "id": "871487d4-cd2a-4599-a813-f8409b2fb66a",
   "metadata": {},
   "outputs": [],
   "source": [
    "import h5py\n",
    "\n",
    "hf = h5py.File(\"Smoke-Flow-Data.h5\", \"w\")\n",
    "g1 = hf.create_group('experiment-1')"
   ]
  },
  {
   "cell_type": "code",
   "execution_count": 75,
   "id": "4cee0f19-507b-4f97-ad2f-203a08e94ab6",
   "metadata": {},
   "outputs": [
    {
     "data": {
      "text/plain": [
       "<HDF5 dataset \"velocity\": shape (101, 201, 201, 2), type \"<f4\">"
      ]
     },
     "execution_count": 75,
     "metadata": {},
     "output_type": "execute_result"
    }
   ],
   "source": [
    "g1.create_dataset('velocity', data=trj[0].uniform_values().numpy('time,x,y,vector'))"
   ]
  },
  {
   "cell_type": "code",
   "execution_count": 76,
   "id": "36ea0a54-de3c-4ac7-8582-26f6a5fd22a0",
   "metadata": {},
   "outputs": [
    {
     "data": {
      "text/plain": [
       "<HDF5 dataset \"density\": shape (101, 400, 400, 1), type \"<f4\">"
      ]
     },
     "execution_count": 76,
     "metadata": {},
     "output_type": "execute_result"
    }
   ],
   "source": [
    "g1.create_dataset('density', data=trj[1].uniform_values().numpy('time,x,y,vector'))"
   ]
  },
  {
   "cell_type": "code",
   "execution_count": 83,
   "id": "456aa43d-274e-42b8-ba4a-e86931dd8ed7",
   "metadata": {},
   "outputs": [],
   "source": [
    "g1.attrs['Smoke_Pos'] = Smoke_Pos"
   ]
  },
  {
   "cell_type": "code",
   "execution_count": 85,
   "id": "de76be41-aac7-4972-8a37-e65c5447a474",
   "metadata": {},
   "outputs": [],
   "source": [
    "hf.close()"
   ]
  },
  {
   "cell_type": "code",
   "execution_count": null,
   "id": "7466d0b9-741a-457d-a700-3b7b98314465",
   "metadata": {},
   "outputs": [],
   "source": []
  }
 ],
 "metadata": {
  "kernelspec": {
   "display_name": "Python 3 (ipykernel)",
   "language": "python",
   "name": "python3"
  },
  "language_info": {
   "codemirror_mode": {
    "name": "ipython",
    "version": 3
   },
   "file_extension": ".py",
   "mimetype": "text/x-python",
   "name": "python",
   "nbconvert_exporter": "python",
   "pygments_lexer": "ipython3",
   "version": "3.11.5"
  }
 },
 "nbformat": 4,
 "nbformat_minor": 5
}
