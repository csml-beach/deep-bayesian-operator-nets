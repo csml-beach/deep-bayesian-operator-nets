{
 "cells": [
  {
   "cell_type": "code",
   "execution_count": 59,
   "metadata": {
    "id": "hBc_Jy8VUgOI"
   },
   "outputs": [],
   "source": [
    "import torch\n",
    "import numpy as np\n",
    "from numpy.ma.core import outer\n",
    "from sys import stderr\n",
    "import torch.nn as nn\n",
    "import torch.nn.functional as F\n",
    "import torch.optim as optim\n",
    "from scipy import stats\n",
    "import matplotlib.pyplot as plt\n",
    "from matplotlib.pyplot import scatter, figure\n",
    "from torch.utils.data import TensorDataset, DataLoader\n",
    "import pandas as pd\n",
    "import seaborn as sns\n",
    "sns.set(rc={'figure.figsize':(4, 4)})\n",
    "\n",
    "import warnings\n",
    "\n",
    "warnings.filterwarnings('ignore')\n",
    "\n",
    "\n",
    "batch_size = 100\n",
    "\n",
    "class Experiment(nn.Module):\n",
    "    def __init__(self):\n",
    "        super(Experiment, self).__init__()\n",
    "\n",
    "        self.device = torch.device(\"cuda:0\" if torch.cuda.is_available() else \"mps\" if torch.backends.mps.is_available() else \"cpu\")\n",
    "        print(self.device)\n",
    "\n",
    "        self.optimizer = None\n",
    "        self.train_loss_history = []\n",
    "        self.w_ic = 1.5\n",
    "        self.w_int = 1\n",
    "        self.w_data = 1\n",
    "        self.w_bc = 1.5\n",
    "        self.w_param_std = 1.0\n",
    "        self.numInputs = 2\n",
    "        self.numParams = 2\n",
    "        self.numOutputs = 1\n",
    "        self.hidden_size = 25\n",
    "\n",
    "        # Initialize history variables\n",
    "        self.total_loss_history = []\n",
    "        self.loss_ic_history = []\n",
    "        self.loss_interior_history = []\n",
    "        self.loss_data_history = []\n",
    "        self.loss_bc_history = []\n",
    "        self.loss_std_history = []\n",
    "\n",
    "        self.t0 = torch.tensor([0.0], requires_grad=True).to(self.device)\n",
    "        self.y0 = torch.tensor([1.0], requires_grad=True).to(self.device)\n",
    "\n",
    "\n",
    "#         self.predicted_params = torch.zeros((self.numParams,1), requires_grad=True, device=self.device)\n",
    "        self.predicted_params = torch.zeros((batch_size,2), requires_grad=True, device=self.device)\n",
    "#         print(\"predicted_params inside init\", self.predicted_params)\n",
    "\n",
    "        # We only have 1 input feature\n",
    "        self.b1 = nn.Linear(self.numInputs, self.hidden_size).to(self.device)\n",
    "        self.b2 = nn.Linear(self.hidden_size, self.hidden_size).to(self.device)\n",
    "        self.b3 = nn.Linear(self.hidden_size, self.numOutputs).to(self.device)\n",
    "\n",
    "        self.t1 = nn.Linear(self.hidden_size, self.hidden_size).to(self.device)\n",
    "        self.t2 = nn.Linear(self.hidden_size, self.hidden_size).to(self.device)\n",
    "        self.t3 = nn.Linear(self.hidden_size, self.numParams).to(self.device)\n",
    "\n",
    "\n",
    "    # make this static so that it can be called independently\n",
    "    @staticmethod\n",
    "    def exact_solution(t, x):\n",
    "        return torch.exp(-t) * torch.sin(torch.pi * x)\n",
    "\n",
    "\n",
    "    def forward(self, t, x):\n",
    "        if not torch.is_tensor(t):\n",
    "            t = torch.from_numpy(t).float().to(self.device)\n",
    "\n",
    "        if not torch.is_tensor(x):\n",
    "\n",
    "            x = torch.from_numpy(x).float().to(self.device)\n",
    "\n",
    "\n",
    "        input = torch.cat((t, x), 1)\n",
    "\n",
    "        h1 = torch.tanh(self.b1(input))\n",
    "        h2 = torch.tanh(self.b2(h1))\n",
    "\n",
    "\n",
    "\n",
    "        prior_param_sample = torch.rand(batch_size, self.hidden_size , device=self.device).requires_grad_(True)\n",
    "        # print(\"\\n Forward prior param sample shape\\n\", prior_param_sample.shape)\n",
    "\n",
    "        # prior_param_sample = self.sample_parameter_posterior(num_samples=100)\n",
    "\n",
    "\n",
    "        t1 = torch.tanh(self.t1(prior_param_sample))\n",
    "        t2 = torch.tanh(self.t2(t1))\n",
    "        posterior_param_sample = self.t3(t2)\n",
    "\n",
    "\n",
    "        # print(\"\\n Forward posterior_param_sample: \\n\", posterior_param_sample.shape)\n",
    "        self.predicted_params = posterior_param_sample\n",
    "\n",
    "#         self.predicted_params = posterior_param_sample\n",
    "#         self.predicted_params = posterior_param_sample.view(-1)\n",
    "#         print(\"\\n predicted params inside forward\", self.predicted_params)\n",
    "\n",
    "        y = self.b3(torch.multiply(t2, h2))\n",
    "\n",
    "        return y\n",
    "\n",
    "\n",
    "    # General formula to compute the n-th order derivative of y = f(x) with respect to x\n",
    "    def compute_derivative(self, y, x, n):\n",
    "        if n == 0:\n",
    "            return y\n",
    "        else:\n",
    "            dy_dx = torch.autograd.grad(y, x, torch.ones_like(y, device= self.device),\n",
    "                                        create_graph=True, retain_graph=True,\n",
    "                                        allow_unused=True)[0]\n",
    "\n",
    "        return self.compute_derivative(dy_dx, x, n - 1)\n",
    "\n",
    "\n",
    "\n",
    "    def PDE_residual(self, t, x):\n",
    "        y = self.forward(t, x)\n",
    "        dy_dt = self.compute_derivative(y, t, 1)\n",
    "        dy_dx = self.compute_derivative(y, x, 1)\n",
    "        d2y_dx2 = self.compute_derivative(y, x, 2)\n",
    "\n",
    "        # print(\"\\n \\n\")\n",
    "        # print(\"X shape:\" , x.shape)\n",
    "        # print(\"Y shape:\" , y.shape)\n",
    "        # print(\"dy_dt shape:\" , dy_dt.shape)\n",
    "        # print(\"d2y_dx2 shape:\" , d2y_dx2.shape)\n",
    "        # print(\"predicted params\", self.predicted_params.shape)\n",
    "\n",
    "\n",
    "\n",
    "        residual =  dy_dt - torch.multiply(self.predicted_params[:,[0]], d2y_dx2) \\\n",
    "            + torch.exp(- self.predicted_params[:,[1]] * t) * (torch.sin(torch.tensor(np.pi) * x) - torch.tensor(np.pi) ** 2 * torch.sin(torch.tensor(np.pi) * x))\n",
    "\n",
    "\n",
    "\n",
    "        return residual\n",
    "\n",
    "\n",
    "\n",
    "    def loss_initial_condition(self, num_samples=100):\n",
    "        t0 = self.t0 * torch.ones((num_samples, 1), device = self.device)\n",
    "        x = 2*torch.rand((num_samples, 1), device=self.device).requires_grad_(True)  - 1.0\n",
    "        y0_pred = self.forward(t0, x)\n",
    "        y0_true = self.exact_solution(t0, x)\n",
    "        loss_ic = torch.mean(torch.square(y0_true - y0_pred))\n",
    "        return loss_ic\n",
    "\n",
    "\n",
    "    def loss_boundary_condition(self, num_samples=100):\n",
    "        x_low = -1\n",
    "        x_high = 1\n",
    "        xb_low   = x_low * torch.ones((num_samples, 1),  device = self.device)\n",
    "        xb_high  = x_high * torch.ones((num_samples, 1), device = self.device)\n",
    "\n",
    "        t = 2*torch.rand((num_samples, 1), device=self.device).requires_grad_(True) - 1.0\n",
    "\n",
    "        yb_low = self.exact_solution(t, xb_low)\n",
    "        yb_high = self.exact_solution(t, xb_high)\n",
    "\n",
    "        yb_pred_low = self.forward(t, xb_low)\n",
    "        yb_pred_high = self.forward(t, xb_high)\n",
    "\n",
    "        loss_ic = torch.mean(torch.square(yb_pred_low - yb_low)) \\\n",
    "                + torch.mean(torch.square(yb_pred_high - yb_high))\n",
    "\n",
    "        return loss_ic\n",
    "\n",
    "\n",
    "    def compute_losses(self):\n",
    "        loss_ic = self.loss_initial_condition()\n",
    "        loss_interior = self.loss_interior()\n",
    "        loss_data = self.loss_data()\n",
    "        loss_bc = self.loss_boundary_condition()\n",
    "        return loss_ic, loss_interior, loss_data, loss_bc\n",
    "\n",
    "\n",
    "    def loss_data(self, num_samples=100):\n",
    "        t_data, x_data, y_data = next(iter(train_loader))\n",
    "        y_pred = self.forward(t_data, x_data)\n",
    "        loss = torch.mean(torch.square(y_pred - y_data))\n",
    "        return loss\n",
    "\n",
    "\n",
    "    def loss_interior(self, num_samples=100):\n",
    "\n",
    "        interior_t_samples = torch.rand((num_samples, 1),   device=self.device).requires_grad_(True)\n",
    "        interior_x_samples = 2*torch.rand((num_samples, 1), device=self.device).requires_grad_(True)  - 1.0\n",
    "        res = self.PDE_residual(interior_t_samples, interior_x_samples)\n",
    "        loss_residual = torch.mean(torch.square(res))\n",
    "        return loss_residual\n",
    "#         return res\n",
    "\n",
    "\n",
    "    def sample_parameter_posterior(self, num_samples=100):\n",
    "        prior_param_samples = torch.rand(num_samples, self.hidden_size, device=self.device).requires_grad_(True)\n",
    "        t1 = torch.tanh(self.t1(prior_param_samples))\n",
    "        t2 = torch.tanh(self.t2(t1))\n",
    "        posterior_param_samples = self.t3(t2)\n",
    "        # print(\"\\n posterior samples size in sample param post function\", posterior_param_samples.shape)\n",
    "#         print(\"\\n\")\n",
    "        return posterior_param_samples\n",
    "\n",
    "\n",
    "\n",
    "    def update_predicted_params(self, posterior_samples):\n",
    "\n",
    "        mean = torch.mean(posterior_samples, dim=0)  # Compute the mean along the first axis\n",
    "        std = torch.std(posterior_samples, dim=0)    # Compute the standard deviation along the first axis\n",
    "\n",
    "        self.predicted_params = posterior_samples\n",
    "        self.mean_predicted_params = mean  # Store the mean\n",
    "        self.std_params = std  # Attach the standard deviation as an attribute\n",
    "\n",
    "\n",
    "    def closure(self):\n",
    "        self.optimizer.zero_grad()\n",
    "        loss_ic, loss_interior, loss_data, loss_bc = self.compute_losses()\n",
    "        total_loss = self.w_ic * loss_ic \\\n",
    "                   + self.w_int * loss_interior \\\n",
    "                   + self.w_data * loss_data \\\n",
    "                   + self.w_bc * loss_bc\n",
    "\n",
    "        # Sample the parameter posterior and update self.predicted_params and self.std_params\n",
    "        posterior_samples = self.sample_parameter_posterior(num_samples=100)\n",
    "        self.update_predicted_params(posterior_samples)\n",
    "        # print(\"posterior samples in closure after update: \", self.predicted_params)\n",
    "\n",
    "        # Add the (Log(std))**2 term to the loss with the specified weight\n",
    "        self.log_std_squared_loss = self.w_param_std * torch.mean(torch.log(self.std_params)**2)\n",
    "        total_loss += self.log_std_squared_loss\n",
    "\n",
    "        total_loss.backward(retain_graph=True)\n",
    "        return total_loss\n",
    "\n",
    "\n",
    "    def train(self, epochs, optimizer='Adam', num_samples=100, **kwargs):\n",
    "        if optimizer == 'Adam':\n",
    "            self.optimizer = torch.optim.Adam(self.parameters(), **kwargs)\n",
    "\n",
    "        elif optimizer == 'L-BFGS':\n",
    "            self.optimizer = torch.optim.LBFGS(self.parameters(), **kwargs)\n",
    "\n",
    "        scheduler = torch.optim.lr_scheduler.ReduceLROnPlateau(self.optimizer, mode='min', factor=0.1, patience=10, verbose=True)\n",
    "\n",
    "\n",
    "        # Training loop\n",
    "        for epoch in range(epochs):\n",
    "            self.optimizer.step(self.closure)\n",
    "            if epoch % 1000 == 0:\n",
    "                loss_ic, loss_interior, loss_data, loss_bc = self.compute_losses()\n",
    "                total_loss = loss_ic + loss_interior + loss_data + loss_bc\n",
    "\n",
    "                scheduler.step(total_loss)\n",
    "\n",
    "                # Append losses to history\n",
    "                self.total_loss_history.append(total_loss.item())\n",
    "                self.loss_ic_history.append(loss_ic.item())\n",
    "                self.loss_interior_history.append(loss_interior.item())\n",
    "                self.loss_data_history.append(loss_data.item())\n",
    "                self.loss_bc_history.append(loss_bc.item())\n",
    "                self.loss_std_history.append(self.log_std_squared_loss.item())\n",
    "\n",
    "#                 print(f'Epoch({optimizer}):{epoch},  Total Loss:{total_loss.item():.2f}  ' \\\n",
    "#                         f'PDE Loss:{loss_interior.item():.2f}  ' \\\n",
    "#                         f'BC Loss:{loss_bc.item():.2f}  ' \\\n",
    "#                         f'IC Loss: {loss_ic.item():.2f}  ' \\\n",
    "#                         f'Predicted Param:{self.predicted_params.detach().cpu().numpy()[0]:.2f}  ' \\\n",
    "#                         f'Std Params:{self.std_params.detach().cpu().numpy()[0]:.2f}  ' \\\n",
    "#                         f'Std Log Loss:{self.log_std_squared_loss.item():.2f}')\n",
    "\n",
    "                print(f'Epoch({optimizer}):{epoch},  Total Loss:{total_loss.item():.2f}  ' \\\n",
    "                        f'PDE Loss:{loss_interior.item():.2f}  ' \\\n",
    "                        f'BC Loss:{loss_bc.item():.2f}  ' \\\n",
    "                        f'IC Loss: {loss_ic.item():.2f}  ' \\\n",
    "#                         f'Predicted Param:{self.predicted_params.detach().cpu().numpy()[0][0]:.2f}'\n",
    "                        f'Mean Predicted Param: {self.mean_predicted_params[0]:.2f} ' \\\n",
    "                        f'Std Params:{self.std_params.detach().cpu().numpy()[0]:.2f}  ' \\\n",
    "                        f'Std Log Loss:{self.log_std_squared_loss.item():.2f}')"
   ]
  },
  {
   "cell_type": "code",
   "execution_count": 60,
   "metadata": {
    "id": "qktqyo9XUm1y"
   },
   "outputs": [],
   "source": [
    "def sample_dataset(noise=0.1, numSamples=100, device='cpu'):\n",
    "    t = torch.linspace(0, 1, numSamples, device=device) # Time domain\n",
    "    x = torch.linspace(-1, 1, numSamples, device=device) # Space domain\n",
    "\n",
    "    T, X   = torch.meshgrid(t, x) # Time-Space domain\n",
    "\n",
    "    y_true = Experiment.exact_solution(T, X)\n",
    "    T      = T.reshape(-1, 1) # Reshape to 2D to 1D\n",
    "    X      = X.reshape(-1, 1) # Resahpe to 2D to 1D\n",
    "\n",
    "    sample_mean = y_true.reshape(-1, 1)\n",
    "    sample_var  = noise * torch.ones_like(sample_mean)\n",
    "    Y_noisy     = torch.normal(sample_mean, sample_var)\n",
    "\n",
    "    return T, X, Y_noisy\n",
    "\n",
    "\n",
    "def create_train_test_datasets(device='cpu', batch_size = batch_size):\n",
    "    t_train, x_train, y_train = sample_dataset(noise=0.01, numSamples=10, device=device)\n",
    "    t_test, x_test, y_test = sample_dataset(noise=0.0, numSamples=100, device=device)\n",
    "\n",
    "    fig = plt.figure()\n",
    "    size = int(t_test.size(0)**0.5)\n",
    "\n",
    "\n",
    "    plt.contourf(t_test.view(size, size).cpu().detach().numpy(),\n",
    "                 x_test.view(size, size).cpu().detach().numpy(),\n",
    "                 y_test.view(size, size).cpu().detach().numpy())\n",
    "    plt.xlabel('t'); plt.ylabel('x');\n",
    "    plt.colorbar()\n",
    "\n",
    "    train_dataset = TensorDataset(t_train, x_train, y_train)\n",
    "    train_loader = DataLoader(train_dataset, batch_size=batch_size, shuffle=True)\n",
    "\n",
    "    test_dataset = TensorDataset(t_test, x_test, y_test)\n",
    "    test_loader = DataLoader(test_dataset, batch_size=batch_size, shuffle=True)\n",
    "\n",
    "    return train_loader, test_loader\n",
    "\n",
    "\n",
    "def plot_residuals(net, device, noise=0.0):\n",
    "    t_test, x_test, y_test = sample_dataset(noise=noise, device=device)\n",
    "    mu   = net.forward(t_test, x_test)\n",
    "\n",
    "    fig  = plt.figure(figsize=(6, 3))\n",
    "    ax1  = plt.subplot(121)\n",
    "    size = int(np.sqrt(x_test.size(0)))\n",
    "\n",
    "    # Calculate the residuals (difference between predictions and ground truth)\n",
    "    absDifference  = torch.abs(mu - y_test)\n",
    "    residuals      = absDifference.view(size, size).cpu().detach().numpy()\n",
    "\n",
    "    # Create a contour plot of the residuals\n",
    "    cax = ax1.contourf(t_test.view(size, size).cpu().detach().numpy(),\n",
    "                       x_test.view(size, size).cpu().detach().numpy(),\n",
    "                       residuals)\n",
    "\n",
    "    plt.colorbar(cax)\n",
    "    plt.xlabel('t');plt.ylabel('x')\n",
    "    plt.show()\n",
    "\n",
    "\n",
    "def make_plot(net, device):\n",
    "    t_test, x_test, y_test = sample_dataset(noise=0.0, device=device)\n",
    "    mu = net.forward(t_test, x_test)\n",
    "\n",
    "    fig = plt.figure(figsize=(6, 3))\n",
    "    ax1 = plt.subplot(121)\n",
    "    ax2 = plt.subplot(122, sharex=ax1)\n",
    "    size = int(np.sqrt(x_test.size(0)))\n",
    "\n",
    "    ax1.contourf(t_test.view(size, size).cpu().detach().numpy(),\n",
    "                 x_test.view(size, size).cpu().detach().numpy(),\n",
    "                 mu.view(size, size).cpu().detach().numpy())\n",
    "\n",
    "    plt.xlabel('t')\n",
    "    plt.ylabel('x')\n",
    "\n",
    "    ax2.contourf(t_test.view(size, size).cpu().detach().numpy(),\n",
    "                 x_test.view(size, size).cpu().detach().numpy(),\n",
    "                 y_test.view(size, size).cpu().detach().numpy())\n",
    "\n",
    "    plt.show()\n",
    "\n",
    "\n",
    "def plot_loss_history(net):\n",
    "    epochs = range(len(net.total_loss_history))\n",
    "\n",
    "    plt.figure(figsize=(8, 6))\n",
    "    plt.plot(epochs, net.total_loss_history, label='Total Loss')\n",
    "    plt.plot(epochs, net.loss_ic_history, label='IC Loss')\n",
    "    plt.plot(epochs, net.loss_interior_history, label='Interior Loss')\n",
    "    plt.plot(epochs, net.loss_data_history, label='Data Loss')\n",
    "    plt.plot(epochs, net.loss_bc_history, label='BC Loss')\n",
    "    plt.plot(epochs, net.loss_std_history, label='STD Loss')\n",
    "\n",
    "    plt.xlabel('Epochs')\n",
    "    plt.ylabel('Loss')\n",
    "    plt.title('Loss Over Epochs')\n",
    "    plt.legend()\n",
    "    plt.show()\n",
    "\n",
    "\n",
    "def plot_loss_history_log(net):\n",
    "    epochs = range(len(net.total_loss_history))\n",
    "\n",
    "    plt.figure(figsize=(8, 6))\n",
    "    plt.semilogy(epochs, net.total_loss_history, label='Total Loss')\n",
    "    plt.semilogy(epochs, net.loss_ic_history, label='IC Loss')\n",
    "    plt.semilogy(epochs, net.loss_interior_history, label='Interior Loss')\n",
    "    plt.semilogy(epochs, net.loss_data_history, label='Data Loss')\n",
    "    plt.semilogy(epochs, net.loss_bc_history, label='BC Loss')\n",
    "    plt.semilogy(epochs, net.loss_std_history, label='STD Loss')\n",
    "\n",
    "    plt.xlabel('Epochs')\n",
    "    plt.ylabel('Loss (log scale)')\n",
    "    plt.title('Loss Over Epochs (log scale)')\n",
    "    plt.legend()\n",
    "    plt.show()\n"
   ]
  },
  {
   "cell_type": "code",
   "execution_count": 61,
   "metadata": {
    "colab": {
     "base_uri": "https://localhost:8080/"
    },
    "id": "OxdtBGzUUphv",
    "outputId": "14c393d6-dcf6-43c9-b49d-3dbdfc1df607"
   },
   "outputs": [
    {
     "name": "stdout",
     "output_type": "stream",
     "text": [
      "mps\n",
      "Params: 2103\n"
     ]
    }
   ],
   "source": [
    "net = Experiment()\n",
    "net.to(net.device)\n",
    "print(\"Params:\", sum(p.numel() for p in net.parameters() if p.requires_grad))"
   ]
  },
  {
   "cell_type": "code",
   "execution_count": 62,
   "metadata": {
    "colab": {
     "base_uri": "https://localhost:8080/",
     "height": 402
    },
    "id": "yvco7AmeUrOF",
    "outputId": "99c9a061-d64e-49f1-96b2-2cb9df4bca8f"
   },
   "outputs": [
    {
     "data": {
      "image/png": "[encoded data removed]",
      "text/plain": [
       "<Figure size 400x400 with 2 Axes>"
      ]
     },
     "metadata": {},
     "output_type": "display_data"
    }
   ],
   "source": [
    "train_loader, test_loader = create_train_test_datasets(device = net.device, batch_size=batch_size)"
   ]
  },
  {
   "cell_type": "code",
   "execution_count": 63,
   "metadata": {
    "id": "ivyI-KUlUsBV"
   },
   "outputs": [],
   "source": [
    "net.w_ic = 1\n",
    "net.w_data = 10\n",
    "net.w_bc   = 1\n",
    "net.w_int = 5\n",
    "net.w_param_std = 1"
   ]
  },
  {
   "cell_type": "code",
   "execution_count": 64,
   "metadata": {
    "colab": {
     "base_uri": "https://localhost:8080/",
     "height": 1000
    },
    "id": "pXJ12CAPUvSp",
    "outputId": "7f4b368d-7262-4abc-db04-515a740040c4"
   },
   "outputs": [
    {
     "name": "stdout",
     "output_type": "stream",
     "text": [
      "Epoch(Adam):0,  Total Loss:31.76  PDE Loss:31.02  BC Loss:0.02  IC Loss: 0.52  Mean Predicted Param: 0.04 Std Params:0.05  Std Log Loss:8.66\n",
      "Epoch(Adam):1000,  Total Loss:0.23  PDE Loss:0.08  BC Loss:0.08  IC Loss: 0.04  Mean Predicted Param: 1.35 Std Params:0.57  Std Log Loss:0.22\n",
      "Epoch(Adam):2000,  Total Loss:0.12  PDE Loss:0.06  BC Loss:0.04  IC Loss: 0.01  Mean Predicted Param: 1.13 Std Params:0.54  Std Log Loss:0.24\n",
      "Epoch(Adam):3000,  Total Loss:0.08  PDE Loss:0.02  BC Loss:0.02  IC Loss: 0.03  Mean Predicted Param: 1.22 Std Params:0.76  Std Log Loss:0.05\n",
      "Epoch(Adam):4000,  Total Loss:0.17  PDE Loss:0.11  BC Loss:0.03  IC Loss: 0.01  Mean Predicted Param: 1.38 Std Params:0.90  Std Log Loss:0.01\n",
      "Epoch(Adam):5000,  Total Loss:0.05  PDE Loss:0.01  BC Loss:0.02  IC Loss: 0.01  Mean Predicted Param: 1.26 Std Params:1.01  Std Log Loss:0.01\n",
      "Epoch(Adam):6000,  Total Loss:0.06  PDE Loss:0.02  BC Loss:0.02  IC Loss: 0.01  Mean Predicted Param: 1.25 Std Params:0.92  Std Log Loss:0.00\n",
      "Epoch(Adam):7000,  Total Loss:0.06  PDE Loss:0.02  BC Loss:0.02  IC Loss: 0.01  Mean Predicted Param: 1.12 Std Params:0.66  Std Log Loss:0.13\n",
      "Epoch(Adam):8000,  Total Loss:0.08  PDE Loss:0.02  BC Loss:0.02  IC Loss: 0.03  Mean Predicted Param: 1.34 Std Params:0.80  Std Log Loss:0.04\n",
      "Epoch(Adam):9000,  Total Loss:0.04  PDE Loss:0.01  BC Loss:0.02  IC Loss: 0.01  Mean Predicted Param: 1.21 Std Params:0.82  Std Log Loss:0.03\n",
      "Epoch(Adam):10000,  Total Loss:0.09  PDE Loss:0.02  BC Loss:0.02  IC Loss: 0.03  Mean Predicted Param: 1.17 Std Params:0.72  Std Log Loss:0.09\n",
      "Epoch(Adam):11000,  Total Loss:0.09  PDE Loss:0.01  BC Loss:0.03  IC Loss: 0.02  Mean Predicted Param: 1.48 Std Params:0.82  Std Log Loss:0.03\n",
      "Epoch(Adam):12000,  Total Loss:0.10  PDE Loss:0.06  BC Loss:0.01  IC Loss: 0.02  Mean Predicted Param: 1.32 Std Params:0.92  Std Log Loss:0.00\n",
      "Epoch(Adam):13000,  Total Loss:0.07  PDE Loss:0.02  BC Loss:0.02  IC Loss: 0.02  Mean Predicted Param: 1.30 Std Params:0.91  Std Log Loss:0.00\n",
      "Epoch(Adam):14000,  Total Loss:0.04  PDE Loss:0.01  BC Loss:0.02  IC Loss: 0.00  Mean Predicted Param: 1.27 Std Params:0.84  Std Log Loss:0.02\n",
      "Epoch(Adam):15000,  Total Loss:0.13  PDE Loss:0.05  BC Loss:0.03  IC Loss: 0.03  Mean Predicted Param: 1.45 Std Params:0.89  Std Log Loss:0.01\n",
      "Epoch(Adam):16000,  Total Loss:0.24  PDE Loss:0.06  BC Loss:0.08  IC Loss: 0.05  Mean Predicted Param: 1.87 Std Params:1.19  Std Log Loss:0.09\n",
      "Epoch(Adam):17000,  Total Loss:0.06  PDE Loss:0.01  BC Loss:0.02  IC Loss: 0.02  Mean Predicted Param: 1.27 Std Params:0.83  Std Log Loss:0.02\n"
     ]
    },
    {
     "ename": "KeyboardInterrupt",
     "evalue": "",
     "output_type": "error",
     "traceback": [
      "\u001b[0;31m---------------------------------------------------------------------------\u001b[0m",
      "\u001b[0;31mKeyboardInterrupt\u001b[0m                         Traceback (most recent call last)",
      "Cell \u001b[0;32mIn[64], line 2\u001b[0m\n\u001b[1;32m      1\u001b[0m torch\u001b[38;5;241m.\u001b[39mautograd\u001b[38;5;241m.\u001b[39mset_detect_anomaly(\u001b[38;5;28;01mTrue\u001b[39;00m)\n\u001b[0;32m----> 2\u001b[0m \u001b[43mnet\u001b[49m\u001b[38;5;241;43m.\u001b[39;49m\u001b[43mtrain\u001b[49m\u001b[43m(\u001b[49m\u001b[38;5;241;43m25000\u001b[39;49m\u001b[43m,\u001b[49m\u001b[43m \u001b[49m\u001b[43moptimizer\u001b[49m\u001b[38;5;241;43m=\u001b[39;49m\u001b[38;5;124;43m'\u001b[39;49m\u001b[38;5;124;43mAdam\u001b[39;49m\u001b[38;5;124;43m'\u001b[39;49m\u001b[43m,\u001b[49m\u001b[43m \u001b[49m\u001b[43mlr\u001b[49m\u001b[38;5;241;43m=\u001b[39;49m\u001b[38;5;241;43m1e-2\u001b[39;49m\u001b[43m)\u001b[49m\n",
      "Cell \u001b[0;32mIn[59], line 258\u001b[0m, in \u001b[0;36mExperiment.train\u001b[0;34m(self, epochs, optimizer, num_samples, **kwargs)\u001b[0m\n\u001b[1;32m    256\u001b[0m \u001b[38;5;66;03m# Training loop\u001b[39;00m\n\u001b[1;32m    257\u001b[0m \u001b[38;5;28;01mfor\u001b[39;00m epoch \u001b[38;5;129;01min\u001b[39;00m \u001b[38;5;28mrange\u001b[39m(epochs):\n\u001b[0;32m--> 258\u001b[0m     \u001b[38;5;28;43mself\u001b[39;49m\u001b[38;5;241;43m.\u001b[39;49m\u001b[43moptimizer\u001b[49m\u001b[38;5;241;43m.\u001b[39;49m\u001b[43mstep\u001b[49m\u001b[43m(\u001b[49m\u001b[38;5;28;43mself\u001b[39;49m\u001b[38;5;241;43m.\u001b[39;49m\u001b[43mclosure\u001b[49m\u001b[43m)\u001b[49m\n\u001b[1;32m    259\u001b[0m     \u001b[38;5;28;01mif\u001b[39;00m epoch \u001b[38;5;241m%\u001b[39m \u001b[38;5;241m1000\u001b[39m \u001b[38;5;241m==\u001b[39m \u001b[38;5;241m0\u001b[39m:\n\u001b[1;32m    260\u001b[0m         loss_ic, loss_interior, loss_data, loss_bc \u001b[38;5;241m=\u001b[39m \u001b[38;5;28mself\u001b[39m\u001b[38;5;241m.\u001b[39mcompute_losses()\n",
      "File \u001b[0;32m~/.pyenv/versions/torch/lib/python3.11/site-packages/torch/optim/optimizer.py:373\u001b[0m, in \u001b[0;36mOptimizer.profile_hook_step.<locals>.wrapper\u001b[0;34m(*args, **kwargs)\u001b[0m\n\u001b[1;32m    368\u001b[0m         \u001b[38;5;28;01melse\u001b[39;00m:\n\u001b[1;32m    369\u001b[0m             \u001b[38;5;28;01mraise\u001b[39;00m \u001b[38;5;167;01mRuntimeError\u001b[39;00m(\n\u001b[1;32m    370\u001b[0m                 \u001b[38;5;124mf\u001b[39m\u001b[38;5;124m\"\u001b[39m\u001b[38;5;132;01m{\u001b[39;00mfunc\u001b[38;5;132;01m}\u001b[39;00m\u001b[38;5;124m must return None or a tuple of (new_args, new_kwargs), but got \u001b[39m\u001b[38;5;132;01m{\u001b[39;00mresult\u001b[38;5;132;01m}\u001b[39;00m\u001b[38;5;124m.\u001b[39m\u001b[38;5;124m\"\u001b[39m\n\u001b[1;32m    371\u001b[0m             )\n\u001b[0;32m--> 373\u001b[0m out \u001b[38;5;241m=\u001b[39m \u001b[43mfunc\u001b[49m\u001b[43m(\u001b[49m\u001b[38;5;241;43m*\u001b[39;49m\u001b[43margs\u001b[49m\u001b[43m,\u001b[49m\u001b[43m \u001b[49m\u001b[38;5;241;43m*\u001b[39;49m\u001b[38;5;241;43m*\u001b[39;49m\u001b[43mkwargs\u001b[49m\u001b[43m)\u001b[49m\n\u001b[1;32m    374\u001b[0m \u001b[38;5;28mself\u001b[39m\u001b[38;5;241m.\u001b[39m_optimizer_step_code()\n\u001b[1;32m    376\u001b[0m \u001b[38;5;66;03m# call optimizer step post hooks\u001b[39;00m\n",
      "File \u001b[0;32m~/.pyenv/versions/torch/lib/python3.11/site-packages/torch/optim/optimizer.py:76\u001b[0m, in \u001b[0;36m_use_grad_for_differentiable.<locals>._use_grad\u001b[0;34m(self, *args, **kwargs)\u001b[0m\n\u001b[1;32m     74\u001b[0m     torch\u001b[38;5;241m.\u001b[39mset_grad_enabled(\u001b[38;5;28mself\u001b[39m\u001b[38;5;241m.\u001b[39mdefaults[\u001b[38;5;124m'\u001b[39m\u001b[38;5;124mdifferentiable\u001b[39m\u001b[38;5;124m'\u001b[39m])\n\u001b[1;32m     75\u001b[0m     torch\u001b[38;5;241m.\u001b[39m_dynamo\u001b[38;5;241m.\u001b[39mgraph_break()\n\u001b[0;32m---> 76\u001b[0m     ret \u001b[38;5;241m=\u001b[39m \u001b[43mfunc\u001b[49m\u001b[43m(\u001b[49m\u001b[38;5;28;43mself\u001b[39;49m\u001b[43m,\u001b[49m\u001b[43m \u001b[49m\u001b[38;5;241;43m*\u001b[39;49m\u001b[43margs\u001b[49m\u001b[43m,\u001b[49m\u001b[43m \u001b[49m\u001b[38;5;241;43m*\u001b[39;49m\u001b[38;5;241;43m*\u001b[39;49m\u001b[43mkwargs\u001b[49m\u001b[43m)\u001b[49m\n\u001b[1;32m     77\u001b[0m \u001b[38;5;28;01mfinally\u001b[39;00m:\n\u001b[1;32m     78\u001b[0m     torch\u001b[38;5;241m.\u001b[39m_dynamo\u001b[38;5;241m.\u001b[39mgraph_break()\n",
      "File \u001b[0;32m~/.pyenv/versions/torch/lib/python3.11/site-packages/torch/optim/adam.py:143\u001b[0m, in \u001b[0;36mAdam.step\u001b[0;34m(self, closure)\u001b[0m\n\u001b[1;32m    141\u001b[0m \u001b[38;5;28;01mif\u001b[39;00m closure \u001b[38;5;129;01mis\u001b[39;00m \u001b[38;5;129;01mnot\u001b[39;00m \u001b[38;5;28;01mNone\u001b[39;00m:\n\u001b[1;32m    142\u001b[0m     \u001b[38;5;28;01mwith\u001b[39;00m torch\u001b[38;5;241m.\u001b[39menable_grad():\n\u001b[0;32m--> 143\u001b[0m         loss \u001b[38;5;241m=\u001b[39m \u001b[43mclosure\u001b[49m\u001b[43m(\u001b[49m\u001b[43m)\u001b[49m\n\u001b[1;32m    145\u001b[0m \u001b[38;5;28;01mfor\u001b[39;00m group \u001b[38;5;129;01min\u001b[39;00m \u001b[38;5;28mself\u001b[39m\u001b[38;5;241m.\u001b[39mparam_groups:\n\u001b[1;32m    146\u001b[0m     params_with_grad \u001b[38;5;241m=\u001b[39m []\n",
      "Cell \u001b[0;32mIn[59], line 227\u001b[0m, in \u001b[0;36mExperiment.closure\u001b[0;34m(self)\u001b[0m\n\u001b[1;32m    225\u001b[0m \u001b[38;5;28;01mdef\u001b[39;00m \u001b[38;5;21mclosure\u001b[39m(\u001b[38;5;28mself\u001b[39m):\n\u001b[1;32m    226\u001b[0m     \u001b[38;5;28mself\u001b[39m\u001b[38;5;241m.\u001b[39moptimizer\u001b[38;5;241m.\u001b[39mzero_grad()\n\u001b[0;32m--> 227\u001b[0m     loss_ic, loss_interior, loss_data, loss_bc \u001b[38;5;241m=\u001b[39m \u001b[38;5;28;43mself\u001b[39;49m\u001b[38;5;241;43m.\u001b[39;49m\u001b[43mcompute_losses\u001b[49m\u001b[43m(\u001b[49m\u001b[43m)\u001b[49m\n\u001b[1;32m    228\u001b[0m     total_loss \u001b[38;5;241m=\u001b[39m \u001b[38;5;28mself\u001b[39m\u001b[38;5;241m.\u001b[39mw_ic \u001b[38;5;241m*\u001b[39m loss_ic \\\n\u001b[1;32m    229\u001b[0m                \u001b[38;5;241m+\u001b[39m \u001b[38;5;28mself\u001b[39m\u001b[38;5;241m.\u001b[39mw_int \u001b[38;5;241m*\u001b[39m loss_interior \\\n\u001b[1;32m    230\u001b[0m                \u001b[38;5;241m+\u001b[39m \u001b[38;5;28mself\u001b[39m\u001b[38;5;241m.\u001b[39mw_data \u001b[38;5;241m*\u001b[39m loss_data \\\n\u001b[1;32m    231\u001b[0m                \u001b[38;5;241m+\u001b[39m \u001b[38;5;28mself\u001b[39m\u001b[38;5;241m.\u001b[39mw_bc \u001b[38;5;241m*\u001b[39m loss_bc\n\u001b[1;32m    233\u001b[0m     \u001b[38;5;66;03m# Sample the parameter posterior and update self.predicted_params and self.std_params\u001b[39;00m\n",
      "Cell \u001b[0;32mIn[59], line 181\u001b[0m, in \u001b[0;36mExperiment.compute_losses\u001b[0;34m(self)\u001b[0m\n\u001b[1;32m    179\u001b[0m \u001b[38;5;28;01mdef\u001b[39;00m \u001b[38;5;21mcompute_losses\u001b[39m(\u001b[38;5;28mself\u001b[39m):\n\u001b[1;32m    180\u001b[0m     loss_ic \u001b[38;5;241m=\u001b[39m \u001b[38;5;28mself\u001b[39m\u001b[38;5;241m.\u001b[39mloss_initial_condition()\n\u001b[0;32m--> 181\u001b[0m     loss_interior \u001b[38;5;241m=\u001b[39m \u001b[38;5;28;43mself\u001b[39;49m\u001b[38;5;241;43m.\u001b[39;49m\u001b[43mloss_interior\u001b[49m\u001b[43m(\u001b[49m\u001b[43m)\u001b[49m\n\u001b[1;32m    182\u001b[0m     loss_data \u001b[38;5;241m=\u001b[39m \u001b[38;5;28mself\u001b[39m\u001b[38;5;241m.\u001b[39mloss_data()\n\u001b[1;32m    183\u001b[0m     loss_bc \u001b[38;5;241m=\u001b[39m \u001b[38;5;28mself\u001b[39m\u001b[38;5;241m.\u001b[39mloss_boundary_condition()\n",
      "Cell \u001b[0;32mIn[59], line 198\u001b[0m, in \u001b[0;36mExperiment.loss_interior\u001b[0;34m(self, num_samples)\u001b[0m\n\u001b[1;32m    196\u001b[0m interior_t_samples \u001b[38;5;241m=\u001b[39m torch\u001b[38;5;241m.\u001b[39mrand((num_samples, \u001b[38;5;241m1\u001b[39m),   device\u001b[38;5;241m=\u001b[39m\u001b[38;5;28mself\u001b[39m\u001b[38;5;241m.\u001b[39mdevice)\u001b[38;5;241m.\u001b[39mrequires_grad_(\u001b[38;5;28;01mTrue\u001b[39;00m)\n\u001b[1;32m    197\u001b[0m interior_x_samples \u001b[38;5;241m=\u001b[39m \u001b[38;5;241m2\u001b[39m\u001b[38;5;241m*\u001b[39mtorch\u001b[38;5;241m.\u001b[39mrand((num_samples, \u001b[38;5;241m1\u001b[39m), device\u001b[38;5;241m=\u001b[39m\u001b[38;5;28mself\u001b[39m\u001b[38;5;241m.\u001b[39mdevice)\u001b[38;5;241m.\u001b[39mrequires_grad_(\u001b[38;5;28;01mTrue\u001b[39;00m)  \u001b[38;5;241m-\u001b[39m \u001b[38;5;241m1.0\u001b[39m\n\u001b[0;32m--> 198\u001b[0m res \u001b[38;5;241m=\u001b[39m \u001b[38;5;28;43mself\u001b[39;49m\u001b[38;5;241;43m.\u001b[39;49m\u001b[43mPDE_residual\u001b[49m\u001b[43m(\u001b[49m\u001b[43minterior_t_samples\u001b[49m\u001b[43m,\u001b[49m\u001b[43m \u001b[49m\u001b[43minterior_x_samples\u001b[49m\u001b[43m)\u001b[49m\n\u001b[1;32m    199\u001b[0m loss_residual \u001b[38;5;241m=\u001b[39m torch\u001b[38;5;241m.\u001b[39mmean(torch\u001b[38;5;241m.\u001b[39msquare(res))\n\u001b[1;32m    200\u001b[0m \u001b[38;5;28;01mreturn\u001b[39;00m loss_residual\n",
      "Cell \u001b[0;32mIn[59], line 130\u001b[0m, in \u001b[0;36mExperiment.PDE_residual\u001b[0;34m(self, t, x)\u001b[0m\n\u001b[1;32m    128\u001b[0m dy_dt \u001b[38;5;241m=\u001b[39m \u001b[38;5;28mself\u001b[39m\u001b[38;5;241m.\u001b[39mcompute_derivative(y, t, \u001b[38;5;241m1\u001b[39m)\n\u001b[1;32m    129\u001b[0m dy_dx \u001b[38;5;241m=\u001b[39m \u001b[38;5;28mself\u001b[39m\u001b[38;5;241m.\u001b[39mcompute_derivative(y, x, \u001b[38;5;241m1\u001b[39m)\n\u001b[0;32m--> 130\u001b[0m d2y_dx2 \u001b[38;5;241m=\u001b[39m \u001b[38;5;28;43mself\u001b[39;49m\u001b[38;5;241;43m.\u001b[39;49m\u001b[43mcompute_derivative\u001b[49m\u001b[43m(\u001b[49m\u001b[43my\u001b[49m\u001b[43m,\u001b[49m\u001b[43m \u001b[49m\u001b[43mx\u001b[49m\u001b[43m,\u001b[49m\u001b[43m \u001b[49m\u001b[38;5;241;43m2\u001b[39;49m\u001b[43m)\u001b[49m\n\u001b[1;32m    132\u001b[0m \u001b[38;5;66;03m# print(\"\\n \\n\")\u001b[39;00m\n\u001b[1;32m    133\u001b[0m \u001b[38;5;66;03m# print(\"X shape:\" , x.shape)\u001b[39;00m\n\u001b[1;32m    134\u001b[0m \u001b[38;5;66;03m# print(\"Y shape:\" , y.shape)\u001b[39;00m\n\u001b[1;32m    135\u001b[0m \u001b[38;5;66;03m# print(\"dy_dt shape:\" , dy_dt.shape)\u001b[39;00m\n\u001b[1;32m    136\u001b[0m \u001b[38;5;66;03m# print(\"d2y_dx2 shape:\" , d2y_dx2.shape)\u001b[39;00m\n\u001b[1;32m    137\u001b[0m \u001b[38;5;66;03m# print(\"predicted params\", self.predicted_params.shape)\u001b[39;00m\n\u001b[1;32m    141\u001b[0m residual \u001b[38;5;241m=\u001b[39m  dy_dt \u001b[38;5;241m-\u001b[39m torch\u001b[38;5;241m.\u001b[39mmultiply(\u001b[38;5;28mself\u001b[39m\u001b[38;5;241m.\u001b[39mpredicted_params[:,[\u001b[38;5;241m0\u001b[39m]], d2y_dx2) \\\n\u001b[1;32m    142\u001b[0m     \u001b[38;5;241m+\u001b[39m torch\u001b[38;5;241m.\u001b[39mexp(\u001b[38;5;241m-\u001b[39m \u001b[38;5;28mself\u001b[39m\u001b[38;5;241m.\u001b[39mpredicted_params[:,[\u001b[38;5;241m1\u001b[39m]] \u001b[38;5;241m*\u001b[39m t) \u001b[38;5;241m*\u001b[39m (torch\u001b[38;5;241m.\u001b[39msin(torch\u001b[38;5;241m.\u001b[39mtensor(np\u001b[38;5;241m.\u001b[39mpi) \u001b[38;5;241m*\u001b[39m x) \u001b[38;5;241m-\u001b[39m torch\u001b[38;5;241m.\u001b[39mtensor(np\u001b[38;5;241m.\u001b[39mpi) \u001b[38;5;241m*\u001b[39m\u001b[38;5;241m*\u001b[39m \u001b[38;5;241m2\u001b[39m \u001b[38;5;241m*\u001b[39m torch\u001b[38;5;241m.\u001b[39msin(torch\u001b[38;5;241m.\u001b[39mtensor(np\u001b[38;5;241m.\u001b[39mpi) \u001b[38;5;241m*\u001b[39m x))\n",
      "Cell \u001b[0;32mIn[59], line 122\u001b[0m, in \u001b[0;36mExperiment.compute_derivative\u001b[0;34m(self, y, x, n)\u001b[0m\n\u001b[1;32m    117\u001b[0m \u001b[38;5;28;01melse\u001b[39;00m:\n\u001b[1;32m    118\u001b[0m     dy_dx \u001b[38;5;241m=\u001b[39m torch\u001b[38;5;241m.\u001b[39mautograd\u001b[38;5;241m.\u001b[39mgrad(y, x, torch\u001b[38;5;241m.\u001b[39mones_like(y, device\u001b[38;5;241m=\u001b[39m \u001b[38;5;28mself\u001b[39m\u001b[38;5;241m.\u001b[39mdevice),\n\u001b[1;32m    119\u001b[0m                                 create_graph\u001b[38;5;241m=\u001b[39m\u001b[38;5;28;01mTrue\u001b[39;00m, retain_graph\u001b[38;5;241m=\u001b[39m\u001b[38;5;28;01mTrue\u001b[39;00m,\n\u001b[1;32m    120\u001b[0m                                 allow_unused\u001b[38;5;241m=\u001b[39m\u001b[38;5;28;01mTrue\u001b[39;00m)[\u001b[38;5;241m0\u001b[39m]\n\u001b[0;32m--> 122\u001b[0m \u001b[38;5;28;01mreturn\u001b[39;00m \u001b[38;5;28;43mself\u001b[39;49m\u001b[38;5;241;43m.\u001b[39;49m\u001b[43mcompute_derivative\u001b[49m\u001b[43m(\u001b[49m\u001b[43mdy_dx\u001b[49m\u001b[43m,\u001b[49m\u001b[43m \u001b[49m\u001b[43mx\u001b[49m\u001b[43m,\u001b[49m\u001b[43m \u001b[49m\u001b[43mn\u001b[49m\u001b[43m \u001b[49m\u001b[38;5;241;43m-\u001b[39;49m\u001b[43m \u001b[49m\u001b[38;5;241;43m1\u001b[39;49m\u001b[43m)\u001b[49m\n",
      "Cell \u001b[0;32mIn[59], line 118\u001b[0m, in \u001b[0;36mExperiment.compute_derivative\u001b[0;34m(self, y, x, n)\u001b[0m\n\u001b[1;32m    116\u001b[0m     \u001b[38;5;28;01mreturn\u001b[39;00m y\n\u001b[1;32m    117\u001b[0m \u001b[38;5;28;01melse\u001b[39;00m:\n\u001b[0;32m--> 118\u001b[0m     dy_dx \u001b[38;5;241m=\u001b[39m \u001b[43mtorch\u001b[49m\u001b[38;5;241;43m.\u001b[39;49m\u001b[43mautograd\u001b[49m\u001b[38;5;241;43m.\u001b[39;49m\u001b[43mgrad\u001b[49m\u001b[43m(\u001b[49m\u001b[43my\u001b[49m\u001b[43m,\u001b[49m\u001b[43m \u001b[49m\u001b[43mx\u001b[49m\u001b[43m,\u001b[49m\u001b[43m \u001b[49m\u001b[43mtorch\u001b[49m\u001b[38;5;241;43m.\u001b[39;49m\u001b[43mones_like\u001b[49m\u001b[43m(\u001b[49m\u001b[43my\u001b[49m\u001b[43m,\u001b[49m\u001b[43m \u001b[49m\u001b[43mdevice\u001b[49m\u001b[38;5;241;43m=\u001b[39;49m\u001b[43m \u001b[49m\u001b[38;5;28;43mself\u001b[39;49m\u001b[38;5;241;43m.\u001b[39;49m\u001b[43mdevice\u001b[49m\u001b[43m)\u001b[49m\u001b[43m,\u001b[49m\n\u001b[1;32m    119\u001b[0m \u001b[43m                                \u001b[49m\u001b[43mcreate_graph\u001b[49m\u001b[38;5;241;43m=\u001b[39;49m\u001b[38;5;28;43;01mTrue\u001b[39;49;00m\u001b[43m,\u001b[49m\u001b[43m \u001b[49m\u001b[43mretain_graph\u001b[49m\u001b[38;5;241;43m=\u001b[39;49m\u001b[38;5;28;43;01mTrue\u001b[39;49;00m\u001b[43m,\u001b[49m\n\u001b[1;32m    120\u001b[0m \u001b[43m                                \u001b[49m\u001b[43mallow_unused\u001b[49m\u001b[38;5;241;43m=\u001b[39;49m\u001b[38;5;28;43;01mTrue\u001b[39;49;00m\u001b[43m)\u001b[49m[\u001b[38;5;241m0\u001b[39m]\n\u001b[1;32m    122\u001b[0m \u001b[38;5;28;01mreturn\u001b[39;00m \u001b[38;5;28mself\u001b[39m\u001b[38;5;241m.\u001b[39mcompute_derivative(dy_dx, x, n \u001b[38;5;241m-\u001b[39m \u001b[38;5;241m1\u001b[39m)\n",
      "File \u001b[0;32m~/.pyenv/versions/torch/lib/python3.11/site-packages/torch/autograd/__init__.py:394\u001b[0m, in \u001b[0;36mgrad\u001b[0;34m(outputs, inputs, grad_outputs, retain_graph, create_graph, only_inputs, allow_unused, is_grads_batched, materialize_grads)\u001b[0m\n\u001b[1;32m    390\u001b[0m     result \u001b[38;5;241m=\u001b[39m _vmap_internals\u001b[38;5;241m.\u001b[39m_vmap(vjp, \u001b[38;5;241m0\u001b[39m, \u001b[38;5;241m0\u001b[39m, allow_none_pass_through\u001b[38;5;241m=\u001b[39m\u001b[38;5;28;01mTrue\u001b[39;00m)(\n\u001b[1;32m    391\u001b[0m         grad_outputs_\n\u001b[1;32m    392\u001b[0m     )\n\u001b[1;32m    393\u001b[0m \u001b[38;5;28;01melse\u001b[39;00m:\n\u001b[0;32m--> 394\u001b[0m     result \u001b[38;5;241m=\u001b[39m \u001b[43mVariable\u001b[49m\u001b[38;5;241;43m.\u001b[39;49m\u001b[43m_execution_engine\u001b[49m\u001b[38;5;241;43m.\u001b[39;49m\u001b[43mrun_backward\u001b[49m\u001b[43m(\u001b[49m\u001b[43m  \u001b[49m\u001b[38;5;66;43;03m# Calls into the C++ engine to run the backward pass\u001b[39;49;00m\n\u001b[1;32m    395\u001b[0m \u001b[43m        \u001b[49m\u001b[43mt_outputs\u001b[49m\u001b[43m,\u001b[49m\n\u001b[1;32m    396\u001b[0m \u001b[43m        \u001b[49m\u001b[43mgrad_outputs_\u001b[49m\u001b[43m,\u001b[49m\n\u001b[1;32m    397\u001b[0m \u001b[43m        \u001b[49m\u001b[43mretain_graph\u001b[49m\u001b[43m,\u001b[49m\n\u001b[1;32m    398\u001b[0m \u001b[43m        \u001b[49m\u001b[43mcreate_graph\u001b[49m\u001b[43m,\u001b[49m\n\u001b[1;32m    399\u001b[0m \u001b[43m        \u001b[49m\u001b[43mt_inputs\u001b[49m\u001b[43m,\u001b[49m\n\u001b[1;32m    400\u001b[0m \u001b[43m        \u001b[49m\u001b[43mallow_unused\u001b[49m\u001b[43m,\u001b[49m\n\u001b[1;32m    401\u001b[0m \u001b[43m        \u001b[49m\u001b[43maccumulate_grad\u001b[49m\u001b[38;5;241;43m=\u001b[39;49m\u001b[38;5;28;43;01mFalse\u001b[39;49;00m\u001b[43m,\u001b[49m\n\u001b[1;32m    402\u001b[0m \u001b[43m    \u001b[49m\u001b[43m)\u001b[49m  \u001b[38;5;66;03m# Calls into the C++ engine to run the backward pass\u001b[39;00m\n\u001b[1;32m    403\u001b[0m \u001b[38;5;28;01mif\u001b[39;00m materialize_grads:\n\u001b[1;32m    404\u001b[0m     result \u001b[38;5;241m=\u001b[39m \u001b[38;5;28mtuple\u001b[39m(\n\u001b[1;32m    405\u001b[0m         output\n\u001b[1;32m    406\u001b[0m         \u001b[38;5;28;01mif\u001b[39;00m output \u001b[38;5;129;01mis\u001b[39;00m \u001b[38;5;129;01mnot\u001b[39;00m \u001b[38;5;28;01mNone\u001b[39;00m\n\u001b[1;32m    407\u001b[0m         \u001b[38;5;28;01melse\u001b[39;00m torch\u001b[38;5;241m.\u001b[39mzeros_like(\u001b[38;5;28minput\u001b[39m, requires_grad\u001b[38;5;241m=\u001b[39m\u001b[38;5;28;01mTrue\u001b[39;00m)\n\u001b[1;32m    408\u001b[0m         \u001b[38;5;28;01mfor\u001b[39;00m (output, \u001b[38;5;28minput\u001b[39m) \u001b[38;5;129;01min\u001b[39;00m \u001b[38;5;28mzip\u001b[39m(result, t_inputs)\n\u001b[1;32m    409\u001b[0m     )\n",
      "\u001b[0;31mKeyboardInterrupt\u001b[0m: "
     ]
    }
   ],
   "source": [
    "torch.autograd.set_detect_anomaly(True)\n",
    "net.train(25000, optimizer='Adam', lr=1e-2)"
   ]
  },
  {
   "cell_type": "code",
   "execution_count": 42,
   "metadata": {
    "id": "yW09rE71cgx-"
   },
   "outputs": [],
   "source": [
    "torch.save({\n",
    "    'model_state_dict': net.state_dict(),\n",
    "    'optimizer_state_dict': net.optimizer.state_dict(),\n",
    "    'total_loss_history': net.total_loss_history,\n",
    "    'loss_ic_history': net.loss_ic_history,\n",
    "    'loss_interior_history': net.loss_interior_history,\n",
    "    'loss_data_history': net.loss_data_history,\n",
    "    'loss_bc_history': net.loss_bc_history,\n",
    "    'loss_std_history': net.loss_std_history\n",
    "    # Add other variables if needed\n",
    "}, f'model_checkpoint_trained.pth')"
   ]
  },
  {
   "cell_type": "code",
   "execution_count": null,
   "metadata": {
    "id": "jsZSJLXXUy0H"
   },
   "outputs": [],
   "source": [
    "make_plot(net, device=net.device)"
   ]
  },
  {
   "cell_type": "code",
   "execution_count": null,
   "metadata": {
    "id": "oHjKd828U01l"
   },
   "outputs": [],
   "source": [
    "plot_residuals(net, device=net.device, noise=0.0)"
   ]
  },
  {
   "cell_type": "code",
   "execution_count": null,
   "metadata": {
    "id": "lCvV8otacgx_"
   },
   "outputs": [],
   "source": [
    "plot_loss_history(net)"
   ]
  },
  {
   "cell_type": "code",
   "execution_count": null,
   "metadata": {
    "id": "H1lf-DIxcgx_"
   },
   "outputs": [],
   "source": [
    "plot_loss_history_log(net)"
   ]
  },
  {
   "cell_type": "code",
   "execution_count": null,
   "metadata": {
    "id": "YyC72D9mU3GD"
   },
   "outputs": [],
   "source": [
    "samples = net.sample_parameter_posterior(num_samples=100)"
   ]
  },
  {
   "cell_type": "code",
   "execution_count": null,
   "metadata": {
    "id": "AoeVq4xpU46Z"
   },
   "outputs": [],
   "source": [
    "samples.mean(axis=0), samples.std(axis=0)"
   ]
  },
  {
   "cell_type": "code",
   "execution_count": null,
   "metadata": {
    "id": "Xwqkcv3vcgx_"
   },
   "outputs": [],
   "source": [
    "p1, p2 = samples.cpu().detach().unbind(1)"
   ]
  },
  {
   "cell_type": "code",
   "execution_count": null,
   "metadata": {
    "id": "wdGgVRYjU6yW"
   },
   "outputs": [],
   "source": [
    "g  = sns.kdeplot(p1, fill=True, palette=\"crest\",\n",
    "                 alpha=.5, linewidth=1)\n",
    "\n",
    "\n",
    "g  = sns.kdeplot(p2, fill=True, palette=\"crest\",\n",
    "                 alpha=.5, linewidth=1)\n",
    "g.legend( ['D', 'Alpha'])\n",
    "\n",
    "# Histograms of individual parameters with adjusted line color\n",
    "plt.figure(figsize=(10, 4))\n",
    "plt.subplot(1, 2, 1)\n",
    "sns.histplot(df['p1'], kde=True, linewidth=2, edgecolor='black')  # Change edgecolor here\n",
    "plt.title('Parameter 1 Distribution')\n",
    "\n",
    "plt.subplot(1, 2, 2)\n",
    "sns.histplot(df['p2'], kde=True, linewidth=2, edgecolor='black')  # Change edgecolor here\n",
    "plt.title('Parameter 2 Distribution')\n",
    "\n",
    "plt.tight_layout()\n",
    "plt.show()"
   ]
  },
  {
   "cell_type": "code",
   "execution_count": null,
   "metadata": {
    "id": "6jDv4qKQcgx_"
   },
   "outputs": [],
   "source": [
    "samples = net.sample_parameter_posterior(num_samples=100).cpu().detach().numpy()\n",
    "\n",
    "df = pd.DataFrame(samples, columns=['Parameter 1', 'Parameter 2'])\n",
    "\n",
    "plt.figure(figsize=(10, 4))\n",
    "plt.subplot(1, 2, 1)\n",
    "sns.histplot(df['Parameter 1'], kde=True, linewidth=2, edgecolor='blue', color='black')\n",
    "plt.title('Parameter 1 Distribution')\n",
    "\n",
    "plt.subplot(1, 2, 2)\n",
    "sns.histplot(df['Parameter 2'], kde=True, linewidth=2, edgecolor='blue', color='black')\n",
    "plt.title('Parameter 2 Distribution')\n",
    "\n",
    "plt.tight_layout()\n",
    "plt.show()"
   ]
  },
  {
   "cell_type": "code",
   "execution_count": null,
   "metadata": {
    "id": "lYqtbvIPU8eG"
   },
   "outputs": [],
   "source": [
    "x = torch.linspace(-1, 1, 100).reshape(-1, 1)\n",
    "t = torch.linspace(0, 1, 100).reshape(-1, 1)\n",
    "\n",
    "X, T = torch.meshgrid(x[:, 0], t[:, 0])\n",
    "\n",
    "y_true = Experiment.exact_solution(T, X)"
   ]
  },
  {
   "cell_type": "markdown",
   "metadata": {
    "id": "KDn5pHYpcgx_"
   },
   "source": [
    "#### Loading the saved model from the checkpoint\n",
    "We can load the state of model from the saved checkpoint like shown below and also other necessary states like optimizer state, losses etc."
   ]
  },
  {
   "cell_type": "code",
   "execution_count": null,
   "metadata": {
    "id": "tfXKqV3ocgyA"
   },
   "outputs": [],
   "source": [
    "checkpoint = torch.load('model_checkpoint_trained.pth')\n",
    "\n",
    "model = Experiment()  # Create an instance of your Experiment class\n",
    "model.load_state_dict(checkpoint['model_state_dict'])\n",
    "model.total_loss_history = checkpoint['total_loss_history']\n",
    "model.loss_ic_history = checkpoint['loss_ic_history']\n",
    "model.loss_interior_history = checkpoint['loss_interior_history']\n",
    "model.loss_data_history = checkpoint['loss_data_history']\n",
    "model.loss_bc_history = checkpoint['loss_bc_history']\n",
    "model.loss_std_history = checkpoint['loss_std_history']\n",
    "model.eval()  # Set the model to evaluation mode\n",
    "\n",
    "# Load Optimizer's state if necessary\n",
    "# optimizer = torch.optim.Adam(model.parameters(), lr=0.001)\n",
    "# optimizer.load_state_dict(checkpoint['optimizer_state_dict'])\n",
    "\n",
    "device = torch.device(\"cuda:0\" if torch.cuda.is_available() else \"mps\" if torch.backends.mps.is_available() else \"cpu\")\n",
    "model.to(device)"
   ]
  },
  {
   "cell_type": "markdown",
   "metadata": {
    "id": "49VuKDPpcgyA"
   },
   "source": [
    "#### Once we load the model, we can call the plot functions by passing the new model"
   ]
  },
  {
   "cell_type": "code",
   "execution_count": null,
   "metadata": {
    "id": "0hotxS-dcgyB",
    "scrolled": true
   },
   "outputs": [],
   "source": [
    "make_plot(model, device)  # Call the make_plot method to plot the graph"
   ]
  },
  {
   "cell_type": "code",
   "execution_count": null,
   "metadata": {
    "id": "dfP2W3ixcgyB"
   },
   "outputs": [],
   "source": [
    "plot_loss_history_log(model)"
   ]
  }
 ],
 "metadata": {
  "accelerator": "GPU",
  "colab": {
   "gpuType": "T4",
   "provenance": []
  },
  "kernelspec": {
   "display_name": "Python 3 (ipykernel)",
   "language": "python",
   "name": "python3"
  },
  "language_info": {
   "codemirror_mode": {
    "name": "ipython",
    "version": 3
   },
   "file_extension": ".py",
   "mimetype": "text/x-python",
   "name": "python",
   "nbconvert_exporter": "python",
   "pygments_lexer": "ipython3",
   "version": "3.11.5"
  }
 },
 "nbformat": 4,
 "nbformat_minor": 4
}
