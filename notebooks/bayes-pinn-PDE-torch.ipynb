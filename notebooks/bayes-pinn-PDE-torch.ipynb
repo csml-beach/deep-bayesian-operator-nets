{
  "cells": [
    {
      "cell_type": "code",
      "source": [
        "import torch\n",
        "import numpy as np\n",
        "from numpy.ma.core import outer\n",
        "from sys import stderr\n",
        "import torch.nn as nn\n",
        "import torch.nn.functional as F\n",
        "import torch.optim as optim\n",
        "from scipy import stats\n",
        "import matplotlib.pyplot as plt\n",
        "from matplotlib.pyplot import scatter, figure\n",
        "from torch.utils.data import TensorDataset, DataLoader\n",
        "import pandas as pd\n",
        "import seaborn as sns\n",
        "sns.set(rc={'figure.figsize':(4, 4)})\n",
        "\n",
        "import warnings\n",
        "\n",
        "warnings.filterwarnings('ignore')"
      ],
      "metadata": {
        "id": "OO8qnSbBJput"
      },
      "execution_count": null,
      "outputs": []
    },
    {
      "cell_type": "code",
      "source": [
        "batch_size = 3\n",
        "start      = 0.0\n",
        "end        = 1.4"
      ],
      "metadata": {
        "id": "5f8rI3kLJtfm"
      },
      "execution_count": null,
      "outputs": []
    },
    {
      "cell_type": "code",
      "execution_count": null,
      "metadata": {
        "id": "i-KEbxEITsHF"
      },
      "outputs": [],
      "source": [
        "class Experiment(nn.Module):\n",
        "    def __init__(self):\n",
        "        super(Experiment, self).__init__()\n",
        "\n",
        "        self.optimizer = None\n",
        "        self.train_loss_history = []\n",
        "        self.w_ic   =  1   # w for initial condition\n",
        "        self.w_int  = 1   # w for internal term of the loss function (data free)\n",
        "        self.w_data = 1   # weight for the term in loss function corresponding to data\n",
        "        self.w_bc   = 1   # boundary condition\n",
        "        self.numInputs = 2\n",
        "        self.numParams = 2\n",
        "        self.numOutputs = 1\n",
        "\n",
        "\n",
        "        self.hidden_size = 25\n",
        "\n",
        "        self.t0 = torch.tensor([0.0], requires_grad=True).to(device)\n",
        "        self.y0 = torch.tensor([1.0], requires_grad=True).to(device) #??\n",
        "\n",
        "        self.predicted_params = torch.zeros(self.numParams, requires_grad=True)\n",
        "\n",
        "\n",
        "        # We only have 1 input feature\n",
        "        self.b1 = nn.Linear(self.numInputs, self.hidden_size ).to(device)\n",
        "        self.b2 = nn.Linear(self.hidden_size, self.hidden_size).to(device)\n",
        "        self.b3 = nn.Linear(self.hidden_size, self.numOutputs).to(device)\n",
        "\n",
        "        self.t1 = nn.Linear(1, self.hidden_size).to(device)\n",
        "        self.t2 = nn.Linear(self.hidden_size, self.hidden_size).to(device)\n",
        "        self.t3 = nn.Linear(self.hidden_size, self.numParams).to(device)\n",
        "\n",
        "        nn.init.ones_(self.b1.weight)\n",
        "        nn.init.ones_(self.b2.weight)\n",
        "        nn.init.ones_(self.b3.weight)\n",
        "\n",
        "        nn.init.ones_(self.t1.weight)\n",
        "        nn.init.ones_(self.t2.weight)\n",
        "        nn.init.ones_(self.t3.weight)\n",
        "\n",
        "    # make this static so that it can be called independently\n",
        "    @staticmethod\n",
        "    def exact_solution(t, x):\n",
        "        return torch.exp(-t) * torch.sin(torch.pi * x)\n",
        "\n",
        "\n",
        "    def forward(self, t, x):\n",
        "        if not torch.is_tensor(t):\n",
        "            t = torch.from_numpy(t)\n",
        "\n",
        "        if not torch.is_tensor(x):\n",
        "            x = torch.from_numpy(x).to(device)\n",
        "\n",
        "        t = t.float().to(device)\n",
        "        x = x.float().to(device)\n",
        "\n",
        "        input = torch.cat((t, x), 1)\n",
        "\n",
        "        h1 = torch.tanh(self.b1(input))\n",
        "        h2 = torch.tanh(self.b2(h1))\n",
        "\n",
        "        prior_param_sample = torch.rand(1,1).to(device).requires_grad_(True)\n",
        "\n",
        "        t1 = torch.tanh(self.t1(prior_param_sample))\n",
        "        t2 = torch.tanh(self.t2(t1))\n",
        "        posterior_param_sample =  self.t3(t2)\n",
        "        self.predicted_params  =  posterior_param_sample.squeeze()\n",
        "        # posterior_param_sample = self.t3(torch.multiply(t2,h2))\n",
        "\n",
        "        y  = self.b3(torch.multiply(t2,h2))\n",
        "\n",
        "        return y\n",
        "\n",
        "    def sample_parameter_posterior(self, num_samples=100):\n",
        "        prior_param_sample     = torch.rand(num_samples,1).to(device).requires_grad_(True)\n",
        "        posterior_param_sample = \\\n",
        "           self.t3(torch.tanh(self.t2(torch.tanh(self.t1(prior_param_sample)))))\n",
        "\n",
        "        return posterior_param_sample\n",
        "\n",
        "    def compute_derivative(self, y, x, n):\n",
        "        # General formula to compute the n-th order derivative of y = f(x) with respect to x\n",
        "        if n == 0:\n",
        "            return y\n",
        "        else:\n",
        "            dy_dx = torch.autograd.grad(y, x, torch.ones_like(y).to(device),\n",
        "                                        create_graph=True, retain_graph=True,\n",
        "                                        allow_unused=True)[0]\n",
        "\n",
        "        return self.compute_derivative(dy_dx, x, n - 1)\n",
        "\n",
        "\n",
        "    def PDE_residual(self, t, x):\n",
        "        y = self.forward(t, x)\n",
        "        dy_dt = self.compute_derivative(y, t, 1)\n",
        "        dy_dx = self.compute_derivative(y, x, 1)\n",
        "        d2y_dx2 = self.compute_derivative(y, x, 2)\n",
        "\n",
        "        residual = dy_dt - self.predicted_params[1] * d2y_dx2 \\\n",
        "            + torch.exp(-self.predicted_params[0] * t) * (torch.sin(torch.tensor(np.pi) * x) - torch.tensor(np.pi) ** 2 * torch.sin(torch.tensor(np.pi) * x))\n",
        "\n",
        "        return residual\n",
        "\n",
        "    def loss_initial_condition(self, num_samples=200):\n",
        "        t0 = self.t0 * torch.ones((num_samples, 1)).to(device)\n",
        "        x = torch.FloatTensor(num_samples, 1).uniform_(-1, 1).to(device).requires_grad_(True)\n",
        "        y0_pred = self.forward(t0, x)\n",
        "\n",
        "        # Use the exact_solution function to calculate the true y0 values\n",
        "        # y0_true = torch.tensor(self.exact_solution(t0.detach().cpu().numpy(), x.detach().cpu().numpy())).to(device)\n",
        "        y0_true = self.exact_solution(t0, x)\n",
        "\n",
        "        loss_ic = torch.mean(torch.square(y0_true - y0_pred))\n",
        "\n",
        "        return loss_ic\n",
        "\n",
        "\n",
        "    def loss_boundary_condition(self, num_samples = 200):\n",
        "        x_low      = -1\n",
        "        x_high     =  1\n",
        "        xb_low     = x_low  * torch.ones((num_samples,1))\n",
        "        xb_high    = x_high * torch.ones((num_samples,1))\n",
        "        t          = torch.FloatTensor(num_samples,1).uniform_(-1, 1)\n",
        "\n",
        "        yb_low = self.exact_solution(t, xb_low)\n",
        "        yb_high = self.exact_solution(t, xb_high)\n",
        "\n",
        "        yb_pred_low    = self.forward(t,xb_low)\n",
        "        yb_pred_high   = self.forward(t,xb_high)\n",
        "\n",
        "        loss_ic    = torch.mean(torch.square( yb_pred_low - yb_low)) \\\n",
        "                   + torch.mean(torch.square( yb_pred_high - yb_high))\n",
        "\n",
        "        return loss_ic\n",
        "\n",
        "    def compute_losses(self):\n",
        "\n",
        "        loss_ic       = self.loss_initial_condition()\n",
        "        loss_interior = self.loss_interior()\n",
        "        loss_data     = self.loss_data()\n",
        "        loss_bc       = self.loss_boundary_condition()\n",
        "\n",
        "        return loss_ic, loss_interior, loss_data, loss_bc\n",
        "\n",
        "\n",
        "    def loss_data(self, num_samples = 100):\n",
        "        # t_data = torch.linspace(0,1,num_samples).reshape(-1,1).to(device).requires_grad_(True)\n",
        "        # y_data = torch.exp(-2.0*t_data)\n",
        "        t_data, x_data, y_data = next(iter(train_loader))\n",
        "        y_pred = self.forward(t_data, x_data)\n",
        "        loss   = torch.mean(torch.square(y_pred-y_data))\n",
        "\n",
        "        return loss\n",
        "\n",
        "    def loss_interior(self, num_samples = 800):\n",
        "        interior_t_samples = torch.FloatTensor(num_samples, 1).uniform_(0, 1).to(device).requires_grad_(True)\n",
        "        interior_x_samples = torch.FloatTensor(num_samples, 1).uniform_(-1, 1).to(device).requires_grad_(True)\n",
        "\n",
        "        res           = self.PDE_residual(interior_t_samples, interior_x_samples)\n",
        "        loss_residual = torch.mean(torch.square(res))\n",
        "\n",
        "        return loss_residual\n",
        "\n",
        "    def closure(self):\n",
        "        self.optimizer.zero_grad()\n",
        "        loss_ic, loss_interior, loss_data, loss_bc = self.compute_losses()\n",
        "        total_loss = self.w_ic*loss_ic \\\n",
        "                   + self.w_int*loss_interior\\\n",
        "                   + self.w_data*loss_data \\\n",
        "                   + self.w_bc*loss_bc\n",
        "\n",
        "        total_loss.backward(retain_graph=True)\n",
        "\n",
        "        return total_loss\n",
        "\n",
        "    def train(self, epochs, optimizer='Adam', **kwargs):\n",
        "\n",
        "        if optimizer=='Adam':\n",
        "            self.optimizer = torch.optim.Adam(self.parameters(), **kwargs)\n",
        "\n",
        "        elif optimizer=='L-BFGS':\n",
        "            self.optimizer = torch.optim.LBFGS(self.parameters(), **kwargs)\n",
        "\n",
        "        # Training loop\n",
        "        for epoch in range(epochs):\n",
        "\n",
        "\n",
        "            self.optimizer.step(self.closure)\n",
        "\n",
        "            if epoch % 4000 == 0:\n",
        "                loss_ic, loss_interior, loss_data, loss_bc = self.compute_losses()\n",
        "                total_loss = loss_ic + loss_interior + loss_data + loss_bc\n",
        "\n",
        "                print(f'Epoch ({optimizer}): {epoch}, Total Loss: {total_loss.detach().cpu().numpy()}')\n",
        "\n",
        "    def make_plot(self):\n",
        "\n",
        "        t_test, x_test, y_test    = sample_dataset(noise=0.0)\n",
        "        mu = self.forward(t_test, x_test)\n",
        "\n",
        "        fig = plt.figure(figsize=(6,3))\n",
        "        ax1 = plt.subplot(121)\n",
        "        ax2 = plt.subplot(122, sharex = ax1)\n",
        "        size = int(np.sqrt(x_test.shape[0]))\n",
        "\n",
        "        ax1.contourf(t_test.reshape(size,size),\n",
        "                     x_test.reshape(size,size),\n",
        "                     mu.detach().numpy().reshape(size,size))\n",
        "        plt.xlabel('t'); plt.ylabel('x');\n",
        "        ax1.get_shared_x_axes().join(ax1, ax2)\n",
        "\n",
        "        ax2.contourf(t_test.reshape(size,size),\n",
        "                     x_test.reshape(size,size),\n",
        "                     y_test.reshape(size,size))\n",
        "\n",
        "\n",
        "        # plt.colorbar();\n",
        "\n",
        "    # def get_training_history(self):\n",
        "    #     loss_hist = np.array(self.train_loss_history)\n",
        "    #     total_loss, loss_ic, loss_interior, loss_data = np.split(loss_hist, 3, axis=1)\n",
        "    #     return total_loss, loss_ic, loss_interior, loss_data\n",
        "\n",
        "\n",
        "    # def compute_Jacobina(self, x):\n",
        "    #     self.dy_dx = torch.autograd.functional.jacobian(self, x, create_graph=True)\n",
        "    #     self.dy_dx = torch.squeeze(self.dy_dx)\n",
        "    #     return self.dy_dx\n"
      ]
    },
    {
      "cell_type": "code",
      "source": [
        "def sample_dataset(noise=0.1, numSamples=100):\n",
        "    t = torch.linspace(0, 1, numSamples)  # Time domain\n",
        "    x = torch.linspace(-1, 1, numSamples)  # Space domain\n",
        "\n",
        "    T, X = torch.meshgrid(t, x)  # space-time domain\n",
        "\n",
        "    y_true = Experiment.exact_solution(T, X)\n",
        "    T = T.reshape(-1, 1)  # Reshape to 2D to 1D\n",
        "    X = X.reshape(-1, 1)  # Reshape to 2D to 1D\n",
        "\n",
        "    sample_mean = y_true.reshape(-1, 1)\n",
        "    sample_var = noise * torch.ones_like(sample_mean)\n",
        "    Y_noisy = torch.normal(sample_mean, sample_var)\n",
        "\n",
        "    return T, X, Y_noisy\n",
        "\n",
        "\n",
        "\n",
        "def create_train_test_datasets():\n",
        "    t_train, x_train, y_train = sample_dataset(noise=0.01, numSamples=10)\n",
        "    t_test, x_test, y_test = sample_dataset(noise=0.0, numSamples=100)\n",
        "\n",
        "    fig = plt.figure()\n",
        "    size = int(t_test.size(0)**0.5)\n",
        "\n",
        "    plt.contourf(t_test.view(size, size),\n",
        "                 x_test.view(size, size),\n",
        "                 y_test.view(size, size))\n",
        "    plt.xlabel('t'); plt.ylabel('x');\n",
        "    plt.colorbar()\n",
        "\n",
        "    train_dataset = TensorDataset(t_train, x_train, y_train)\n",
        "    train_loader = DataLoader(train_dataset, batch_size=batch_size, shuffle=True)\n",
        "\n",
        "    test_dataset = TensorDataset(t_test, x_test, y_test)\n",
        "    test_loader = DataLoader(test_dataset, batch_size=batch_size, shuffle=True)\n",
        "\n",
        "    return train_loader, test_loader"
      ],
      "metadata": {
        "id": "wHvi2l0EMbXi"
      },
      "execution_count": null,
      "outputs": []
    },
    {
      "cell_type": "code",
      "source": [
        "train_loader, test_loader = create_train_test_datasets()"
      ],
      "metadata": {
        "colab": {
          "base_uri": "https://localhost:8080/",
          "height": 402
        },
        "id": "ZU1nM2kgMvb8",
        "outputId": "d75a807a-59ee-4d6d-ce04-64ae8851f99b"
      },
      "execution_count": null,
      "outputs": [
        {
          "output_type": "display_data",
          "data": {
            "text/plain": [
              "<Figure size 400x400 with 2 Axes>"
            ],
            "image/png": "[encoded data removed]"
          },
          "metadata": {}
        }
      ]
    },
    {
      "cell_type": "code",
      "source": [
        "device = torch.device(\"cuda:0\" if torch.cuda.is_available() else \"cpu\")\n",
        "print(device)\n",
        "# working on gpu and mps"
      ],
      "metadata": {
        "colab": {
          "base_uri": "https://localhost:8080/"
        },
        "id": "MlnsqOC9M0Pd",
        "outputId": "d958ea6a-a9a1-4355-f0f5-f4e230b29133"
      },
      "execution_count": null,
      "outputs": [
        {
          "output_type": "stream",
          "name": "stdout",
          "text": [
            "cpu\n"
          ]
        }
      ]
    },
    {
      "cell_type": "code",
      "source": [
        "net = Experiment()\n",
        "print(\"Params:\", sum(p.numel() for p in net.parameters() if p.requires_grad))"
      ],
      "metadata": {
        "colab": {
          "base_uri": "https://localhost:8080/"
        },
        "id": "3_epxB0uM2uL",
        "outputId": "bdf81c57-1a86-4559-b87e-37f5cedcc792"
      },
      "execution_count": null,
      "outputs": [
        {
          "output_type": "stream",
          "name": "stdout",
          "text": [
            "Params: 1503\n"
          ]
        }
      ]
    },
    {
      "cell_type": "code",
      "source": [
        "net.w_ic=1\n",
        "net.w_data =1"
      ],
      "metadata": {
        "id": "G_GCWYv7M7WV"
      },
      "execution_count": null,
      "outputs": []
    },
    {
      "cell_type": "code",
      "source": [
        "net.train(80000, lr=1e-2)"
      ],
      "metadata": {
        "colab": {
          "base_uri": "https://localhost:8080/"
        },
        "id": "STxSOkf4M9zo",
        "outputId": "914b5774-d92b-4e38-84b9-92a4f92e2a47"
      },
      "execution_count": null,
      "outputs": [
        {
          "output_type": "stream",
          "name": "stdout",
          "text": [
            "Epoch (Adam): 0, Total Loss: 1697592960.0\n",
            "Epoch (Adam): 4000, Total Loss: 92945.6015625\n",
            "Epoch (Adam): 8000, Total Loss: 3001.25537109375\n",
            "Epoch (Adam): 12000, Total Loss: 234.14242553710938\n",
            "Epoch (Adam): 16000, Total Loss: 14.916821479797363\n",
            "Epoch (Adam): 20000, Total Loss: 5.906393527984619\n",
            "Epoch (Adam): 24000, Total Loss: 21.27543830871582\n",
            "Epoch (Adam): 28000, Total Loss: 12.699216842651367\n",
            "Epoch (Adam): 32000, Total Loss: 883.4356079101562\n",
            "Epoch (Adam): 36000, Total Loss: 354.4644470214844\n",
            "Epoch (Adam): 40000, Total Loss: 1.4200990200042725\n",
            "Epoch (Adam): 44000, Total Loss: 1.7874579429626465\n",
            "Epoch (Adam): 48000, Total Loss: 0.37028422951698303\n",
            "Epoch (Adam): 52000, Total Loss: 0.2734908163547516\n",
            "Epoch (Adam): 56000, Total Loss: 0.0936688631772995\n",
            "Epoch (Adam): 60000, Total Loss: 0.0426618792116642\n",
            "Epoch (Adam): 64000, Total Loss: 0.00891074538230896\n",
            "Epoch (Adam): 68000, Total Loss: 0.008404986001551151\n",
            "Epoch (Adam): 72000, Total Loss: 0.006372177042067051\n",
            "Epoch (Adam): 76000, Total Loss: 0.05071863532066345\n"
          ]
        }
      ]
    },
    {
      "cell_type": "code",
      "source": [
        "net.make_plot()\n",
        "samples = net.sample_parameter_posterior(num_samples=1000).detach().cpu()"
      ],
      "metadata": {
        "colab": {
          "base_uri": "https://localhost:8080/",
          "height": 325
        },
        "id": "u9tZYCP8NA4c",
        "outputId": "47c55042-6d95-48c5-ae54-764f4f8c5f4e"
      },
      "execution_count": null,
      "outputs": [
        {
          "output_type": "display_data",
          "data": {
            "text/plain": [
              "<Figure size 600x300 with 2 Axes>"
            ],
            "image/png": "[encoded data removed]"
          },
          "metadata": {}
        }
      ]
    },
    {
      "cell_type": "code",
      "source": [
        "samples"
      ],
      "metadata": {
        "colab": {
          "base_uri": "https://localhost:8080/"
        },
        "id": "v_vEgRzQNSQ0",
        "outputId": "6024e002-d7b4-4320-a6ae-8d4cd0ca2d4b"
      },
      "execution_count": null,
      "outputs": [
        {
          "output_type": "execute_result",
          "data": {
            "text/plain": [
              "tensor([[32.6564,  0.1351],\n",
              "        [32.6564,  0.1351],\n",
              "        [32.6564,  0.1351],\n",
              "        ...,\n",
              "        [32.6564,  0.1351],\n",
              "        [32.6555,  0.1351],\n",
              "        [32.6564,  0.1351]])"
            ]
          },
          "metadata": {},
          "execution_count": 13
        }
      ]
    },
    {
      "cell_type": "code",
      "source": [
        "samples.mean(axis=0), samples.std(axis=0)"
      ],
      "metadata": {
        "colab": {
          "base_uri": "https://localhost:8080/"
        },
        "id": "6iOvJSAsNVje",
        "outputId": "a93f8bc2-6fd2-4644-a657-7984dd8e56ee"
      },
      "execution_count": null,
      "outputs": [
        {
          "output_type": "execute_result",
          "data": {
            "text/plain": [
              "(tensor([32.6538,  0.1351]), tensor([0.0102, 0.0003]))"
            ]
          },
          "metadata": {},
          "execution_count": 14
        }
      ]
    },
    {
      "cell_type": "code",
      "source": [
        "g  = sns.kdeplot(samples, fill=True, palette=\"crest\",\n",
        "                 alpha=.5, linewidth=1)\n",
        "net.predicted_params"
      ],
      "metadata": {
        "colab": {
          "base_uri": "https://localhost:8080/",
          "height": 390
        },
        "id": "iA27hNxHMo9G",
        "outputId": "c337cc15-3536-4045-e653-73979046eaa5"
      },
      "execution_count": null,
      "outputs": [
        {
          "output_type": "execute_result",
          "data": {
            "text/plain": [
              "tensor([32.6564,  0.1351], grad_fn=<SqueezeBackward0>)"
            ]
          },
          "metadata": {},
          "execution_count": 15
        },
        {
          "output_type": "display_data",
          "data": {
            "text/plain": [
              "<Figure size 400x400 with 1 Axes>"
            ],
            "image/png": "[encoded data removed]"
          },
          "metadata": {}
        }
      ]
    },
    {
      "cell_type": "code",
      "source": [
        "x, t, y  = next(iter(train_loader))\n",
        "net(t, x) - Experiment.exact_solution(t,x)"
      ],
      "metadata": {
        "colab": {
          "base_uri": "https://localhost:8080/"
        },
        "id": "0LuUdJaoNWvw",
        "outputId": "893dc040-b3d0-427d-fe7d-ec8db0206827"
      },
      "execution_count": null,
      "outputs": [
        {
          "output_type": "execute_result",
          "data": {
            "text/plain": [
              "tensor([[ 0.0041],\n",
              "        [-1.8717],\n",
              "        [ 0.0640]], grad_fn=<SubBackward0>)"
            ]
          },
          "metadata": {},
          "execution_count": 16
        }
      ]
    },
    {
      "cell_type": "code",
      "source": [
        "x = torch.linspace(-1, 1, 100).reshape(-1, 1)\n",
        "t = torch.linspace(0, 1, 100).reshape(-1, 1)\n",
        "\n",
        "X, T = torch.meshgrid(x[:, 0], t[:, 0])\n",
        "\n",
        "y_true = Experiment.exact_solution(T, X)"
      ],
      "metadata": {
        "id": "HptDl2ESNU-9"
      },
      "execution_count": null,
      "outputs": []
    },
    {
      "cell_type": "code",
      "source": [
        "net(t,x);"
      ],
      "metadata": {
        "id": "7Ab-3NEqNes_"
      },
      "execution_count": null,
      "outputs": []
    }
  ],
  "metadata": {
    "colab": {
      "provenance": []
    },
    "kernelspec": {
      "display_name": "Python 3",
      "name": "python3"
    },
    "language_info": {
      "name": "python"
    }
  },
  "nbformat": 4,
  "nbformat_minor": 0
}