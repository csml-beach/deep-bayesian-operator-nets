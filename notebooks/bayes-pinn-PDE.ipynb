{
 "cells": [
  {
   "cell_type": "code",
   "execution_count": 1,
   "id": "739a86c2-19d0-4041-919f-58fad6a21931",
   "metadata": {
    "tags": []
   },
   "outputs": [],
   "source": [
    "import torch \n",
    "import numpy as np\n",
    "from numpy.ma.core import outer\n",
    "from sys import stderr\n",
    "import torch.nn as nn\n",
    "import torch.nn.functional as F\n",
    "import torch.optim as optim\n",
    "from scipy import stats\n",
    "import matplotlib.pyplot as plt\n",
    "from matplotlib.pyplot import scatter, figure\n",
    "from torch.utils.data import TensorDataset, DataLoader\n",
    "import pandas as pd\n",
    "import seaborn as sns\n",
    "sns.set(rc={'figure.figsize':(4, 4)})\n",
    "\n",
    "import warnings\n",
    "\n",
    "warnings.filterwarnings('ignore')\n"
   ]
  },
  {
   "cell_type": "code",
   "execution_count": 2,
   "id": "5e73ca15-bde6-4e65-8aba-18b861898c7d",
   "metadata": {},
   "outputs": [],
   "source": [
    "batch_size = 3\n",
    "start      = 0.0\n",
    "end        = 1.4"
   ]
  },
  {
   "cell_type": "code",
   "execution_count": 3,
   "id": "1030b8f0-1aaf-4082-a9e3-1ca296407e3b",
   "metadata": {},
   "outputs": [],
   "source": [
    "def exact_solution(t,x):\n",
    "    return np.exp(-t)*np.sin(np.pi*x)\n",
    "\n",
    "\n",
    "def sample_dataset(noise=0.1, numSamples = 100):\n",
    "    \n",
    "    x = np.linspace(-1, 1, numSamples).reshape(-1,1) # Space domain\n",
    "    t = np.linspace(0, 1, numSamples).reshape(-1,1) # Time domain\n",
    "    \n",
    "    X, T = np.meshgrid(x, t) # space-time domain\n",
    "\n",
    "    y_true = exact_solution(T, X)\n",
    "    T      = T.reshape(-1,1)\n",
    "    X      = X.reshape(-1,1)\n",
    "    sample_mean = y_true.reshape(-1,1)\n",
    "    sample_var  = noise*np.ones_like(sample_mean) \n",
    "    # sample_var = [abs((abs(start)+abs(end))/2 - abs(i))/16 for i in x]\n",
    "    Y_noisy     = stats.norm(sample_mean, sample_var).rvs(random_state=1)\n",
    "\n",
    "    return T, X, Y_noisy\n",
    "\n",
    "\n",
    "def create_train_test_datasets():\n",
    "    t_train, x_train, y_train = sample_dataset(noise=0.01, numSamples=10)\n",
    "    t_test, x_test, y_test    = sample_dataset(noise=0.0, numSamples = 100)\n",
    "    \n",
    "    fig = plt.figure()\n",
    "    size = int(np.sqrt(x_test.shape[0]))\n",
    "    \n",
    "    plt.contourf(t_test.reshape(size,size),\n",
    "                x_test.reshape(size,size),\n",
    "                y_test.reshape(size,size))\n",
    "    plt.xlabel('t'); plt.ylabel('x'); \n",
    "    plt.colorbar()\n",
    "\n",
    "    train_dataset = TensorDataset(torch.tensor(t_train),\n",
    "                                  torch.tensor(x_train),\n",
    "                                  torch.tensor(y_train))\n",
    "    train_loader = DataLoader(train_dataset, batch_size=batch_size, shuffle=True)\n",
    "\n",
    "    \n",
    "    # Test\n",
    "    test_dataset =  TensorDataset(torch.tensor(t_test),\n",
    "                                  torch.tensor(x_test),\n",
    "                                  torch.tensor(y_test))\n",
    "    test_loader = DataLoader(test_dataset, batch_size=batch_size, shuffle=True)\n",
    "\n",
    "    return train_loader, test_loader"
   ]
  },
  {
   "cell_type": "code",
   "execution_count": 20,
   "id": "5730e00e-d3ac-4eee-8552-02e35948e2b9",
   "metadata": {},
   "outputs": [
    {
     "data": {
      "image/png": "[encoded data removed]",
      "text/plain": [
       "<Figure size 400x400 with 2 Axes>"
      ]
     },
     "metadata": {},
     "output_type": "display_data"
    }
   ],
   "source": [
    "train_loader, test_loader = create_train_test_datasets()"
   ]
  },
  {
   "cell_type": "code",
   "execution_count": 116,
   "id": "641001df-7009-44a3-bb34-99c98c00ea22",
   "metadata": {},
   "outputs": [],
   "source": [
    "class Experiment(nn.Module):\n",
    "    def __init__(self):\n",
    "        super(Experiment, self).__init__()\n",
    "\n",
    "        self.optimizer = None\n",
    "        self.train_loss_history = []\n",
    "        self.w_ic   =  1   # w for initial condition \n",
    "        self.w_int  = 1   # w for internal term of the loss function (data free)\n",
    "        self.w_data = 1   # weight for the term in loss function corresponding to data \n",
    "        self.w_bc   = 1   # boundary condition\n",
    "        self.numInputs = 2\n",
    "        self.numParams = 2\n",
    "        self.numOutputs = 1\n",
    "        \n",
    "        \n",
    "        self.hidden_size = 25\n",
    "        \n",
    "        self.t0 = torch.tensor([0.0], requires_grad=True).to(device)\n",
    "        self.y0 = torch.tensor([1.0], requires_grad=True).to(device) #??\n",
    "        \n",
    "        self.predicted_params = torch.zeros(self.numParams, requires_grad=True)\n",
    "    \n",
    "\n",
    "        # We only have 1 input feature\n",
    "        self.b1 = nn.Linear(self.numInputs, self.hidden_size ).to(device)\n",
    "        self.b2 = nn.Linear(self.hidden_size, self.hidden_size).to(device)\n",
    "        self.b3 = nn.Linear(self.hidden_size, self.numOutputs).to(device)\n",
    "\n",
    "        self.t1 = nn.Linear(1, self.hidden_size).to(device)\n",
    "        self.t2 = nn.Linear(self.hidden_size, self.hidden_size).to(device)\n",
    "        self.t3 = nn.Linear(self.hidden_size, self.numParams).to(device)\n",
    "        \n",
    "        nn.init.ones_(self.b1.weight)\n",
    "        nn.init.ones_(self.b2.weight)\n",
    "        nn.init.ones_(self.b3.weight)\n",
    "        \n",
    "        nn.init.ones_(self.t1.weight)\n",
    "        nn.init.ones_(self.t2.weight)\n",
    "        nn.init.ones_(self.t3.weight)\n",
    "        \n",
    "    def forward(self, t, x):\n",
    "        if not torch.is_tensor(t):         \n",
    "            t = torch.from_numpy(t)              \n",
    "        \n",
    "        if not torch.is_tensor(x):         \n",
    "            x = torch.from_numpy(x).to(device)               \n",
    "\n",
    "        t = t.float().to(device)\n",
    "        x = x.float().to(device)\n",
    "        \n",
    "        input = torch.cat((t, x), 1)\n",
    "        \n",
    "        h1 = torch.tanh(self.b1(input))\n",
    "        h2 = torch.tanh(self.b2(h1))\n",
    "\n",
    "        prior_param_sample = torch.rand(1,1).to(device).requires_grad_(True)\n",
    "\n",
    "        t1 = torch.tanh(self.t1(prior_param_sample))\n",
    "        t2 = torch.tanh(self.t2(t1))\n",
    "        posterior_param_sample =  self.t3(t2)\n",
    "        self.predicted_params  =  posterior_param_sample.squeeze()\n",
    "        # posterior_param_sample = self.t3(torch.multiply(t2,h2))\n",
    "        \n",
    "        y  = self.b3(torch.multiply(t2,h2))\n",
    "        \n",
    "        return y\n",
    "\n",
    "    def sample_parameter_posterior(self, num_samples=100):\n",
    "        prior_param_sample     = torch.rand(num_samples,1).to(device).requires_grad_(True)\n",
    "        posterior_param_sample = \\\n",
    "           self.t3(torch.tanh(self.t2(torch.tanh(self.t1(prior_param_sample)))))\n",
    "        \n",
    "        return posterior_param_sample\n",
    "        \n",
    "    def compute_derivative(self, y, x, n):\n",
    "        # General formula to compute the n-th order derivative of y = f(x) with respect to x\n",
    "        if n == 0:\n",
    "            return y\n",
    "        else:\n",
    "            dy_dx = torch.autograd.grad(y, x, torch.ones_like(y).to(device),\n",
    "                                        create_graph=True, retain_graph=True,\n",
    "                                        allow_unused=True)[0]\n",
    "            \n",
    "        return self.compute_derivative(dy_dx, x, n - 1)\n",
    "\n",
    "    def PDE_residual(self, t, x):\n",
    "        # Compute the differential equation residual\n",
    "        y        = self.forward(t,x)\n",
    "        dy_dt    = self.compute_derivative(y, t, 1)\n",
    "        dy_dx    = self.compute_derivative(y, x, 1)\n",
    "        d2y_dx2  = self.compute_derivative(y, x, 2)\n",
    "\n",
    "        residual = dy_dt - self.predicted_params[1]*d2y_dx2  \\\n",
    "                   + torch.exp(- self.predicted_params[0]*t)*(torch.sin(np.pi*x) - np.pi*np.pi*torch.sin(np.pi*x))\n",
    "        \n",
    "        return residual\n",
    "\n",
    "    def loss_initial_condition(self, num_samples = 200):\n",
    "        y0         = self.y0 * torch.ones((num_samples,1)).to(device) ## Need to get this from exact sol\n",
    "        t0         = self.t0 * torch.ones((num_samples,1)).to(device)\n",
    "        x          = torch.FloatTensor(num_samples,1).uniform_(-1, 1).to(device).requires_grad_(True)\n",
    "        y0_pred    = self.forward(t0,x)\n",
    "        loss_ic    = torch.mean(torch.square( y0 - y0_pred))\n",
    "        \n",
    "        return loss_ic\n",
    "\n",
    "    def loss_boundary_condition(self, num_samples = 200):\n",
    "        x_low      = -1\n",
    "        x_high     =  1\n",
    "        xb_low     = x_low  * torch.ones((num_samples,1))\n",
    "        xb_high    = x_high * torch.ones((num_samples,1))\n",
    "        t          = torch.FloatTensor(num_samples,1).uniform_(-1, 1)\n",
    "        \n",
    "        yb_low     = torch.tensor(exact_solution(t.numpy(),xb_low.numpy())) # this is correct\n",
    "        yb_high    = torch.tensor(exact_solution(t.numpy(),xb_high.numpy()))\n",
    "        \n",
    "        yb_pred_low    = self.forward(t,xb_low)\n",
    "        yb_pred_high   = self.forward(t,xb_high)\n",
    "        \n",
    "        loss_ic    = torch.mean(torch.square( yb_pred_low - yb_low)) \\\n",
    "                   + torch.mean(torch.square( yb_pred_high - yb_high))\n",
    "        \n",
    "        return loss_ic\n",
    "\n",
    "    def compute_losses(self):\n",
    "\n",
    "        loss_ic       = self.loss_initial_condition()\n",
    "        loss_interior = self.loss_interior()\n",
    "        loss_data     = self.loss_data()\n",
    "        loss_bc       = self.loss_boundary_condition()\n",
    "\n",
    "        return loss_ic, loss_interior, loss_data, loss_bc\n",
    "\n",
    "\n",
    "    def loss_data(self, num_samples = 100):\n",
    "        # t_data = torch.linspace(0,1,num_samples).reshape(-1,1).to(device).requires_grad_(True)\n",
    "        # y_data = torch.exp(-2.0*t_data) \n",
    "        t_data, x_data, y_data = next(iter(train_loader))\n",
    "        y_pred = self.forward(t_data, x_data)\n",
    "        loss   = torch.mean(torch.square(y_pred-y_data))\n",
    "        \n",
    "        return loss\n",
    "        \n",
    "    def loss_interior(self, num_samples = 800):\n",
    "        interior_t_samples = torch.FloatTensor(num_samples, 1).uniform_(0, 1).to(device).requires_grad_(True)\n",
    "        interior_x_samples = torch.FloatTensor(num_samples, 1).uniform_(-1, 1).to(device).requires_grad_(True)\n",
    "        \n",
    "        res           = self.PDE_residual(interior_t_samples, interior_x_samples)\n",
    "        loss_residual = torch.mean(torch.square(res))\n",
    "        \n",
    "        return loss_residual\n",
    "        \n",
    "    def closure(self):\n",
    "        self.optimizer.zero_grad()\n",
    "        loss_ic, loss_interior, loss_data, loss_bc = self.compute_losses()\n",
    "        total_loss = self.w_ic*loss_ic \\\n",
    "                   + self.w_int*loss_interior\\\n",
    "                   + self.w_data*loss_data \\\n",
    "                   + self.w_bc*loss_bc\n",
    "        \n",
    "        total_loss.backward(retain_graph=True)\n",
    "        \n",
    "        return total_loss\n",
    "\n",
    "    def train(self, epochs, optimizer='Adam', **kwargs):\n",
    "\n",
    "        if optimizer=='Adam':\n",
    "            self.optimizer = torch.optim.Adam(self.parameters(), **kwargs)\n",
    "\n",
    "        elif optimizer=='L-BFGS':\n",
    "            self.optimizer = torch.optim.LBFGS(self.parameters(), **kwargs)\n",
    "\n",
    "        # Training loop\n",
    "        for epoch in range(epochs):\n",
    "\n",
    "\n",
    "            self.optimizer.step(self.closure)\n",
    "\n",
    "            if epoch % 4000 == 0:\n",
    "                loss_ic, loss_interior, loss_data, loss_bc = self.compute_losses()\n",
    "                total_loss = loss_ic + loss_interior + loss_data + loss_bc\n",
    "\n",
    "                print(f'Epoch ({optimizer}): {epoch}, Total Loss: {total_loss.detach().cpu().numpy()}')\n",
    "                \n",
    "    def make_plot(self):\n",
    "        \n",
    "        t_test, x_test, y_test    = sample_dataset(noise=0.0)\n",
    "        mu = self.forward(t_test, x_test)\n",
    "        \n",
    "        fig = plt.figure(figsize=(6,3))\n",
    "        ax1 = plt.subplot(121)\n",
    "        ax2 = plt.subplot(122, sharex = ax1)\n",
    "        size = int(np.sqrt(x_test.shape[0]))\n",
    "        \n",
    "        ax1.contourf(t_test.reshape(size,size),\n",
    "                     x_test.reshape(size,size),\n",
    "                     mu.detach().numpy().reshape(size,size))\n",
    "        plt.xlabel('t'); plt.ylabel('x'); \n",
    "        ax1.get_shared_x_axes().join(ax1, ax2)\n",
    "\n",
    "        ax2.contourf(t_test.reshape(size,size),\n",
    "                     x_test.reshape(size,size),\n",
    "                     y_test.reshape(size,size))\n",
    "\n",
    "        \n",
    "        # plt.colorbar();\n",
    "            \n",
    "    # def get_training_history(self):\n",
    "    #     loss_hist = np.array(self.train_loss_history)\n",
    "    #     total_loss, loss_ic, loss_interior, loss_data = np.split(loss_hist, 3, axis=1)\n",
    "    #     return total_loss, loss_ic, loss_interior, loss_data\n",
    "\n",
    "        \n",
    "    # def compute_Jacobina(self, x):\n",
    "    #     self.dy_dx = torch.autograd.functional.jacobian(self, x, create_graph=True)\n",
    "    #     self.dy_dx = torch.squeeze(self.dy_dx)\n",
    "    #     return self.dy_dx\n"
   ]
  },
  {
   "cell_type": "code",
   "execution_count": 117,
   "id": "ed233349-edb6-4640-b672-00d28cdd21ae",
   "metadata": {},
   "outputs": [
    {
     "name": "stdout",
     "output_type": "stream",
     "text": [
      "cpu\n"
     ]
    }
   ],
   "source": [
    "device = torch.device(\"cuda:0\" if torch.cuda.is_available() else \"cpu\")\n",
    "print(device)\n",
    "# note higher order derivatives not working on mps \n",
    "# havent checkd on gpu \n"
   ]
  },
  {
   "cell_type": "code",
   "execution_count": 118,
   "id": "ce77cab3-9668-4ae2-b509-df6c63e04e77",
   "metadata": {},
   "outputs": [
    {
     "name": "stdout",
     "output_type": "stream",
     "text": [
      "Params: 1503\n"
     ]
    }
   ],
   "source": [
    "net = Experiment()\n",
    "print(\"Params:\", sum(p.numel() for p in net.parameters() if p.requires_grad))"
   ]
  },
  {
   "cell_type": "code",
   "execution_count": 119,
   "id": "89782eda-112b-4e8f-a069-54090a03e902",
   "metadata": {},
   "outputs": [],
   "source": [
    "net.w_ic=1\n",
    "net.w_data =1"
   ]
  },
  {
   "cell_type": "code",
   "execution_count": 126,
   "id": "1d502667-8fcd-4a88-87b9-c4dc3726998d",
   "metadata": {},
   "outputs": [
    {
     "name": "stdout",
     "output_type": "stream",
     "text": [
      "Epoch (Adam): 0, Total Loss: 16.658046543887885\n",
      "Epoch (Adam): 4000, Total Loss: 0.1470076275913249\n",
      "Epoch (Adam): 8000, Total Loss: 0.6956964410513672\n",
      "Epoch (Adam): 12000, Total Loss: 0.29490967542730095\n",
      "Epoch (Adam): 16000, Total Loss: 0.684932859596283\n"
     ]
    }
   ],
   "source": [
    "net.train(20000, lr=1e-2)"
   ]
  },
  {
   "cell_type": "code",
   "execution_count": 127,
   "id": "30050ef6-deff-4514-ba0a-2a046a53ad9e",
   "metadata": {},
   "outputs": [
    {
     "data": {
      "image/png": "[encoded data removed]",
      "text/plain": [
       "<Figure size 600x300 with 2 Axes>"
      ]
     },
     "metadata": {},
     "output_type": "display_data"
    }
   ],
   "source": [
    "net.make_plot()\n",
    "samples = net.sample_parameter_posterior(num_samples=1000).detach().cpu()"
   ]
  },
  {
   "cell_type": "code",
   "execution_count": 123,
   "id": "17c8ae6b-dc92-45a6-ab3f-01dc26718f3b",
   "metadata": {},
   "outputs": [
    {
     "data": {
      "text/plain": [
       "tensor([[12.7249,  1.8376],\n",
       "        [12.6429,  1.8250],\n",
       "        [12.5638,  1.8112],\n",
       "        ...,\n",
       "        [12.6770,  1.8304],\n",
       "        [12.7142,  1.8361],\n",
       "        [12.6473,  1.8257]])"
      ]
     },
     "execution_count": 123,
     "metadata": {},
     "output_type": "execute_result"
    }
   ],
   "source": [
    "samples"
   ]
  },
  {
   "cell_type": "code",
   "execution_count": 124,
   "id": "9d6a9653-920b-4c91-8b92-633ad8254d99",
   "metadata": {},
   "outputs": [
    {
     "data": {
      "text/plain": [
       "(tensor([12.6412,  1.8240]), tensor([0.0775, 0.0129]))"
      ]
     },
     "execution_count": 124,
     "metadata": {},
     "output_type": "execute_result"
    }
   ],
   "source": [
    "samples.mean(axis=0), samples.std(axis=0)"
   ]
  },
  {
   "cell_type": "code",
   "execution_count": 128,
   "id": "c1d6876a-48d8-4df7-aeb6-a42cb3e2586a",
   "metadata": {},
   "outputs": [
    {
     "data": {
      "text/plain": [
       "tensor([18.7890,  8.7536], grad_fn=<SqueezeBackward0>)"
      ]
     },
     "execution_count": 128,
     "metadata": {},
     "output_type": "execute_result"
    },
    {
     "data": {
      "image/png": "[encoded data removed]",
      "text/plain": [
       "<Figure size 400x400 with 1 Axes>"
      ]
     },
     "metadata": {},
     "output_type": "display_data"
    }
   ],
   "source": [
    "g  = sns.kdeplot(samples, fill=True, palette=\"crest\",\n",
    "                 alpha=.5, linewidth=1)\n",
    "net.predicted_params"
   ]
  },
  {
   "cell_type": "code",
   "execution_count": 14,
   "id": "bd4104b3-1475-43ca-8a22-04f38bb29b58",
   "metadata": {},
   "outputs": [
    {
     "data": {
      "text/plain": [
       "tensor([[-0.7341],\n",
       "        [ 0.2527],\n",
       "        [-2.0384]], dtype=torch.float64, grad_fn=<SubBackward0>)"
      ]
     },
     "execution_count": 14,
     "metadata": {},
     "output_type": "execute_result"
    }
   ],
   "source": [
    "x,t, y  = next(iter(train_loader))\n",
    "net(t, x) - exact_solution(t,x\n",
    "                          )"
   ]
  },
  {
   "cell_type": "code",
   "execution_count": 17,
   "id": "40171cf5-9ee3-416a-a4c9-415d0a5d73cc",
   "metadata": {},
   "outputs": [],
   "source": [
    "x = np.linspace(-1, 1, 100).reshape(-1,1) # Space domain\n",
    "t = np.linspace(0, 1, 100).reshape(-1,1) # Time domain\n",
    "\n",
    "X, T = np.meshgrid(x[:, 0], t[:, 0]) # space-time domain\n",
    "\n",
    "y_true = exact_solution(T, X)"
   ]
  },
  {
   "cell_type": "code",
   "execution_count": 18,
   "id": "6ad5d181-0ad4-4b07-8f2a-3836cb65e29e",
   "metadata": {},
   "outputs": [],
   "source": [
    "net(t,x);"
   ]
  }
 ],
 "metadata": {
  "kernelspec": {
   "display_name": "Python 3 (ipykernel)",
   "language": "python",
   "name": "python3"
  },
  "language_info": {
   "codemirror_mode": {
    "name": "ipython",
    "version": 3
   },
   "file_extension": ".py",
   "mimetype": "text/x-python",
   "name": "python",
   "nbconvert_exporter": "python",
   "pygments_lexer": "ipython3",
   "version": "3.11.5"
  }
 },
 "nbformat": 4,
 "nbformat_minor": 5
}
