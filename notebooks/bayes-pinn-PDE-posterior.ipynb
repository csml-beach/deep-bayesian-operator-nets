{
 "cells": [
  {
   "cell_type": "code",
   "execution_count": 1,
   "metadata": {
    "id": "hBc_Jy8VUgOI"
   },
   "outputs": [],
   "source": [
    "import torch\n",
    "import numpy as np\n",
    "from numpy.ma.core import outer\n",
    "from sys import stderr\n",
    "import torch.nn as nn\n",
    "import torch.nn.functional as F\n",
    "import torch.optim as optim\n",
    "from scipy import stats\n",
    "import matplotlib.pyplot as plt\n",
    "from matplotlib.pyplot import scatter, figure\n",
    "from torch.utils.data import TensorDataset, DataLoader\n",
    "import pandas as pd\n",
    "import seaborn as sns\n",
    "sns.set(rc={'figure.figsize':(4, 4)})\n",
    "\n",
    "import warnings\n",
    "\n",
    "warnings.filterwarnings('ignore')\n",
    "\n",
    "\n",
    "batch_size = 32\n",
    "\n",
    "class Experiment(nn.Module):\n",
    "    def __init__(self):\n",
    "        super(Experiment, self).__init__()\n",
    "\n",
    "        self.device = torch.device(\"cuda:0\" if torch.cuda.is_available() else \"mps\" if torch.backends.mps.is_available() else \"cpu\")\n",
    "        print(self.device)\n",
    "\n",
    "        self.optimizer = None\n",
    "        self.train_loss_history = []\n",
    "        self.w_ic = 1.5\n",
    "        self.w_int = 1\n",
    "        self.w_data = 1\n",
    "        self.w_bc = 1.5\n",
    "        self.w_param_std = 1.0\n",
    "        self.numInputs = 2\n",
    "        self.numParams = 2\n",
    "        self.numOutputs = 1\n",
    "        self.hidden_size = 25\n",
    "        \n",
    "        # Initialize history variables\n",
    "        self.total_loss_history = []\n",
    "        self.loss_ic_history = []\n",
    "        self.loss_interior_history = []\n",
    "        self.loss_data_history = []\n",
    "        self.loss_bc_history = []\n",
    "        self.loss_std_history = []\n",
    "\n",
    "        self.t0 = torch.tensor([0.0], requires_grad=True).to(self.device)\n",
    "        self.y0 = torch.tensor([1.0], requires_grad=True).to(self.device)\n",
    "\n",
    "        \n",
    "#         self.predicted_params = torch.zeros((self.numParams,1), requires_grad=True, device=self.device)\n",
    "        self.predicted_params = torch.zeros((100,2), requires_grad=True, device=self.device)\n",
    "#         print(\"predicted_params inside init\", self.predicted_params)\n",
    "\n",
    "        # We only have 1 input feature\n",
    "        self.b1 = nn.Linear(self.numInputs, self.hidden_size).to(self.device)\n",
    "        self.b2 = nn.Linear(self.hidden_size, self.hidden_size).to(self.device)\n",
    "        self.b3 = nn.Linear(self.hidden_size, self.numOutputs).to(self.device)\n",
    "\n",
    "        self.t1 = nn.Linear(self.hidden_size, self.hidden_size).to(self.device)\n",
    "        self.t2 = nn.Linear(self.hidden_size, self.hidden_size).to(self.device)\n",
    "        self.t3 = nn.Linear(self.hidden_size, self.numParams).to(self.device)\n",
    "\n",
    "\n",
    "    # make this static so that it can be called independently\n",
    "    @staticmethod\n",
    "    def exact_solution(t, x):\n",
    "        return torch.exp(-t) * torch.sin(torch.pi * x)\n",
    "\n",
    "    \n",
    "    def forward(self, t, x):\n",
    "        if not torch.is_tensor(t):\n",
    "            t = torch.from_numpy(t).float().to(self.device)\n",
    "\n",
    "        if not torch.is_tensor(x):\n",
    "\n",
    "            x = torch.from_numpy(x).float().to(self.device)\n",
    "\n",
    "\n",
    "        input = torch.cat((t, x), 1)\n",
    "\n",
    "        h1 = torch.tanh(self.b1(input))\n",
    "        h2 = torch.tanh(self.b2(h1))\n",
    "\n",
    "        prior_param_sample = torch.rand(1, self.hidden_size , device=self.device).requires_grad_(True)\n",
    "\n",
    "        t1 = torch.tanh(self.t1(prior_param_sample))\n",
    "        t2 = torch.tanh(self.t2(t1))\n",
    "        posterior_param_sample = self.t3(t2)\n",
    "\n",
    "#         print(\"\\n predicted params inside forward before reshaping \\n\", self.predicted_params)\n",
    "#         self.predicted_params = posterior_param_sample.view(-1)\n",
    "#         print(\"\\n predicted params inside forward\", self.predicted_params)\n",
    "\n",
    "        y = self.b3(torch.multiply(t2, h2))\n",
    "\n",
    "        return y\n",
    "\n",
    "\n",
    "    # General formula to compute the n-th order derivative of y = f(x) with respect to x\n",
    "    def compute_derivative(self, y, x, n):\n",
    "        if n == 0:\n",
    "            return y\n",
    "        else:\n",
    "            dy_dx = torch.autograd.grad(y, x, torch.ones_like(y, device= self.device),\n",
    "                                        create_graph=True, retain_graph=True,\n",
    "                                        allow_unused=True)[0]\n",
    "\n",
    "        return self.compute_derivative(dy_dx, x, n - 1)\n",
    "\n",
    "    \n",
    "#     def PDE_residual(self, t, x):\n",
    "#         y = self.forward(t, x)\n",
    "#         dy_dt = self.compute_derivative(y, t, 1)\n",
    "#         dy_dx = self.compute_derivative(y, x, 1)\n",
    "#         d2y_dx2 = self.compute_derivative(y, x, 2)\n",
    "\n",
    "#         residual = dy_dt - self.predicted_params[0] * d2y_dx2 \\\n",
    "#             + torch.exp(-self.predicted_params[1] * t) * (torch.sin(torch.tensor(np.pi) * x) - torch.tensor(np.pi) ** 2 * torch.sin(torch.tensor(np.pi) * x))\n",
    "        \n",
    "# #         params = self.predicted_params.unsqueeze(0).repeat(len(posterior_param_samples), 1) # Repeat mean params to match the posterior samples shape\n",
    "# #         params = self.predicted_params.unsqueeze(0).repeat(100, 1) \n",
    "# #         residual = dy_dt - torch.sum(params[:, 0] * d2y_dx2, dim=1, keepdim=True) \\\n",
    "# #             + torch.exp(-params[:, 1] * t) * (torch.sin(torch.tensor(np.pi) * x) - torch.tensor(np.pi) ** 2 * torch.sin(torch.tensor(np.pi) * x))\n",
    "\n",
    "\n",
    "#         return residual\n",
    "\n",
    "\n",
    "    def PDE_residual(self, t, x):\n",
    "        y = self.forward(t, x)\n",
    "        dy_dt = self.compute_derivative(y, t, 1)\n",
    "        dy_dx = self.compute_derivative(y, x, 1)\n",
    "        d2y_dx2 = self.compute_derivative(y, x, 2)\n",
    "\n",
    "        residuals = []\n",
    "#         print(\"predicted_params inside PDE_residual\", self.predicted_params)\n",
    "        for param in self.predicted_params:\n",
    "            residual = dy_dt - param[0] * d2y_dx2 \\\n",
    "                       + torch.exp(-param[1] * t) * (torch.sin(torch.tensor(np.pi) * x) - torch.tensor(np.pi) ** 2 * torch.sin(torch.tensor(np.pi) * x))\n",
    "            residuals.append(residual)\n",
    "\n",
    "        residuals = torch.stack(residuals)  # Stack the residuals along a new dimension\n",
    "        averaged_residual = torch.mean(residuals, dim=0)  # Compute the average along the new dimension\n",
    "\n",
    "        return averaged_residual\n",
    "\n",
    "    \n",
    "    \n",
    "    def loss_initial_condition(self, num_samples=200):\n",
    "        t0 = self.t0 * torch.ones((num_samples, 1), device = self.device)\n",
    "        x = 2*torch.rand((num_samples, 1), device=self.device).requires_grad_(True)  - 1.0\n",
    "        y0_pred = self.forward(t0, x)\n",
    "        y0_true = self.exact_solution(t0, x)\n",
    "        loss_ic = torch.mean(torch.square(y0_true - y0_pred))\n",
    "        return loss_ic\n",
    "\n",
    "    \n",
    "    def loss_boundary_condition(self, num_samples=200):\n",
    "        x_low = -1\n",
    "        x_high = 1\n",
    "        xb_low   = x_low * torch.ones((num_samples, 1),  device = self.device)\n",
    "        xb_high  = x_high * torch.ones((num_samples, 1), device = self.device)\n",
    "\n",
    "        t = 2*torch.rand((num_samples, 1), device=self.device).requires_grad_(True) - 1.0\n",
    "\n",
    "        yb_low = self.exact_solution(t, xb_low)\n",
    "        yb_high = self.exact_solution(t, xb_high)\n",
    "\n",
    "        yb_pred_low = self.forward(t, xb_low)\n",
    "        yb_pred_high = self.forward(t, xb_high)\n",
    "\n",
    "        loss_ic = torch.mean(torch.square(yb_pred_low - yb_low)) \\\n",
    "                + torch.mean(torch.square(yb_pred_high - yb_high))\n",
    "\n",
    "        return loss_ic\n",
    "\n",
    "    \n",
    "    def compute_losses(self):\n",
    "        loss_ic = self.loss_initial_condition()\n",
    "        loss_interior = self.loss_interior()\n",
    "        loss_data = self.loss_data()\n",
    "        loss_bc = self.loss_boundary_condition()\n",
    "        return loss_ic, loss_interior, loss_data, loss_bc\n",
    "\n",
    "    \n",
    "    def loss_data(self, num_samples=100):\n",
    "        t_data, x_data, y_data = next(iter(train_loader))\n",
    "        y_pred = self.forward(t_data, x_data)\n",
    "        loss = torch.mean(torch.square(y_pred - y_data))\n",
    "        return loss\n",
    "\n",
    "    \n",
    "    def loss_interior(self, num_samples=200):\n",
    "\n",
    "        interior_t_samples = torch.rand((num_samples, 1),   device=self.device).requires_grad_(True)\n",
    "        interior_x_samples = 2*torch.rand((num_samples, 1), device=self.device).requires_grad_(True)  - 1.0\n",
    "        res = self.PDE_residual(interior_t_samples, interior_x_samples)\n",
    "        loss_residual = torch.mean(torch.square(res))\n",
    "        return loss_residual\n",
    "\n",
    "    \n",
    "    def sample_parameter_posterior(self, num_samples=100):\n",
    "        prior_param_samples = torch.rand(num_samples, self.hidden_size, device=self.device).requires_grad_(True)\n",
    "        t1 = torch.tanh(self.t1(prior_param_samples))\n",
    "        t2 = torch.tanh(self.t2(t1))\n",
    "        posterior_param_samples = self.t3(t2)\n",
    "#         print(\"\\n posterior samples before mean and std\", posterior_param_samples)\n",
    "#         print(\"\\n\")\n",
    "        return posterior_param_samples\n",
    "\n",
    "    \n",
    "#     def update_predicted_params(self, posterior_samples):\n",
    "\n",
    "#         mean = torch.mean(posterior_samples, dim=0)  # Compute the mean along the first axis\n",
    "#         std = torch.std(posterior_samples, dim=0)    # Compute the standard deviation along the first axis\n",
    "    \n",
    "#         self.predicted_params = mean\n",
    "#         self.std_params = std  # Attach the standard deviation as an attribute\n",
    "#         print(\"\\n predicted_params after mean and std\", self.predicted_params)\n",
    "#         print(\"\\n\")\n",
    "        \n",
    "    def update_predicted_params(self, posterior_samples):\n",
    "\n",
    "        mean = torch.mean(posterior_samples, dim=0)  # Compute the mean along the first axis\n",
    "        std = torch.std(posterior_samples, dim=0)    # Compute the standard deviation along the first axis\n",
    "\n",
    "        self.mean_predicted_params = mean  # Store the mean\n",
    "        self.std_params = std  # Attach the standard deviation as an attribute\n",
    "        \n",
    "        # Inside update_predicted_params method\n",
    "#         print(\"Shape of predicted_params before assignment:\", self.predicted_params.shape)\n",
    "#         self.predicted_params = posterior_param_sample.view(-1)\n",
    "#         print(\"Shape of predicted_params after assignment:\", self.predicted_params.shape)\n",
    "\n",
    "\n",
    "#         print(\"\\n mean predicted_params after mean and std\", self.mean_predicted_params)\n",
    "#         print(\"\\n predicted_params after mean and std\", self.predicted_params)\n",
    "#         print(\"\\n\")\n",
    "\n",
    "\n",
    "        \n",
    "    def closure(self):\n",
    "        self.optimizer.zero_grad()\n",
    "        loss_ic, loss_interior, loss_data, loss_bc = self.compute_losses()\n",
    "        total_loss = self.w_ic * loss_ic \\\n",
    "                   + self.w_int * loss_interior \\\n",
    "                   + self.w_data * loss_data \\\n",
    "                   + self.w_bc * loss_bc\n",
    "\n",
    "        # Sample the parameter posterior and update self.predicted_params and self.std_params\n",
    "        posterior_samples = self.sample_parameter_posterior(num_samples=100)\n",
    "        self.update_predicted_params(posterior_samples)\n",
    "\n",
    "        # Add the (Log(std))**2 term to the loss with the specified weight\n",
    "        self.log_std_squared_loss = self.w_param_std * torch.mean(torch.log(self.std_params)**2)\n",
    "        total_loss += self.log_std_squared_loss\n",
    "\n",
    "        total_loss.backward(retain_graph=True)\n",
    "        return total_loss\n",
    "\n",
    "\n",
    "    def train(self, epochs, optimizer='Adam', num_samples=100, **kwargs):\n",
    "        if optimizer == 'Adam':\n",
    "            self.optimizer = torch.optim.Adam(self.parameters(), **kwargs)\n",
    "\n",
    "        elif optimizer == 'L-BFGS':\n",
    "            self.optimizer = torch.optim.LBFGS(self.parameters(), **kwargs)\n",
    "\n",
    "        # Training loop\n",
    "        for epoch in range(epochs):\n",
    "            self.optimizer.step(self.closure)\n",
    "            if epoch % 1000 == 0:\n",
    "                loss_ic, loss_interior, loss_data, loss_bc = self.compute_losses()\n",
    "                total_loss = loss_ic + loss_interior + loss_data + loss_bc\n",
    "                \n",
    "                # Append losses to history\n",
    "                self.total_loss_history.append(total_loss.item())\n",
    "                self.loss_ic_history.append(loss_ic.item())\n",
    "                self.loss_interior_history.append(loss_interior.item())\n",
    "                self.loss_data_history.append(loss_data.item())\n",
    "                self.loss_bc_history.append(loss_bc.item())\n",
    "                self.loss_std_history.append(self.log_std_squared_loss.item())\n",
    "                \n",
    "#                 print(f'Epoch({optimizer}):{epoch},  Total Loss:{total_loss.item():.2f}  ' \\\n",
    "#                         f'PDE Loss:{loss_interior.item():.2f}  ' \\\n",
    "#                         f'BC Loss:{loss_bc.item():.2f}  ' \\\n",
    "#                         f'IC Loss: {loss_ic.item():.2f}  ' \\\n",
    "#                         f'Predicted Param:{self.predicted_params.detach().cpu().numpy()[0]:.2f}  ' \\\n",
    "#                         f'Std Params:{self.std_params.detach().cpu().numpy()[0]:.2f}  ' \\\n",
    "#                         f'Std Log Loss:{self.log_std_squared_loss.item():.2f}')\n",
    "                \n",
    "                print(f'Epoch({optimizer}):{epoch},  Total Loss:{total_loss.item():.2f}  ' \\\n",
    "                        f'PDE Loss:{loss_interior.item():.2f}  ' \\\n",
    "                        f'BC Loss:{loss_bc.item():.2f}  ' \\\n",
    "                        f'IC Loss: {loss_ic.item():.2f}  ' \\\n",
    "#                         f'Predicted Param:{self.predicted_params.detach().cpu().numpy()[0][0]:.2f}'\n",
    "                        f'Mean Predicted Param: {self.mean_predicted_params[0]:.2f} ' \\\n",
    "                        f'Std Params:{self.std_params.detach().cpu().numpy()[0]:.2f}  ' \\\n",
    "                        f'Std Log Loss:{self.log_std_squared_loss.item():.2f}')"
   ]
  },
  {
   "cell_type": "code",
   "execution_count": 2,
   "metadata": {
    "id": "qktqyo9XUm1y"
   },
   "outputs": [],
   "source": [
    "def sample_dataset(noise=0.1, numSamples=100, device='cpu'):\n",
    "    t = torch.linspace(0, 1, numSamples, device=device) # Time domain\n",
    "    x = torch.linspace(-1, 1, numSamples, device=device) # Space domain\n",
    "\n",
    "    T, X   = torch.meshgrid(t, x) # Time-Space domain\n",
    "\n",
    "    y_true = Experiment.exact_solution(T, X)\n",
    "    T      = T.reshape(-1, 1) # Reshape to 2D to 1D\n",
    "    X      = X.reshape(-1, 1) # Resahpe to 2D to 1D\n",
    "\n",
    "    sample_mean = y_true.reshape(-1, 1)\n",
    "    sample_var  = noise * torch.ones_like(sample_mean)\n",
    "    Y_noisy     = torch.normal(sample_mean, sample_var)\n",
    "\n",
    "    return T, X, Y_noisy\n",
    "\n",
    "\n",
    "def create_train_test_datasets(device='cpu', batch_size = 32):\n",
    "    t_train, x_train, y_train = sample_dataset(noise=0.01, numSamples=10, device=device)\n",
    "    t_test, x_test, y_test = sample_dataset(noise=0.0, numSamples=100, device=device)\n",
    "\n",
    "    fig = plt.figure()\n",
    "    size = int(t_test.size(0)**0.5)\n",
    "\n",
    "\n",
    "    plt.contourf(t_test.view(size, size).cpu().detach().numpy(),\n",
    "                 x_test.view(size, size).cpu().detach().numpy(),\n",
    "                 y_test.view(size, size).cpu().detach().numpy())\n",
    "    plt.xlabel('t'); plt.ylabel('x');\n",
    "    plt.colorbar()\n",
    "\n",
    "    train_dataset = TensorDataset(t_train, x_train, y_train)\n",
    "    train_loader = DataLoader(train_dataset, batch_size=batch_size, shuffle=True)\n",
    "\n",
    "    test_dataset = TensorDataset(t_test, x_test, y_test)\n",
    "    test_loader = DataLoader(test_dataset, batch_size=batch_size, shuffle=True)\n",
    "\n",
    "    return train_loader, test_loader\n",
    "\n",
    "\n",
    "def plot_residuals(net, device, noise=0.0):\n",
    "    t_test, x_test, y_test = sample_dataset(noise=noise, device=device)\n",
    "    mu   = net.forward(t_test, x_test)\n",
    "\n",
    "    fig  = plt.figure(figsize=(6, 3))\n",
    "    ax1  = plt.subplot(121)\n",
    "    size = int(np.sqrt(x_test.size(0)))\n",
    "\n",
    "    # Calculate the residuals (difference between predictions and ground truth)\n",
    "    absDifference  = torch.abs(mu - y_test)\n",
    "    residuals      = absDifference.view(size, size).cpu().detach().numpy()\n",
    "\n",
    "    # Create a contour plot of the residuals\n",
    "    cax = ax1.contourf(t_test.view(size, size).cpu().detach().numpy(),\n",
    "                       x_test.view(size, size).cpu().detach().numpy(),\n",
    "                       residuals)\n",
    "\n",
    "    plt.colorbar(cax)\n",
    "    plt.xlabel('t');plt.ylabel('x')\n",
    "    plt.show()\n",
    "\n",
    "\n",
    "def make_plot(net, device):\n",
    "    t_test, x_test, y_test = sample_dataset(noise=0.0, device=device)\n",
    "    mu = net.forward(t_test, x_test)\n",
    "\n",
    "    fig = plt.figure(figsize=(6, 3))\n",
    "    ax1 = plt.subplot(121)\n",
    "    ax2 = plt.subplot(122, sharex=ax1)\n",
    "    size = int(np.sqrt(x_test.size(0)))\n",
    "\n",
    "    ax1.contourf(t_test.view(size, size).cpu().detach().numpy(),\n",
    "                 x_test.view(size, size).cpu().detach().numpy(),\n",
    "                 mu.view(size, size).cpu().detach().numpy())\n",
    "\n",
    "    plt.xlabel('t')\n",
    "    plt.ylabel('x')\n",
    "\n",
    "    ax2.contourf(t_test.view(size, size).cpu().detach().numpy(),\n",
    "                 x_test.view(size, size).cpu().detach().numpy(),\n",
    "                 y_test.view(size, size).cpu().detach().numpy())\n",
    "\n",
    "    plt.show()\n",
    "\n",
    "\n",
    "def plot_loss_history(net):\n",
    "    epochs = range(len(net.total_loss_history))\n",
    "\n",
    "    plt.figure(figsize=(8, 6))\n",
    "    plt.plot(epochs, net.total_loss_history, label='Total Loss')\n",
    "    plt.plot(epochs, net.loss_ic_history, label='IC Loss')\n",
    "    plt.plot(epochs, net.loss_interior_history, label='Interior Loss')\n",
    "    plt.plot(epochs, net.loss_data_history, label='Data Loss')\n",
    "    plt.plot(epochs, net.loss_bc_history, label='BC Loss')\n",
    "    plt.plot(epochs, net.loss_std_history, label='STD Loss')\n",
    "\n",
    "    plt.xlabel('Epochs')\n",
    "    plt.ylabel('Loss')\n",
    "    plt.title('Loss Over Epochs')\n",
    "    plt.legend()\n",
    "    plt.show()\n",
    "    \n",
    "\n",
    "def plot_loss_history_log(net):\n",
    "    epochs = range(len(net.total_loss_history))\n",
    "\n",
    "    plt.figure(figsize=(8, 6))\n",
    "    plt.semilogy(epochs, net.total_loss_history, label='Total Loss')\n",
    "    plt.semilogy(epochs, net.loss_ic_history, label='IC Loss')\n",
    "    plt.semilogy(epochs, net.loss_interior_history, label='Interior Loss')\n",
    "    plt.semilogy(epochs, net.loss_data_history, label='Data Loss')\n",
    "    plt.semilogy(epochs, net.loss_bc_history, label='BC Loss')\n",
    "    plt.semilogy(epochs, net.loss_std_history, label='STD Loss')\n",
    "\n",
    "    plt.xlabel('Epochs')\n",
    "    plt.ylabel('Loss (log scale)')\n",
    "    plt.title('Loss Over Epochs (log scale)')\n",
    "    plt.legend()\n",
    "    plt.show()\n"
   ]
  },
  {
   "cell_type": "code",
   "execution_count": 3,
   "metadata": {
    "colab": {
     "base_uri": "https://localhost:8080/"
    },
    "id": "OxdtBGzUUphv",
    "outputId": "5778e169-bbae-4f41-fbdc-1f96ed1951a9"
   },
   "outputs": [
    {
     "name": "stdout",
     "output_type": "stream",
     "text": [
      "mps\n",
      "Params: 2103\n"
     ]
    }
   ],
   "source": [
    "net = Experiment()\n",
    "net.to(net.device)\n",
    "print(\"Params:\", sum(p.numel() for p in net.parameters() if p.requires_grad))"
   ]
  },
  {
   "cell_type": "code",
   "execution_count": 4,
   "metadata": {
    "colab": {
     "base_uri": "https://localhost:8080/",
     "height": 402
    },
    "id": "yvco7AmeUrOF",
    "outputId": "91677b60-7faf-4934-bb3e-964376527fab"
   },
   "outputs": [
    {
     "data": {
      "image/png": "[encoded data removed]",
      "text/plain": [
       "<Figure size 400x400 with 2 Axes>"
      ]
     },
     "metadata": {},
     "output_type": "display_data"
    }
   ],
   "source": [
    "train_loader, test_loader = create_train_test_datasets(device = net.device, batch_size=32)"
   ]
  },
  {
   "cell_type": "code",
   "execution_count": 5,
   "metadata": {
    "id": "ivyI-KUlUsBV"
   },
   "outputs": [],
   "source": [
    "net.w_ic = 2\n",
    "net.w_data = 10\n",
    "net.w_bc   = 10\n",
    "net.w_int = 2\n",
    "net.w_param_std = 2"
   ]
  },
  {
   "cell_type": "code",
   "execution_count": null,
   "metadata": {
    "colab": {
     "base_uri": "https://localhost:8080/"
    },
    "id": "pXJ12CAPUvSp",
    "outputId": "6d35b2c1-f71d-49dd-e5e5-4cb2c47d3ab5",
    "scrolled": false
   },
   "outputs": [
    {
     "name": "stdout",
     "output_type": "stream",
     "text": [
      "Epoch(Adam):0,  Total Loss:36.24  PDE Loss:35.59  BC Loss:0.01  IC Loss: 0.44  Mean Predicted Param: 0.03 Std Params:0.08  Std Log Loss:17.19\n",
      "Epoch(Adam):1000,  Total Loss:14.00  PDE Loss:10.34  BC Loss:0.07  IC Loss: 2.30  Mean Predicted Param: -1.11 Std Params:1.00  Std Log Loss:0.00\n",
      "Epoch(Adam):2000,  Total Loss:11.34  PDE Loss:7.58  BC Loss:0.03  IC Loss: 2.29  Mean Predicted Param: -1.28 Std Params:1.07  Std Log Loss:0.01\n",
      "Epoch(Adam):3000,  Total Loss:12.84  PDE Loss:8.88  BC Loss:0.02  IC Loss: 2.34  Mean Predicted Param: -1.35 Std Params:0.87  Std Log Loss:0.04\n",
      "Epoch(Adam):4000,  Total Loss:11.39  PDE Loss:7.11  BC Loss:0.02  IC Loss: 2.45  Mean Predicted Param: -1.08 Std Params:0.95  Std Log Loss:0.00\n",
      "Epoch(Adam):5000,  Total Loss:11.65  PDE Loss:8.15  BC Loss:0.01  IC Loss: 2.31  Mean Predicted Param: -1.39 Std Params:0.94  Std Log Loss:0.01\n"
     ]
    }
   ],
   "source": [
    "net.train(25000, optimizer='Adam', lr=1e-3)"
   ]
  },
  {
   "cell_type": "code",
   "execution_count": null,
   "metadata": {},
   "outputs": [],
   "source": [
    "torch.save({\n",
    "    'model_state_dict': net.state_dict(),\n",
    "    'optimizer_state_dict': net.optimizer.state_dict(),\n",
    "    'total_loss_history': net.total_loss_history,\n",
    "    'loss_ic_history': net.loss_ic_history,\n",
    "    'loss_interior_history': net.loss_interior_history,\n",
    "    'loss_data_history': net.loss_data_history,\n",
    "    'loss_bc_history': net.loss_bc_history,\n",
    "    'loss_std_history': net.loss_std_history\n",
    "    # Add other variables if needed\n",
    "}, f'model_checkpoint_trained.pth')"
   ]
  },
  {
   "cell_type": "code",
   "execution_count": null,
   "metadata": {
    "colab": {
     "base_uri": "https://localhost:8080/",
     "height": 325
    },
    "id": "jsZSJLXXUy0H",
    "outputId": "fc8f9235-4fe7-4164-a431-b9856984f1cc"
   },
   "outputs": [],
   "source": [
    "make_plot(net, device=net.device)"
   ]
  },
  {
   "cell_type": "code",
   "execution_count": null,
   "metadata": {
    "colab": {
     "base_uri": "https://localhost:8080/",
     "height": 325
    },
    "id": "oHjKd828U01l",
    "outputId": "8efc6f2e-7e8c-4061-ee3d-ab295ba79b47"
   },
   "outputs": [],
   "source": [
    "plot_residuals(net, device=net.device, noise=0.0)"
   ]
  },
  {
   "cell_type": "code",
   "execution_count": null,
   "metadata": {},
   "outputs": [],
   "source": [
    "plot_loss_history(net)"
   ]
  },
  {
   "cell_type": "code",
   "execution_count": null,
   "metadata": {},
   "outputs": [],
   "source": [
    "plot_loss_history_log(net)"
   ]
  },
  {
   "cell_type": "code",
   "execution_count": null,
   "metadata": {
    "id": "YyC72D9mU3GD"
   },
   "outputs": [],
   "source": [
    "samples = net.sample_parameter_posterior(num_samples=100)"
   ]
  },
  {
   "cell_type": "code",
   "execution_count": null,
   "metadata": {
    "colab": {
     "base_uri": "https://localhost:8080/"
    },
    "id": "AoeVq4xpU46Z",
    "outputId": "d8a24f4f-9c86-429e-d0c9-8e305b59f807"
   },
   "outputs": [],
   "source": [
    "samples.mean(axis=0), samples.std(axis=0)"
   ]
  },
  {
   "cell_type": "code",
   "execution_count": null,
   "metadata": {},
   "outputs": [],
   "source": [
    "p1, p2 = samples.cpu().detach().unbind(1)"
   ]
  },
  {
   "cell_type": "code",
   "execution_count": null,
   "metadata": {
    "colab": {
     "base_uri": "https://localhost:8080/",
     "height": 390
    },
    "id": "wdGgVRYjU6yW",
    "outputId": "97451fa7-84ec-48fc-c960-c576a5fc0621"
   },
   "outputs": [],
   "source": [
    "g  = sns.kdeplot(p1, fill=True, palette=\"crest\",\n",
    "                 alpha=.5, linewidth=1)\n",
    "\n",
    "\n",
    "g  = sns.kdeplot(p2, fill=True, palette=\"crest\",\n",
    "                 alpha=.5, linewidth=1)\n",
    "g.legend( ['D', 'Alpha'])\n",
    "\n",
    "# Histograms of individual parameters with adjusted line color\n",
    "plt.figure(figsize=(10, 4))\n",
    "plt.subplot(1, 2, 1)\n",
    "sns.histplot(df['p1'], kde=True, linewidth=2, edgecolor='black')  # Change edgecolor here\n",
    "plt.title('Parameter 1 Distribution')\n",
    "\n",
    "plt.subplot(1, 2, 2)\n",
    "sns.histplot(df['p2'], kde=True, linewidth=2, edgecolor='black')  # Change edgecolor here\n",
    "plt.title('Parameter 2 Distribution')\n",
    "\n",
    "plt.tight_layout()\n",
    "plt.show()"
   ]
  },
  {
   "cell_type": "code",
   "execution_count": null,
   "metadata": {},
   "outputs": [],
   "source": [
    "samples = net.sample_parameter_posterior(num_samples=100).cpu().detach().numpy()\n",
    "\n",
    "df = pd.DataFrame(samples, columns=['Parameter 1', 'Parameter 2'])\n",
    "\n",
    "plt.figure(figsize=(10, 4))\n",
    "plt.subplot(1, 2, 1)\n",
    "sns.histplot(df['Parameter 1'], kde=True, linewidth=2, edgecolor='blue', color='black')\n",
    "plt.title('Parameter 1 Distribution')\n",
    "\n",
    "plt.subplot(1, 2, 2)\n",
    "sns.histplot(df['Parameter 2'], kde=True, linewidth=2, edgecolor='blue', color='black')\n",
    "plt.title('Parameter 2 Distribution')\n",
    "\n",
    "plt.tight_layout()\n",
    "plt.show()"
   ]
  },
  {
   "cell_type": "code",
   "execution_count": null,
   "metadata": {
    "id": "lYqtbvIPU8eG"
   },
   "outputs": [],
   "source": [
    "x = torch.linspace(-1, 1, 100).reshape(-1, 1)\n",
    "t = torch.linspace(0, 1, 100).reshape(-1, 1)\n",
    "\n",
    "X, T = torch.meshgrid(x[:, 0], t[:, 0])\n",
    "\n",
    "y_true = Experiment.exact_solution(T, X)"
   ]
  },
  {
   "cell_type": "markdown",
   "metadata": {},
   "source": [
    "#### Loading the saved model from the checkpoint\n",
    "We can load the state of model from the saved checkpoint like shown below and also other necessary states like optimizer state, losses etc."
   ]
  },
  {
   "cell_type": "code",
   "execution_count": null,
   "metadata": {},
   "outputs": [],
   "source": [
    "checkpoint = torch.load('model_checkpoint_trained.pth')\n",
    "\n",
    "model = Experiment()  # Create an instance of your Experiment class\n",
    "model.load_state_dict(checkpoint['model_state_dict'])\n",
    "model.total_loss_history = checkpoint['total_loss_history']\n",
    "model.loss_ic_history = checkpoint['loss_ic_history']\n",
    "model.loss_interior_history = checkpoint['loss_interior_history']\n",
    "model.loss_data_history = checkpoint['loss_data_history']\n",
    "model.loss_bc_history = checkpoint['loss_bc_history']\n",
    "model.loss_std_history = checkpoint['loss_std_history']\n",
    "model.eval()  # Set the model to evaluation mode\n",
    "\n",
    "# Load Optimizer's state if necessary\n",
    "# optimizer = torch.optim.Adam(model.parameters(), lr=0.001)  \n",
    "# optimizer.load_state_dict(checkpoint['optimizer_state_dict'])\n",
    "\n",
    "device = torch.device(\"cuda:0\" if torch.cuda.is_available() else \"mps\" if torch.backends.mps.is_available() else \"cpu\")\n",
    "model.to(device)"
   ]
  },
  {
   "cell_type": "markdown",
   "metadata": {},
   "source": [
    "#### Once we load the model, we can call the plot functions by passing the new model"
   ]
  },
  {
   "cell_type": "code",
   "execution_count": null,
   "metadata": {
    "scrolled": true
   },
   "outputs": [],
   "source": [
    "make_plot(model, device)  # Call the make_plot method to plot the graph"
   ]
  },
  {
   "cell_type": "code",
   "execution_count": null,
   "metadata": {},
   "outputs": [],
   "source": [
    "plot_loss_history_log(model)"
   ]
  }
 ],
 "metadata": {
  "colab": {
   "provenance": []
  },
  "kernelspec": {
   "display_name": "Python 3 (ipykernel)",
   "language": "python",
   "name": "python3"
  },
  "language_info": {
   "codemirror_mode": {
    "name": "ipython",
    "version": 3
   },
   "file_extension": ".py",
   "mimetype": "text/x-python",
   "name": "python",
   "nbconvert_exporter": "python",
   "pygments_lexer": "ipython3",
   "version": "3.11.4"
  }
 },
 "nbformat": 4,
 "nbformat_minor": 1
}
