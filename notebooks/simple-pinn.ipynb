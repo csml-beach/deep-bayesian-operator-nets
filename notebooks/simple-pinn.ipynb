{
 "cells": [
  {
   "cell_type": "code",
   "execution_count": 1,
   "id": "739a86c2-19d0-4041-919f-58fad6a21931",
   "metadata": {
    "tags": []
   },
   "outputs": [],
   "source": [
    "import torch \n",
    "import numpy as np\n",
    "from numpy.ma.core import outer\n",
    "from sys import stderr\n",
    "import torch.nn as nn\n",
    "import torch.nn.functional as F\n",
    "import torch.optim as optim\n",
    "from scipy import stats\n",
    "import matplotlib.pyplot as plt\n",
    "from matplotlib.pyplot import scatter, figure\n",
    "from torch.utils.data import TensorDataset, DataLoader\n",
    "import pandas as pd\n",
    "import seaborn as sns\n",
    "sns.set(rc={'figure.figsize':(4, 4)})\n",
    "\n",
    "import warnings\n",
    "\n",
    "warnings.filterwarnings('ignore')\n"
   ]
  },
  {
   "cell_type": "code",
   "execution_count": 42,
   "id": "5e73ca15-bde6-4e65-8aba-18b861898c7d",
   "metadata": {},
   "outputs": [],
   "source": [
    "batch_size = 3\n",
    "start      = 0.0\n",
    "end        = 1.4"
   ]
  },
  {
   "cell_type": "code",
   "execution_count": 43,
   "id": "1030b8f0-1aaf-4082-a9e3-1ca296407e3b",
   "metadata": {},
   "outputs": [
    {
     "data": {
      "text/plain": [
       "<matplotlib.legend.Legend at 0x2a803d650>"
      ]
     },
     "execution_count": 43,
     "metadata": {},
     "output_type": "execute_result"
    },
    {
     "data": {
      "image/png": "[encoded data removed]",
      "text/plain": [
       "<Figure size 400x400 with 1 Axes>"
      ]
     },
     "metadata": {},
     "output_type": "display_data"
    }
   ],
   "source": [
    "def sample_dataset(start, end, n, noise=0.05):\n",
    "    \n",
    "    x = np.linspace(start, end, n)\n",
    "    sample_mean = np.exp(-2*x) \n",
    "    sample_var = noise*np.ones_like(sample_mean) \n",
    "    # sample_var = [abs((abs(start)+abs(end))/2 - abs(i))/16 for i in x]\n",
    "    y = stats.norm(sample_mean, sample_var).rvs(random_state=1)\n",
    "    return x, y\n",
    "\n",
    "\n",
    "x_train, y_train = sample_dataset(0, 1, 100)\n",
    "\n",
    "figure(figsize=(4, 4))\n",
    "# Not exactly the same distribution, but works for now\n",
    "x_test, y_test = sample_dataset(start, end, 100, noise = 0.0)\n",
    "scatter(x_train, y_train, c=\"blue\", marker=\"*\", label ='train')\n",
    "scatter(x_test, y_test, c=\"green\", marker=\".\", label = 'test')\n",
    "plt.legend()"
   ]
  },
  {
   "cell_type": "code",
   "execution_count": 44,
   "id": "5730e00e-d3ac-4eee-8552-02e35948e2b9",
   "metadata": {},
   "outputs": [],
   "source": [
    "# Train\n",
    "tensor_x = torch.Tensor(x_train).unsqueeze(1)\n",
    "tensor_y = torch.Tensor(y_train).unsqueeze(1)\n",
    "train_dataset = TensorDataset(tensor_x, tensor_y)\n",
    "train_loader = DataLoader(train_dataset, batch_size=batch_size, shuffle=True)\n",
    "\n",
    "# Test\n",
    "tensor_x_test = torch.Tensor(x_test).unsqueeze(1)\n",
    "tensor_y_test = torch.Tensor(y_test).unsqueeze(1)\n",
    "test_dataset = TensorDataset(tensor_x_test, tensor_y_test)\n",
    "test_loader = DataLoader(test_dataset, batch_size=batch_size, shuffle=True)"
   ]
  },
  {
   "cell_type": "code",
   "execution_count": 215,
   "id": "d99c7add-6ec3-4c8e-b27c-665d7b2eff69",
   "metadata": {},
   "outputs": [],
   "source": [
    "class FeedForward(nn.Module):\n",
    "    def __init__(self):\n",
    "        super(FeedForward, self).__init__()\n",
    "\n",
    "        self.optimizer = None\n",
    "        self.train_loss_history = []\n",
    "        \n",
    "        self.hidden_size = 15\n",
    "        self.t0 = torch.tensor([0.0], requires_grad=True)\n",
    "        self.y0 = torch.tensor([1.0], requires_grad=True)\n",
    "    \n",
    "\n",
    "        # We only have 1 input feature\n",
    "        self.b1 = nn.Linear(1, self.hidden_size)\n",
    "        self.b2 = nn.Linear(self.hidden_size, self.hidden_size)\n",
    "        self.b3 = nn.Linear(self.hidden_size, 1)\n",
    "        \n",
    "        nn.init.ones_(self.b1.weight)\n",
    "        nn.init.ones_(self.b2.weight)\n",
    "        nn.init.ones_(self.b3.weight)\n",
    "        \n",
    "    def forward(self, t):\n",
    "        if not torch.is_tensor(t):         \n",
    "            t = torch.from_numpy(t)                \n",
    "        \n",
    "        t = t.float()\n",
    "        \n",
    "        h1 = torch.tanh(self.b1(t))\n",
    "        h2 = torch.tanh(self.b2(h1))\n",
    "        y = self.b3(h2)\n",
    "         \n",
    "        return y\n",
    "\n",
    "    def compute_derivative(self, y, x, n):\n",
    "        # General formula to compute the n-th order derivative of y = f(x) with respect to x\n",
    "        if n == 0:\n",
    "            return y\n",
    "        else:\n",
    "            dy_dx = torch.autograd.grad(y, x, torch.ones_like(y).to(device),\n",
    "                                        create_graph=True, retain_graph=True,\n",
    "                                        allow_unused=True)[0]\n",
    "            \n",
    "        return self.compute_derivative(dy_dx, x, n - 1)\n",
    "\n",
    "    def PDE_residual(self, t):\n",
    "        # Compute the differential equation residual\n",
    "        y      = self.forward(t)\n",
    "        dy_dt  = self.compute_derivative(y, t, 1)\n",
    "\n",
    "        residual = dy_dt  + 2*y\n",
    "        return residual\n",
    "\n",
    "    def loss_initial_condition(self):\n",
    "        y0_pred    = self.forward(self.t0)\n",
    "        loss_ic    = torch.mean(torch.square(self.y0 - y0_pred))\n",
    "        return loss_ic\n",
    "\n",
    "    def compute_losses(self):\n",
    "\n",
    "        loss_ic       = self.loss_initial_condition()\n",
    "        loss_interior = self.loss_interior()\n",
    "        # mse_BC = self.loss_BC()\n",
    "\n",
    "        return loss_ic, loss_interior\n",
    "\n",
    "\n",
    "    def loss_interior(self, num_samples = 50):\n",
    "        interior_time_samples = torch.FloatTensor(num_samples, 1).uniform_(0, 1).requires_grad_(True)\n",
    "        res = self.PDE_residual(interior_time_samples)\n",
    "        loss_residual = torch.mean(torch.square(res))\n",
    "        \n",
    "        return loss_residual\n",
    "        \n",
    "    def closure(self, w1 = 10, w2=1):\n",
    "        self.optimizer.zero_grad()\n",
    "        loss_ic, loss_interior = self.compute_losses()\n",
    "        total_loss = w1*loss_ic + w2*loss_interior \n",
    "        total_loss.backward(retain_graph=True)\n",
    "        return total_loss\n",
    "\n",
    "    def train(self, epochs, optimizer='Adam', **kwargs):\n",
    "\n",
    "        if optimizer=='Adam':\n",
    "            self.optimizer = torch.optim.Adam(self.parameters(), **kwargs)\n",
    "\n",
    "        elif optimizer=='L-BFGS':\n",
    "            self.optimizer = torch.optim.LBFGS(self.parameters(), **kwargs)\n",
    "\n",
    "        # Training loop\n",
    "        for epoch in range(epochs):\n",
    "\n",
    "\n",
    "            self.optimizer.step(self.closure)\n",
    "\n",
    "            if epoch % 100 == 0:\n",
    "                loss_ic, loss_interior = self.compute_losses()\n",
    "                total_loss = loss_ic + loss_interior\n",
    "            \n",
    "            # self.train_loss_history.append([total_loss.cpu().detach(),\n",
    "            #                                 loss_ic.cpu().detach(),\n",
    "            #                                 loss_interior.cpu().detach()])\n",
    "                print(f'Epoch ({optimizer}): {epoch}, Total Loss: {total_loss.detach().cpu().numpy()}')\n",
    "            \n",
    "    def get_training_history(self):\n",
    "        loss_hist = np.array(self.train_loss_history)\n",
    "        total_loss, loss_ic, loss_interior = np.split(loss_hist, 3, axis=1)\n",
    "        return total_loss, loss_ic, loss_interior\n",
    "\n",
    "        \n",
    "    # def compute_Jacobina(self, x):\n",
    "    #     self.dy_dx = torch.autograd.functional.jacobian(self, x, create_graph=True)\n",
    "    #     self.dy_dx = torch.squeeze(self.dy_dx)\n",
    "    #     return self.dy_dx\n",
    "\n",
    "   # def loss_BC(self):\n",
    "   #      y_pred_BC1 = self.network_prediction(self.t_lb, self.x_lb)\n",
    "   #      mse_BC1 = torch.mean((self.y_lb - y_pred_BC1)**2)\n",
    "        \n",
    "   #      y_pred_BC2 = self.network_prediction(self.t_ub, self.x_ub)\n",
    "   #      mse_BC2 = torch.mean((self.y_ub - y_pred_BC2)**2)\n",
    "        \n",
    "   #      mse_BC = mse_BC1 + mse_BC2\n",
    "   #      return mse_BC\n",
    "\n",
    "    def make_plot(self):\n",
    "        # Get predictions\n",
    "        mu = self.forward(tensor_x_test)\n",
    "    \n",
    "        # Create DF from predictions\n",
    "    \n",
    "        data = {\n",
    "                  \"x\": list(tensor_x_test.squeeze().detach().numpy()),\n",
    "                  \"y\": list(mu.squeeze().detach().numpy())\n",
    "            }\n",
    "        temp = pd.DataFrame.from_dict(data)\n",
    "    \n",
    "        # Plot predictions with confidence\n",
    "        sns_plot = sns.lineplot(data=temp, x=\"x\", y=\"y\", c='r')\n",
    "    \n",
    "        # Highlight training range\n",
    "        plt.axvline(x=start)\n",
    "        plt.axvline(x=end)\n",
    "    \n",
    "        # Plot test data on top\n",
    "        scatter(x_test, y_test, c=\"green\", marker=\"*\", alpha=0.5)\n",
    "        plt.show()"
   ]
  },
  {
   "cell_type": "code",
   "execution_count": 216,
   "id": "ed233349-edb6-4640-b672-00d28cdd21ae",
   "metadata": {},
   "outputs": [],
   "source": [
    "device = torch.device(\"cuda:0\" if torch.cuda.is_available() else \"cpu\")"
   ]
  },
  {
   "cell_type": "code",
   "execution_count": 217,
   "id": "ce77cab3-9668-4ae2-b509-df6c63e04e77",
   "metadata": {},
   "outputs": [
    {
     "name": "stdout",
     "output_type": "stream",
     "text": [
      "FeedForward(\n",
      "  (b1): Linear(in_features=1, out_features=15, bias=True)\n",
      "  (b2): Linear(in_features=15, out_features=15, bias=True)\n",
      "  (b3): Linear(in_features=15, out_features=1, bias=True)\n",
      ")\n",
      "Params: 286\n"
     ]
    }
   ],
   "source": [
    "net = FeedForward()\n",
    "print(net)\n",
    "print(\"Params:\", sum(p.numel() for p in net.parameters() if p.requires_grad))"
   ]
  },
  {
   "cell_type": "code",
   "execution_count": 218,
   "id": "a47f3ef6-05be-4d13-ae3f-79d20ce7181f",
   "metadata": {},
   "outputs": [],
   "source": [
    "x, y  = next(iter(train_loader))"
   ]
  },
  {
   "cell_type": "code",
   "execution_count": 222,
   "id": "1d502667-8fcd-4a88-87b9-c4dc3726998d",
   "metadata": {},
   "outputs": [
    {
     "name": "stdout",
     "output_type": "stream",
     "text": [
      "Epoch (Adam): 0, Total Loss: 2.194577217102051\n",
      "Epoch (Adam): 100, Total Loss: 2.126202344894409\n",
      "Epoch (Adam): 200, Total Loss: 0.040116265416145325\n",
      "Epoch (Adam): 300, Total Loss: 0.0014663846231997013\n",
      "Epoch (Adam): 400, Total Loss: 0.0015007649781182408\n",
      "Epoch (Adam): 500, Total Loss: 0.0009673470049165189\n",
      "Epoch (Adam): 600, Total Loss: 0.0009885686449706554\n",
      "Epoch (Adam): 700, Total Loss: 0.0008165267063304782\n",
      "Epoch (Adam): 800, Total Loss: 0.0010192100889980793\n",
      "Epoch (Adam): 900, Total Loss: 0.0009529534145258367\n",
      "Epoch (Adam): 1000, Total Loss: 0.0006491343374364078\n",
      "Epoch (Adam): 1100, Total Loss: 0.0005600468721240759\n",
      "Epoch (Adam): 1200, Total Loss: 0.00048254005378112197\n",
      "Epoch (Adam): 1300, Total Loss: 0.0006362117128446698\n",
      "Epoch (Adam): 1400, Total Loss: 0.0005921046249568462\n",
      "Epoch (Adam): 1500, Total Loss: 0.0007595826755277812\n",
      "Epoch (Adam): 1600, Total Loss: 0.00044712581438943744\n",
      "Epoch (Adam): 1700, Total Loss: 0.0005136218387633562\n",
      "Epoch (Adam): 1800, Total Loss: 0.00034309987677261233\n",
      "Epoch (Adam): 1900, Total Loss: 0.0004402883641887456\n",
      "Epoch (Adam): 2000, Total Loss: 0.0003865963371936232\n",
      "Epoch (Adam): 2100, Total Loss: 0.00025615579215809703\n",
      "Epoch (Adam): 2200, Total Loss: 0.0003132571582682431\n",
      "Epoch (Adam): 2300, Total Loss: 0.0002574346144683659\n",
      "Epoch (Adam): 2400, Total Loss: 0.0002011623146245256\n",
      "Epoch (Adam): 2500, Total Loss: 0.0001305337209487334\n",
      "Epoch (Adam): 2600, Total Loss: 0.00014722190098837018\n",
      "Epoch (Adam): 2700, Total Loss: 0.00012867683835793287\n",
      "Epoch (Adam): 2800, Total Loss: 0.00017337453027721494\n",
      "Epoch (Adam): 2900, Total Loss: 9.488839714322239e-05\n",
      "Epoch (Adam): 3000, Total Loss: 7.311272929655388e-05\n",
      "Epoch (Adam): 3100, Total Loss: 8.085317676886916e-05\n",
      "Epoch (Adam): 3200, Total Loss: 0.00010674000077415258\n",
      "Epoch (Adam): 3300, Total Loss: 4.418036769493483e-05\n",
      "Epoch (Adam): 3400, Total Loss: 6.555440631927922e-05\n",
      "Epoch (Adam): 3500, Total Loss: 4.7933590394677594e-05\n",
      "Epoch (Adam): 3600, Total Loss: 3.317539085401222e-05\n",
      "Epoch (Adam): 3700, Total Loss: 2.6571449780021794e-05\n",
      "Epoch (Adam): 3800, Total Loss: 2.1866720999241807e-05\n",
      "Epoch (Adam): 3900, Total Loss: 1.4081319022807293e-05\n",
      "Epoch (Adam): 4000, Total Loss: 9.186286661133636e-06\n",
      "Epoch (Adam): 4100, Total Loss: 1.0899113476625644e-05\n",
      "Epoch (Adam): 4200, Total Loss: 1.0733611816249322e-05\n",
      "Epoch (Adam): 4300, Total Loss: 6.8186841417627875e-06\n",
      "Epoch (Adam): 4400, Total Loss: 8.351680662599392e-06\n",
      "Epoch (Adam): 4500, Total Loss: 7.12304245098494e-06\n",
      "Epoch (Adam): 4600, Total Loss: 6.729488177370513e-06\n",
      "Epoch (Adam): 4700, Total Loss: 4.499155693338253e-06\n",
      "Epoch (Adam): 4800, Total Loss: 5.76902039028937e-06\n",
      "Epoch (Adam): 4900, Total Loss: 3.7568158859357936e-06\n"
     ]
    }
   ],
   "source": [
    "net.train(5000, lr=1e-3)"
   ]
  },
  {
   "cell_type": "code",
   "execution_count": 223,
   "id": "30050ef6-deff-4514-ba0a-2a046a53ad9e",
   "metadata": {},
   "outputs": [
    {
     "data": {
      "text/plain": [
       "tensor([[0.0006],\n",
       "        [0.0007],\n",
       "        [0.0003]], grad_fn=<SubBackward0>)"
      ]
     },
     "execution_count": 223,
     "metadata": {},
     "output_type": "execute_result"
    }
   ],
   "source": [
    "net(x) - torch.exp(-2*x)"
   ]
  },
  {
   "cell_type": "code",
   "execution_count": 224,
   "id": "ccbc3ac4-8aed-4466-8a0f-d9a582479ed5",
   "metadata": {},
   "outputs": [
    {
     "data": {
      "image/png": "[encoded data removed]",
      "text/plain": [
       "<Figure size 400x400 with 1 Axes>"
      ]
     },
     "metadata": {},
     "output_type": "display_data"
    }
   ],
   "source": [
    "net.make_plot()"
   ]
  }
 ],
 "metadata": {
  "kernelspec": {
   "display_name": "Python 3 (ipykernel)",
   "language": "python",
   "name": "python3"
  },
  "language_info": {
   "codemirror_mode": {
    "name": "ipython",
    "version": 3
   },
   "file_extension": ".py",
   "mimetype": "text/x-python",
   "name": "python",
   "nbconvert_exporter": "python",
   "pygments_lexer": "ipython3",
   "version": "3.11.3"
  }
 },
 "nbformat": 4,
 "nbformat_minor": 5
}
