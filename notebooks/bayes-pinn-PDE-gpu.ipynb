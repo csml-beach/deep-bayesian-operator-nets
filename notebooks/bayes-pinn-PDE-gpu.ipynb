{
 "cells": [
  {
   "cell_type": "code",
   "execution_count": 8,
   "metadata": {
    "id": "HP7g7ilB29K8"
   },
   "outputs": [],
   "source": [
    "import torch\n",
    "import numpy as np\n",
    "from numpy.ma.core import outer\n",
    "from sys import stderr\n",
    "import torch.nn as nn\n",
    "import torch.nn.functional as F\n",
    "import torch.optim as optim\n",
    "from scipy import stats\n",
    "import matplotlib.pyplot as plt\n",
    "from matplotlib.pyplot import scatter, figure\n",
    "from torch.utils.data import TensorDataset, DataLoader\n",
    "import pandas as pd\n",
    "import seaborn as sns\n",
    "sns.set(rc={'figure.figsize':(4, 4)})\n",
    "\n",
    "import warnings\n",
    "\n",
    "warnings.filterwarnings('ignore')\n",
    "\n",
    "\n",
    "batch_size = 16\n",
    "\n",
    "class Experiment(nn.Module):\n",
    "    def __init__(self):\n",
    "        super(Experiment, self).__init__()\n",
    "\n",
    "        self.device = torch.device(\"cuda:0\" if torch.cuda.is_available() else \"mps\" if torch.backends.mps.is_available() else \"cpu\")\n",
    "        print(self.device)\n",
    "\n",
    "        self.optimizer = None\n",
    "        self.train_loss_history = []\n",
    "        self.w_ic = 1\n",
    "        self.w_int = 1\n",
    "        self.w_data = 1\n",
    "        self.w_bc = 1\n",
    "        self.numInputs = 2\n",
    "        self.numParams = 2\n",
    "        self.numOutputs = 1\n",
    "        self.hidden_size = 25\n",
    "\n",
    "        self.t0 = torch.tensor([0.0], requires_grad=True).to(self.device)\n",
    "        self.y0 = torch.tensor([1.0], requires_grad=True).to(self.device)\n",
    "\n",
    "        self.predicted_params = torch.zeros((self.numParams,1), requires_grad=True, device=self.device)\n",
    "\n",
    "        # We only have 1 input feature\n",
    "        self.b1 = nn.Linear(self.numInputs, self.hidden_size).to(self.device)\n",
    "        self.b2 = nn.Linear(self.hidden_size, self.hidden_size).to(self.device)\n",
    "        self.b3 = nn.Linear(self.hidden_size, self.numOutputs).to(self.device)\n",
    "\n",
    "        self.t1 = nn.Linear(1, self.hidden_size).to(self.device)\n",
    "        self.t2 = nn.Linear(self.hidden_size, self.hidden_size).to(self.device)\n",
    "        self.t3 = nn.Linear(self.hidden_size, self.numParams).to(self.device)\n",
    "\n",
    "        nn.init.ones_(self.b1.weight)\n",
    "        nn.init.ones_(self.b2.weight)\n",
    "        nn.init.ones_(self.b3.weight)\n",
    "\n",
    "        nn.init.ones_(self.t1.weight)\n",
    "        nn.init.ones_(self.t2.weight)\n",
    "        nn.init.ones_(self.t3.weight)\n",
    "\n",
    "    # make this static so that it can be called independently\n",
    "    @staticmethod\n",
    "    def exact_solution(t, x):\n",
    "        return torch.exp(-t) * torch.sin(torch.pi * x)\n",
    "\n",
    "    def forward(self, t, x):\n",
    "        if not torch.is_tensor(t):\n",
    "            t = torch.from_numpy(t).float().to(self.device)\n",
    "\n",
    "        if not torch.is_tensor(x):\n",
    "\n",
    "            x = torch.from_numpy(x).float().to(self.device)\n",
    "            \n",
    "\n",
    "        input = torch.cat((t, x), 1)\n",
    "\n",
    "        h1 = torch.tanh(self.b1(input))\n",
    "        h2 = torch.tanh(self.b2(h1))\n",
    "\n",
    "        prior_param_sample = torch.rand(1, 1, device=self.device).requires_grad_(True)\n",
    "\n",
    "        t1 = torch.tanh(self.t1(prior_param_sample))\n",
    "        t2 = torch.tanh(self.t2(t1))\n",
    "        posterior_param_sample = self.t3(t2)\n",
    "        \n",
    "        self.predicted_params = posterior_param_sample.view(-1)\n",
    "\n",
    "        y = self.b3(torch.multiply(t2, h2))\n",
    "\n",
    "        return y\n",
    "\n",
    "    def sample_parameter_posterior(self, num_samples=100):\n",
    "        prior_param_sample = torch.rand(num_samples, 1, device=self.device).requires_grad_(True)\n",
    "        posterior_param_sample = self.t3(torch.tanh(self.t2(torch.tanh(self.t1(prior_param_sample)))))\n",
    "        return posterior_param_sample\n",
    "\n",
    "    # General formula to compute the n-th order derivative of y = f(x) with respect to x\n",
    "    def compute_derivative(self, y, x, n):\n",
    "        if n == 0:\n",
    "            return y\n",
    "        else:\n",
    "            dy_dx = torch.autograd.grad(y, x, torch.ones_like(y, device= self.device),\n",
    "                                        create_graph=True, retain_graph=True,\n",
    "                                        allow_unused=True)[0]\n",
    "\n",
    "        return self.compute_derivative(dy_dx, x, n - 1)\n",
    "\n",
    "    def PDE_residual(self, t, x):\n",
    "        y = self.forward(t, x)\n",
    "        dy_dt = self.compute_derivative(y, t, 1)\n",
    "        dy_dx = self.compute_derivative(y, x, 1)\n",
    "        d2y_dx2 = self.compute_derivative(y, x, 2)\n",
    "\n",
    "        residual = dy_dt - self.predicted_params[0] * d2y_dx2 \\\n",
    "            + torch.exp(-self.predicted_params[1] * t) * (torch.sin(torch.tensor(np.pi) * x) - torch.tensor(np.pi) ** 2 * torch.sin(torch.tensor(np.pi) * x))\n",
    "      \n",
    "        \n",
    "        # residual = dy_dt - d2y_dx2  + torch.exp(-self.predicted_params[0] * t) * (torch.sin(torch.tensor(np.pi) * x) - torch.tensor(np.pi) ** 2 * torch.sin(torch.tensor(np.pi) * x))\n",
    "        return residual\n",
    "\n",
    "    def loss_initial_condition(self, num_samples=200):\n",
    "        t0 = self.t0 * torch.ones((num_samples, 1), device = self.device)\n",
    "#         x = torch.FloatTensor(num_samples, 1).uniform_(-1, 1).to(self.device).requires_grad_(True)\n",
    "        x = 2*torch.rand((num_samples, 1), device=self.device).requires_grad_(True)  - 1.0\n",
    "        y0_pred = self.forward(t0, x)\n",
    "        y0_true = self.exact_solution(t0, x)\n",
    "        loss_ic = torch.mean(torch.square(y0_true - y0_pred))\n",
    "        return loss_ic\n",
    "\n",
    "    def loss_boundary_condition(self, num_samples=200):\n",
    "        x_low = -1\n",
    "        x_high = 1\n",
    "        xb_low   = x_low * torch.ones((num_samples, 1),  device = self.device)\n",
    "        xb_high  = x_high * torch.ones((num_samples, 1), device = self.device)\n",
    "\n",
    "#         t = torch.FloatTensor(num_samples, 1).uniform_(-1, 1).to(self.device)\n",
    "        t = torch.rand((num_samples, 1),   device=self.device).requires_grad_(True)\n",
    "\n",
    "        yb_low = self.exact_solution(t, xb_low)\n",
    "        yb_high = self.exact_solution(t, xb_high)\n",
    "\n",
    "        yb_pred_low = self.forward(t, xb_low)\n",
    "        yb_pred_high = self.forward(t, xb_high)\n",
    "\n",
    "        loss_ic = torch.mean(torch.square(yb_pred_low - yb_low)) \\\n",
    "                + torch.mean(torch.square(yb_pred_high - yb_high))\n",
    "\n",
    "        return loss_ic\n",
    "\n",
    "    def compute_losses(self):\n",
    "        loss_ic = self.loss_initial_condition()\n",
    "        loss_interior = self.loss_interior()\n",
    "        loss_data = self.loss_data()\n",
    "        loss_bc = self.loss_boundary_condition()\n",
    "        return loss_ic, loss_interior, loss_data, loss_bc\n",
    "\n",
    "    def loss_data(self, num_samples=100):\n",
    "        t_data, x_data, y_data = next(iter(train_loader))\n",
    "        y_pred = self.forward(t_data, x_data)\n",
    "        loss = torch.mean(torch.square(y_pred - y_data))\n",
    "        return loss\n",
    "\n",
    "    def loss_interior(self, num_samples=500):\n",
    "        \n",
    "\n",
    "#        interior_t_samples = torch.FloatTensor(num_samples, 1).uniform_(0, 1).to(self.device).requires_grad_(True)\n",
    "        interior_t_samples = torch.rand((num_samples, 1),   device=self.device).requires_grad_(True)\n",
    "        interior_x_samples = 2*torch.rand((num_samples, 1), device=self.device).requires_grad_(True)  - 1.0\n",
    "#         interior_x_samples = torch.FloatTensor(num_samples, 1).uniform_(-1, 1).to(self.device).requires_grad_(True)\n",
    "        res = self.PDE_residual(interior_t_samples, interior_x_samples)\n",
    "        loss_residual = torch.mean(torch.square(res))\n",
    "        return loss_residual\n",
    "\n",
    "    def closure(self):\n",
    "        self.optimizer.zero_grad()\n",
    "        loss_ic, loss_interior, loss_data, loss_bc = self.compute_losses()\n",
    "        total_loss = self.w_ic * loss_ic \\\n",
    "                   + self.w_int * loss_interior \\\n",
    "                   + self.w_data * loss_data \\\n",
    "                   + self.w_bc * loss_bc\n",
    "\n",
    "        total_loss.backward(retain_graph=True)\n",
    "        return total_loss\n",
    "\n",
    "    def train(self, epochs, optimizer='Adam', **kwargs):\n",
    "        if optimizer == 'Adam':\n",
    "            self.optimizer = torch.optim.Adam(self.parameters(), **kwargs)\n",
    "\n",
    "        elif optimizer == 'L-BFGS':\n",
    "            self.optimizer = torch.optim.LBFGS(self.parameters(), **kwargs)\n",
    "\n",
    "        # Training loop\n",
    "        for epoch in range(epochs):\n",
    "            self.optimizer.step(self.closure)\n",
    "            if epoch % 4000 == 0:\n",
    "                loss_ic, loss_interior, loss_data, loss_bc = self.compute_losses()\n",
    "                total_loss = loss_ic + loss_interior + loss_data + loss_bc\n",
    "                print(f'Epoch ({optimizer}): {epoch},  Total Loss: {total_loss.detach().cpu().numpy()},\\t' \\\n",
    "                        f'PDE Loss: {loss_interior.detach().cpu().numpy()} \\t' \\\n",
    "                        f'BC Loss:  {loss_bc.detach().cpu().numpy()}\\t' \\\n",
    "                        f'IC Loss:  {loss_ic.detach().cpu().numpy()}\\t' \\\n",
    "                        f'Predicted Param: {net.predicted_params.detach().cpu().numpy()}\\t')\n",
    "\n",
    "    \n",
    "\n",
    "    def make_plot(self):\n",
    "        t_test, x_test, y_test = sample_dataset(noise=0.0, device=self.device)\n",
    "        mu = self.forward(t_test, x_test)\n",
    "\n",
    "        fig = plt.figure(figsize=(6, 3))\n",
    "        ax1 = plt.subplot(121)\n",
    "        ax2 = plt.subplot(122, sharex=ax1)\n",
    "        size = int(np.sqrt(x_test.size(0)))\n",
    "\n",
    "        # Reshape mu and y_test to 2D grids\n",
    "        # mu = mu.view(size, size).cpu().detach().numpy()\n",
    "        # y_test = y_test.view(size, size).cpu().detach().numpy()\n",
    "\n",
    "        ax1.contourf(t_test.view(size, size).cpu().detach().numpy(),\n",
    "                     x_test.view(size, size).cpu().detach().numpy(),\n",
    "                     mu.view(size, size).cpu().detach().numpy())\n",
    "\n",
    "        plt.xlabel('t')\n",
    "        plt.ylabel('x')\n",
    "\n",
    "        # Use add_subplots() to share x-axes\n",
    "        ax2.contourf(t_test.view(size, size).cpu().detach().numpy(),\n",
    "                     x_test.view(size, size).cpu().detach().numpy(),\n",
    "                     y_test.view(size, size).cpu().detach().numpy())\n",
    "\n",
    "        plt.show()\n",
    "\n"
   ]
  },
  {
   "cell_type": "code",
   "execution_count": 9,
   "metadata": {
    "id": "imp7nK7wO0n3"
   },
   "outputs": [],
   "source": [
    "def sample_dataset(noise=0.1, numSamples=100, device='cpu'):\n",
    "    t = torch.linspace(0, 1, numSamples, device=device) # Time domain\n",
    "    x = torch.linspace(-1, 1, numSamples, device=device) # Space domain\n",
    "\n",
    "    T, X   = torch.meshgrid(t, x) # Time-Space domain\n",
    "\n",
    "    y_true = Experiment.exact_solution(T, X)\n",
    "    T      = T.reshape(-1, 1) # Reshape to 2D to 1D\n",
    "    X      = X.reshape(-1, 1) # Resahpe to 2D to 1D\n",
    "\n",
    "    sample_mean = y_true.reshape(-1, 1)\n",
    "    sample_var  = noise * torch.ones_like(sample_mean)\n",
    "    Y_noisy     = torch.normal(sample_mean, sample_var)\n",
    "\n",
    "    return T, X, Y_noisy\n",
    "\n",
    "\n",
    "def create_train_test_datasets(device='cpu'):\n",
    "    t_train, x_train, y_train = sample_dataset(noise=0.01, numSamples=10, device=device)\n",
    "    t_test, x_test, y_test = sample_dataset(noise=0.0, numSamples=100, device=device)\n",
    "\n",
    "    fig = plt.figure()\n",
    "    size = int(t_test.size(0)**0.5)\n",
    "\n",
    "\n",
    "    plt.contourf(t_test.view(size, size).cpu().detach().numpy(),\n",
    "                 x_test.view(size, size).cpu().detach().numpy(),\n",
    "                 y_test.view(size, size).cpu().detach().numpy())\n",
    "    plt.xlabel('t'); plt.ylabel('x');\n",
    "    plt.colorbar()\n",
    "\n",
    "    train_dataset = TensorDataset(t_train, x_train, y_train)\n",
    "    train_loader = DataLoader(train_dataset, batch_size=batch_size, shuffle=True)\n",
    "\n",
    "    test_dataset = TensorDataset(t_test, x_test, y_test)\n",
    "    test_loader = DataLoader(test_dataset, batch_size=batch_size, shuffle=True)\n",
    "\n",
    "    return train_loader, test_loader"
   ]
  },
  {
   "cell_type": "code",
   "execution_count": 10,
   "metadata": {
    "colab": {
     "base_uri": "https://localhost:8080/"
    },
    "id": "naKucwmIPREz",
    "outputId": "be3f6264-6b44-4736-a975-dac1511a2c82"
   },
   "outputs": [
    {
     "name": "stdout",
     "output_type": "stream",
     "text": [
      "mps\n",
      "Params: 1503\n"
     ]
    }
   ],
   "source": [
    "net = Experiment()\n",
    "net.to(net.device)\n",
    "print(\"Params:\", sum(p.numel() for p in net.parameters() if p.requires_grad))"
   ]
  },
  {
   "cell_type": "code",
   "execution_count": 11,
   "metadata": {
    "colab": {
     "base_uri": "https://localhost:8080/",
     "height": 402
    },
    "id": "9r2oKfWtPHts",
    "outputId": "272e9cdb-204c-4300-e807-88b2afa09aae"
   },
   "outputs": [
    {
     "data": {
      "image/png": "[encoded data removed]",
      "text/plain": [
       "<Figure size 400x400 with 2 Axes>"
      ]
     },
     "metadata": {},
     "output_type": "display_data"
    }
   ],
   "source": [
    "train_loader, test_loader = create_train_test_datasets(device = net.device)"
   ]
  },
  {
   "cell_type": "code",
   "execution_count": 12,
   "metadata": {
    "id": "wf7l5YJbPRIt"
   },
   "outputs": [],
   "source": [
    "net.w_ic = 1\n",
    "net.w_data = 1\n",
    "net.w_bc   = 1"
   ]
  },
  {
   "cell_type": "code",
   "execution_count": 13,
   "metadata": {
    "colab": {
     "base_uri": "https://localhost:8080/"
    },
    "id": "MSxmqmH8PZGa",
    "outputId": "86f29ea0-9b1e-4a92-8fc0-54d1aadf5992"
   },
   "outputs": [
    {
     "name": "stdout",
     "output_type": "stream",
     "text": [
      "Epoch (Adam): 0,  Total Loss: 2080738048.0,\tPDE Loss: 2080736128.0 \tBC Loss:  913.7391357421875\tIC Loss:  550.7059326171875\tPredicted Param: [17.584503 17.508144]\t\n",
      "Epoch (Adam): 4000,  Total Loss: 30250.388671875,\tPDE Loss: 29987.9296875 \tBC Loss:  144.46115112304688\tIC Loss:  76.77094268798828\tPredicted Param: [12.101553 21.267057]\t\n",
      "Epoch (Adam): 8000,  Total Loss: 2599.3408203125,\tPDE Loss: 2533.396240234375 \tBC Loss:  39.200653076171875\tIC Loss:  15.68298053741455\tPredicted Param: [ 9.146641 21.276499]\t\n"
     ]
    }
   ],
   "source": [
    "net.train(10000, optimizer='Adam', lr=1e-2)"
   ]
  },
  {
   "cell_type": "code",
   "execution_count": 14,
   "metadata": {
    "colab": {
     "base_uri": "https://localhost:8080/",
     "height": 325
    },
    "id": "Xd286VWdPRLW",
    "outputId": "29bc9154-9d65-4626-a9f2-253fa02b45b4"
   },
   "outputs": [
    {
     "data": {
      "image/png": "[encoded data removed]",
      "text/plain": [
       "<Figure size 600x300 with 2 Axes>"
      ]
     },
     "metadata": {},
     "output_type": "display_data"
    }
   ],
   "source": [
    "net.make_plot()"
   ]
  },
  {
   "cell_type": "code",
   "execution_count": null,
   "metadata": {
    "colab": {
     "base_uri": "https://localhost:8080/"
    },
    "id": "eSD0phvvPd-v",
    "outputId": "00db8e99-45fb-498c-c59b-884b2696b01a"
   },
   "outputs": [],
   "source": [
    "# Plot the error\n",
    "\n",
    "t_test, x_test, y_test = sample_dataset(noise=0.0, device = net.device)\n",
    "mu = net.forward(t_test, x_test)\n",
    "\n",
    "fig = plt.figure(figsize=(6, 3))\n",
    "ax1 = plt.subplot(121)\n",
    "size = int(np.sqrt(x_test.size(0)))\n",
    "\n",
    "# Reshape mu and y_test to 2D grids\n",
    "# mu = mu.view(size, size).cpu().detach().numpy()\n",
    "# y_test = y_test.view(size, size).cpu().detach().numpy()\n",
    "\n",
    "cax = ax1.contourf(t_test.view(size, size).cpu().detach().numpy(),\n",
    "             x_test.view(size, size).cpu().detach().numpy(),\n",
    "             (mu-y_test).view(size, size).cpu().detach().numpy())\n",
    "\n",
    "plt.colorbar(cax)\n",
    "plt.xlabel('t');plt.ylabel('x')\n",
    "ax1.get_shared_x_axes().join(ax1, ax2)\n"
   ]
  },
  {
   "cell_type": "code",
   "execution_count": null,
   "metadata": {},
   "outputs": [],
   "source": [
    "samples = net.sample_parameter_posterior(num_samples=100)"
   ]
  },
  {
   "cell_type": "code",
   "execution_count": null,
   "metadata": {
    "colab": {
     "base_uri": "https://localhost:8080/",
     "height": 391
    },
    "id": "qmsBNep9PipK",
    "outputId": "ba5676be-eb4a-4807-c3f4-91fcb58f98c2"
   },
   "outputs": [],
   "source": [
    "g  = sns.kdeplot(samples.cpu().data, fill=True, palette=\"crest\",\n",
    "                 alpha=.5, linewidth=1)\n",
    "g.legend( ['Alpha','D'])"
   ]
  },
  {
   "cell_type": "code",
   "execution_count": null,
   "metadata": {
    "id": "ttshj8YDPm1P"
   },
   "outputs": [],
   "source": [
    "x = torch.linspace(-1, 1, 100).reshape(-1, 1)\n",
    "t = torch.linspace(0, 1, 100).reshape(-1, 1)\n",
    "\n",
    "X, T = torch.meshgrid(x[:, 0], t[:, 0])\n",
    "\n",
    "y_true = Experiment.exact_solution(T, X)"
   ]
  },
  {
   "cell_type": "code",
   "execution_count": null,
   "metadata": {
    "id": "nmYBlDHWPoWo"
   },
   "outputs": [],
   "source": [
    "net(t,x);"
   ]
  }
 ],
 "metadata": {
  "accelerator": "GPU",
  "colab": {
   "gpuType": "T4",
   "provenance": []
  },
  "kernelspec": {
   "display_name": "Python 3 (ipykernel)",
   "language": "python",
   "name": "python3"
  },
  "language_info": {
   "codemirror_mode": {
    "name": "ipython",
    "version": 3
   },
   "file_extension": ".py",
   "mimetype": "text/x-python",
   "name": "python",
   "nbconvert_exporter": "python",
   "pygments_lexer": "ipython3",
   "version": "3.11.4"
  }
 },
 "nbformat": 4,
 "nbformat_minor": 4
}
