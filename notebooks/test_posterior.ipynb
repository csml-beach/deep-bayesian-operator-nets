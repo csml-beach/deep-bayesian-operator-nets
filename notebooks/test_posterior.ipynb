{
  "nbformat": 4,
  "nbformat_minor": 0,
  "metadata": {
    "colab": {
      "provenance": []
    },
    "kernelspec": {
      "name": "python3",
      "display_name": "Python 3"
    },
    "language_info": {
      "name": "python"
    }
  },
  "cells": [
    {
      "cell_type": "code",
      "execution_count": 39,
      "metadata": {
        "id": "hBc_Jy8VUgOI"
      },
      "outputs": [],
      "source": [
        "import torch\n",
        "import numpy as np\n",
        "from numpy.ma.core import outer\n",
        "from sys import stderr\n",
        "import torch.nn as nn\n",
        "import torch.nn.functional as F\n",
        "import torch.optim as optim\n",
        "from scipy import stats\n",
        "import matplotlib.pyplot as plt\n",
        "from matplotlib.pyplot import scatter, figure\n",
        "from torch.utils.data import TensorDataset, DataLoader\n",
        "import pandas as pd\n",
        "import seaborn as sns\n",
        "sns.set(rc={'figure.figsize':(4, 4)})\n",
        "\n",
        "import warnings\n",
        "\n",
        "warnings.filterwarnings('ignore')\n",
        "\n",
        "\n",
        "batch_size = 16\n",
        "\n",
        "class Experiment(nn.Module):\n",
        "    def __init__(self):\n",
        "        super(Experiment, self).__init__()\n",
        "\n",
        "        self.device = torch.device(\"cuda:0\" if torch.cuda.is_available() else \"mps\" if torch.backends.mps.is_available() else \"cpu\")\n",
        "        print(self.device)\n",
        "\n",
        "        self.optimizer = None\n",
        "        self.train_loss_history = []\n",
        "        self.w_ic = 1.5\n",
        "        self.w_int = 1\n",
        "        self.w_data = 1\n",
        "        self.w_bc = 1.5\n",
        "        self.w_param_std = 1.0\n",
        "        self.numInputs = 2\n",
        "        self.numParams = 2\n",
        "        self.numOutputs = 1\n",
        "        self.hidden_size = 25\n",
        "\n",
        "        self.t0 = torch.tensor([0.0], requires_grad=True).to(self.device)\n",
        "        self.y0 = torch.tensor([1.0], requires_grad=True).to(self.device)\n",
        "\n",
        "        self.predicted_params = torch.zeros((self.numParams,1), requires_grad=True, device=self.device)\n",
        "\n",
        "        # We only have 1 input feature\n",
        "        self.b1 = nn.Linear(self.numInputs, self.hidden_size).to(self.device)\n",
        "        self.b2 = nn.Linear(self.hidden_size, self.hidden_size).to(self.device)\n",
        "        self.b3 = nn.Linear(self.hidden_size, self.numOutputs).to(self.device)\n",
        "\n",
        "        self.t1 = nn.Linear(1, self.hidden_size).to(self.device)\n",
        "        self.t2 = nn.Linear(self.hidden_size, self.hidden_size).to(self.device)\n",
        "        self.t3 = nn.Linear(self.hidden_size, self.numParams).to(self.device)\n",
        "\n",
        "        nn.init.ones_(self.b1.weight)\n",
        "        nn.init.ones_(self.b2.weight)\n",
        "        nn.init.ones_(self.b3.weight)\n",
        "\n",
        "        nn.init.ones_(self.t1.weight)\n",
        "        nn.init.ones_(self.t2.weight)\n",
        "        nn.init.ones_(self.t3.weight)\n",
        "\n",
        "    # make this static so that it can be called independently\n",
        "    @staticmethod\n",
        "    def exact_solution(t, x):\n",
        "        return torch.exp(-t) * torch.sin(torch.pi * x)\n",
        "\n",
        "    def forward(self, t, x):\n",
        "        if not torch.is_tensor(t):\n",
        "            t = torch.from_numpy(t).float().to(self.device)\n",
        "\n",
        "        if not torch.is_tensor(x):\n",
        "\n",
        "            x = torch.from_numpy(x).float().to(self.device)\n",
        "\n",
        "\n",
        "        input = torch.cat((t, x), 1)\n",
        "\n",
        "        h1 = torch.tanh(self.b1(input))\n",
        "        h2 = torch.tanh(self.b2(h1))\n",
        "\n",
        "        prior_param_sample = torch.rand(1, 1, device=self.device).requires_grad_(True)\n",
        "\n",
        "        t1 = torch.tanh(self.t1(prior_param_sample))\n",
        "        t2 = torch.tanh(self.t2(t1))\n",
        "        posterior_param_sample = self.t3(t2)\n",
        "\n",
        "        self.predicted_params = posterior_param_sample.view(-1)\n",
        "\n",
        "        y = self.b3(torch.multiply(t2, h2))\n",
        "\n",
        "        return y\n",
        "\n",
        "#     def sample_parameter_posterior(self, num_samples=100):\n",
        "#         prior_param_sample = torch.rand(num_samples, 1, device=self.device).requires_grad_(True)\n",
        "#         posterior_param_sample = self.t3(torch.tanh(self.t2(torch.tanh(self.t1(prior_param_sample)))))\n",
        "#         return posterior_param_sample\n",
        "\n",
        "    def sample_parameter_posterior(self, num_samples=100):\n",
        "        prior_param_samples = torch.rand(num_samples, 1, device=self.device).requires_grad_(True)\n",
        "        t1 = torch.tanh(self.t1(prior_param_samples))\n",
        "        t2 = torch.tanh(self.t2(t1))\n",
        "        posterior_param_samples = self.t3(t2)\n",
        "        return posterior_param_samples\n",
        "\n",
        "    def update_predicted_params(self, posterior_samples):\n",
        "        mean = torch.mean(posterior_samples, dim=0)  # Compute the mean along the first axis\n",
        "        std = torch.std(posterior_samples, dim=0)    # Compute the standard deviation along the first axis\n",
        "        self.predicted_params = mean\n",
        "        self.std_params = std  # Attach the standard deviation as an attribute\n",
        "\n",
        "    # General formula to compute the n-th order derivative of y = f(x) with respect to x\n",
        "    def compute_derivative(self, y, x, n):\n",
        "        if n == 0:\n",
        "            return y\n",
        "        else:\n",
        "            dy_dx = torch.autograd.grad(y, x, torch.ones_like(y, device= self.device),\n",
        "                                        create_graph=True, retain_graph=True,\n",
        "                                        allow_unused=True)[0]\n",
        "\n",
        "        return self.compute_derivative(dy_dx, x, n - 1)\n",
        "\n",
        "    def PDE_residual(self, t, x):\n",
        "        y = self.forward(t, x)\n",
        "        dy_dt = self.compute_derivative(y, t, 1)\n",
        "        dy_dx = self.compute_derivative(y, x, 1)\n",
        "        d2y_dx2 = self.compute_derivative(y, x, 2)\n",
        "\n",
        "        residual = dy_dt - self.predicted_params[0] * d2y_dx2 \\\n",
        "            + torch.exp(-self.predicted_params[1] * t) * (torch.sin(torch.tensor(np.pi) * x) - torch.tensor(np.pi) ** 2 * torch.sin(torch.tensor(np.pi) * x))\n",
        "\n",
        "        return residual\n",
        "\n",
        "    def loss_initial_condition(self, num_samples=200):\n",
        "        t0 = self.t0 * torch.ones((num_samples, 1), device = self.device)\n",
        "        x = 2*torch.rand((num_samples, 1), device=self.device).requires_grad_(True)  - 1.0\n",
        "        y0_pred = self.forward(t0, x)\n",
        "        y0_true = self.exact_solution(t0, x)\n",
        "        loss_ic = torch.mean(torch.square(y0_true - y0_pred))\n",
        "        return loss_ic\n",
        "\n",
        "    def loss_boundary_condition(self, num_samples=200):\n",
        "        x_low = -1\n",
        "        x_high = 1\n",
        "        xb_low   = x_low * torch.ones((num_samples, 1),  device = self.device)\n",
        "        xb_high  = x_high * torch.ones((num_samples, 1), device = self.device)\n",
        "\n",
        "        t = 2*torch.rand((num_samples, 1), device=self.device).requires_grad_(True) - 1.0\n",
        "\n",
        "        yb_low = self.exact_solution(t, xb_low)\n",
        "        yb_high = self.exact_solution(t, xb_high)\n",
        "\n",
        "        yb_pred_low = self.forward(t, xb_low)\n",
        "        yb_pred_high = self.forward(t, xb_high)\n",
        "\n",
        "        loss_ic = torch.mean(torch.square(yb_pred_low - yb_low)) \\\n",
        "                + torch.mean(torch.square(yb_pred_high - yb_high))\n",
        "\n",
        "        return loss_ic\n",
        "\n",
        "    def compute_losses(self):\n",
        "        loss_ic = self.loss_initial_condition()\n",
        "        loss_interior = self.loss_interior()\n",
        "        loss_data = self.loss_data()\n",
        "        loss_bc = self.loss_boundary_condition()\n",
        "        return loss_ic, loss_interior, loss_data, loss_bc\n",
        "\n",
        "    def loss_data(self, num_samples=100):\n",
        "        t_data, x_data, y_data = next(iter(train_loader))\n",
        "        y_pred = self.forward(t_data, x_data)\n",
        "        loss = torch.mean(torch.square(y_pred - y_data))\n",
        "        return loss\n",
        "\n",
        "    def loss_interior(self, num_samples=500):\n",
        "\n",
        "\n",
        "        interior_t_samples = torch.rand((num_samples, 1),   device=self.device).requires_grad_(True)\n",
        "        interior_x_samples = 2*torch.rand((num_samples, 1), device=self.device).requires_grad_(True)  - 1.0\n",
        "        res = self.PDE_residual(interior_t_samples, interior_x_samples)\n",
        "        loss_residual = torch.mean(torch.square(res))\n",
        "        return loss_residual\n",
        "\n",
        "#     def closure(self):\n",
        "#         self.optimizer.zero_grad()\n",
        "#         loss_ic, loss_interior, loss_data, loss_bc = self.compute_losses()\n",
        "#         total_loss = self.w_ic * loss_ic \\\n",
        "#                    + self.w_int * loss_interior \\\n",
        "#                    + self.w_data * loss_data \\\n",
        "#                    + self.w_bc * loss_bc\n",
        "\n",
        "#         total_loss.backward(retain_graph=True)\n",
        "#         return total_loss\n",
        "\n",
        "    def closure(self):\n",
        "        self.optimizer.zero_grad()\n",
        "        loss_ic, loss_interior, loss_data, loss_bc = self.compute_losses()\n",
        "        total_loss = self.w_ic * loss_ic \\\n",
        "                   + self.w_int * loss_interior \\\n",
        "                   + self.w_data * loss_data \\\n",
        "                   + self.w_bc * loss_bc\n",
        "\n",
        "        # Sample the parameter posterior and update self.predicted_params and self.std_params\n",
        "        posterior_samples = self.sample_parameter_posterior(100)\n",
        "        self.update_predicted_params(posterior_samples)\n",
        "\n",
        "        # Add the (Log(std))**2 term to the loss with the specified weight\n",
        "        log_std_squared_loss = self.w_param_std * torch.mean(torch.log(self.std_params)**2)\n",
        "        total_loss += log_std_squared_loss\n",
        "\n",
        "        total_loss.backward(retain_graph=True)\n",
        "        return total_loss\n",
        "\n",
        "#     def train(self, epochs, optimizer='Adam', **kwargs):\n",
        "#         if optimizer == 'Adam':\n",
        "#             self.optimizer = torch.optim.Adam(self.parameters(), **kwargs)\n",
        "\n",
        "#         elif optimizer == 'L-BFGS':\n",
        "#             self.optimizer = torch.optim.LBFGS(self.parameters(), **kwargs)\n",
        "\n",
        "#         # Training loop\n",
        "#         for epoch in range(epochs):\n",
        "#             self.optimizer.step(self.closure)\n",
        "#             if epoch % 4000 == 0:\n",
        "#                 loss_ic, loss_interior, loss_data, loss_bc = self.compute_losses()\n",
        "#                 total_loss = loss_ic + loss_interior + loss_data + loss_bc\n",
        "#                 print(f'Epoch ({optimizer}): {epoch},  Total Loss: {total_loss.detach().cpu().numpy()},\\t' \\\n",
        "#                         f'PDE Loss: {loss_interior.detach().cpu().numpy()} \\t' \\\n",
        "#                         f'BC Loss:  {loss_bc.detach().cpu().numpy()}\\t' \\\n",
        "#                         f'IC Loss:  {loss_ic.detach().cpu().numpy()}\\t' \\\n",
        "#                         f'Predicted Param: {net.predicted_params.detach().cpu().numpy()}\\t')\n",
        "\n",
        "\n",
        "    def train(self, epochs, optimizer='Adam', num_samples=100, **kwargs):\n",
        "        if optimizer == 'Adam':\n",
        "            self.optimizer = torch.optim.Adam(self.parameters(), **kwargs)\n",
        "\n",
        "        elif optimizer == 'L-BFGS':\n",
        "            self.optimizer = torch.optim.LBFGS(self.parameters(), **kwargs)\n",
        "\n",
        "        # Training loop\n",
        "        for epoch in range(epochs):\n",
        "            self.optimizer.step(self.closure)\n",
        "            if epoch % 4000 == 0:\n",
        "                loss_ic, loss_interior, loss_data, loss_bc = self.compute_losses()\n",
        "                total_loss = loss_ic + loss_interior + loss_data + loss_bc\n",
        "\n",
        "                # Sample the parameter posterior and update self.predicted_params and self.std_params\n",
        "                posterior_samples = self.sample_parameter_posterior(num_samples)\n",
        "                self.update_predicted_params(posterior_samples)\n",
        "\n",
        "                print(f'Epoch ({optimizer}): {epoch},  Total Loss: {total_loss.detach().cpu().numpy()},\\t' \\\n",
        "                        f'PDE Loss: {loss_interior.detach().cpu().numpy()} \\t' \\\n",
        "                        f'BC Loss:  {loss_bc.detach().cpu().numpy()}\\t' \\\n",
        "                        f'IC Loss:  {loss_ic.detach().cpu().numpy()}\\t' \\\n",
        "                        f'Predicted Param: {self.predicted_params.detach().cpu().numpy()}\\t' \\\n",
        "                        f'Std Params: {self.std_params.detach().cpu().numpy()}')"
      ]
    },
    {
      "cell_type": "code",
      "source": [
        "def sample_dataset(noise=0.1, numSamples=100, device='cpu'):\n",
        "    t = torch.linspace(0, 1, numSamples, device=device) # Time domain\n",
        "    x = torch.linspace(-1, 1, numSamples, device=device) # Space domain\n",
        "\n",
        "    T, X   = torch.meshgrid(t, x) # Time-Space domain\n",
        "\n",
        "    y_true = Experiment.exact_solution(T, X)\n",
        "    T      = T.reshape(-1, 1) # Reshape to 2D to 1D\n",
        "    X      = X.reshape(-1, 1) # Resahpe to 2D to 1D\n",
        "\n",
        "    sample_mean = y_true.reshape(-1, 1)\n",
        "    sample_var  = noise * torch.ones_like(sample_mean)\n",
        "    Y_noisy     = torch.normal(sample_mean, sample_var)\n",
        "\n",
        "    return T, X, Y_noisy\n",
        "\n",
        "\n",
        "def create_train_test_datasets(device='cpu'):\n",
        "    t_train, x_train, y_train = sample_dataset(noise=0.01, numSamples=10, device=device)\n",
        "    t_test, x_test, y_test = sample_dataset(noise=0.0, numSamples=100, device=device)\n",
        "\n",
        "    fig = plt.figure()\n",
        "    size = int(t_test.size(0)**0.5)\n",
        "\n",
        "\n",
        "    plt.contourf(t_test.view(size, size).cpu().detach().numpy(),\n",
        "                 x_test.view(size, size).cpu().detach().numpy(),\n",
        "                 y_test.view(size, size).cpu().detach().numpy())\n",
        "    plt.xlabel('t'); plt.ylabel('x');\n",
        "    plt.colorbar()\n",
        "\n",
        "    train_dataset = TensorDataset(t_train, x_train, y_train)\n",
        "    train_loader = DataLoader(train_dataset, batch_size=batch_size, shuffle=True)\n",
        "\n",
        "    test_dataset = TensorDataset(t_test, x_test, y_test)\n",
        "    test_loader = DataLoader(test_dataset, batch_size=batch_size, shuffle=True)\n",
        "\n",
        "    return train_loader, test_loader\n",
        "\n",
        "\n",
        "def plot_residuals(net, device, noise=0.0):\n",
        "    t_test, x_test, y_test = sample_dataset(noise=noise, device=device)\n",
        "    mu = net.forward(t_test, x_test)\n",
        "\n",
        "    fig = plt.figure(figsize=(6, 3))\n",
        "    ax1 = plt.subplot(121)\n",
        "    size = int(np.sqrt(x_test.size(0)))\n",
        "\n",
        "    # Calculate the residuals (difference between predictions and ground truth)\n",
        "    residuals = (mu - y_test).view(size, size).cpu().detach().numpy()\n",
        "\n",
        "    # Create a contour plot of the residuals\n",
        "    cax = ax1.contourf(t_test.view(size, size).cpu().detach().numpy(),\n",
        "                       x_test.view(size, size).cpu().detach().numpy(),\n",
        "                       residuals)\n",
        "\n",
        "    plt.colorbar(cax)\n",
        "    plt.xlabel('t');plt.ylabel('x')\n",
        "    plt.show()\n",
        "\n",
        "\n",
        "def make_plot(net, device):\n",
        "    t_test, x_test, y_test = sample_dataset(noise=0.0, device=device)\n",
        "    mu = net.forward(t_test, x_test)\n",
        "\n",
        "    fig = plt.figure(figsize=(6, 3))\n",
        "    ax1 = plt.subplot(121)\n",
        "    ax2 = plt.subplot(122, sharex=ax1)\n",
        "    size = int(np.sqrt(x_test.size(0)))\n",
        "\n",
        "    ax1.contourf(t_test.view(size, size).cpu().detach().numpy(),\n",
        "                 x_test.view(size, size).cpu().detach().numpy(),\n",
        "                 mu.view(size, size).cpu().detach().numpy())\n",
        "\n",
        "    plt.xlabel('t')\n",
        "    plt.ylabel('x')\n",
        "\n",
        "    ax2.contourf(t_test.view(size, size).cpu().detach().numpy(),\n",
        "                 x_test.view(size, size).cpu().detach().numpy(),\n",
        "                 y_test.view(size, size).cpu().detach().numpy())\n",
        "\n",
        "    plt.show()"
      ],
      "metadata": {
        "id": "qktqyo9XUm1y"
      },
      "execution_count": 40,
      "outputs": []
    },
    {
      "cell_type": "code",
      "source": [
        "net = Experiment()\n",
        "net.to(net.device)\n",
        "print(\"Params:\", sum(p.numel() for p in net.parameters() if p.requires_grad))"
      ],
      "metadata": {
        "colab": {
          "base_uri": "https://localhost:8080/"
        },
        "id": "OxdtBGzUUphv",
        "outputId": "5778e169-bbae-4f41-fbdc-1f96ed1951a9"
      },
      "execution_count": 41,
      "outputs": [
        {
          "output_type": "stream",
          "name": "stdout",
          "text": [
            "cpu\n",
            "Params: 1503\n"
          ]
        }
      ]
    },
    {
      "cell_type": "code",
      "source": [
        "train_loader, test_loader = create_train_test_datasets(device = net.device)"
      ],
      "metadata": {
        "colab": {
          "base_uri": "https://localhost:8080/",
          "height": 402
        },
        "id": "yvco7AmeUrOF",
        "outputId": "91677b60-7faf-4934-bb3e-964376527fab"
      },
      "execution_count": 42,
      "outputs": [
        {
          "output_type": "display_data",
          "data": {
            "text/plain": [
              "<Figure size 400x400 with 2 Axes>"
            ],
            "image/png": "[encoded data removed]"
          },
          "metadata": {}
        }
      ]
    },
    {
      "cell_type": "code",
      "source": [
        "net.w_ic = 1\n",
        "net.w_data = 1\n",
        "net.w_bc   = 1\n",
        "net.w_param_std = 1"
      ],
      "metadata": {
        "id": "ivyI-KUlUsBV"
      },
      "execution_count": 43,
      "outputs": []
    },
    {
      "cell_type": "code",
      "source": [
        "net.train(70000, optimizer='Adam', lr=1e-3)"
      ],
      "metadata": {
        "colab": {
          "base_uri": "https://localhost:8080/"
        },
        "id": "pXJ12CAPUvSp",
        "outputId": "6d35b2c1-f71d-49dd-e5e5-4cb2c47d3ab5"
      },
      "execution_count": 44,
      "outputs": [
        {
          "output_type": "stream",
          "name": "stdout",
          "text": [
            "Epoch (Adam): 0,  Total Loss: 2317646848.0,\tPDE Loss: 2317644544.0 \tBC Loss:  1224.357666015625\tIC Loss:  563.3300170898438\tPredicted Param: [23.946697 23.626266]\tStd Params: [4.997627  5.0076323]\n",
            "Epoch (Adam): 4000,  Total Loss: 1050863.875,\tPDE Loss: 1050213.75 \tBC Loss:  297.5654602050781\tIC Loss:  157.8520965576172\tPredicted Param: [16.09518  23.107018]\tStd Params: [2.8500483 4.0850787]\n",
            "Epoch (Adam): 8000,  Total Loss: 116507.7109375,\tPDE Loss: 115989.0859375 \tBC Loss:  303.2000427246094\tIC Loss:  116.57637023925781\tPredicted Param: [13.146499 22.909151]\tStd Params: [2.275563  3.9177043]\n",
            "Epoch (Adam): 12000,  Total Loss: 11574.4267578125,\tPDE Loss: 11317.470703125 \tBC Loss:  158.2105255126953\tIC Loss:  49.208770751953125\tPredicted Param: [10.514502 23.513744]\tStd Params: [1.0705353 2.3278618]\n",
            "Epoch (Adam): 16000,  Total Loss: 1266.63427734375,\tPDE Loss: 1166.859375 \tBC Loss:  77.54403686523438\tIC Loss:  9.542340278625488\tPredicted Param: [ 7.471656 22.335108]\tStd Params: [1.8203684 5.152388 ]\n",
            "Epoch (Adam): 20000,  Total Loss: 68.0925064086914,\tPDE Loss: 49.40518569946289 \tBC Loss:  16.87721824645996\tIC Loss:  0.6723960638046265\tPredicted Param: [ 5.724185 22.714058]\tStd Params: [1.2356323 4.502573 ]\n",
            "Epoch (Adam): 24000,  Total Loss: 7.076233386993408,\tPDE Loss: 1.8280209302902222 \tBC Loss:  4.395727634429932\tIC Loss:  0.593705952167511\tPredicted Param: [ 5.5019135 23.052229 ]\tStd Params: [0.785869  3.0058646]\n",
            "Epoch (Adam): 28000,  Total Loss: 2.498279571533203,\tPDE Loss: 0.5559369921684265 \tBC Loss:  1.1484462022781372\tIC Loss:  0.5353091955184937\tPredicted Param: [ 5.3026443 22.432114 ]\tStd Params: [1.0726081 4.124863 ]\n",
            "Epoch (Adam): 32000,  Total Loss: 1.3679522275924683,\tPDE Loss: 0.7102770209312439 \tBC Loss:  0.0071859159506857395\tIC Loss:  0.45925599336624146\tPredicted Param: [ 5.884471 23.314247]\tStd Params: [0.68910533 2.4975128 ]\n",
            "Epoch (Adam): 36000,  Total Loss: 1.3431886434555054,\tPDE Loss: 0.6582699418067932 \tBC Loss:  0.0014529201434925199\tIC Loss:  0.5046546459197998\tPredicted Param: [ 8.85723 23.12874]\tStd Params: [0.9442737 2.2946956]\n",
            "Epoch (Adam): 40000,  Total Loss: 1.0418719053268433,\tPDE Loss: 0.3757483959197998 \tBC Loss:  0.0013419707538560033\tIC Loss:  0.48078933358192444\tPredicted Param: [15.583308 23.480015]\tStd Params: [0.86361146 1.1593392 ]\n",
            "Epoch (Adam): 44000,  Total Loss: 0.5816487669944763,\tPDE Loss: 0.0162692628800869 \tBC Loss:  0.012793460860848427\tIC Loss:  0.39360511302948\tPredicted Param: [15.2983885 22.805902 ]\tStd Params: [0.9848302 0.9973113]\n",
            "Epoch (Adam): 48000,  Total Loss: 0.4091486632823944,\tPDE Loss: 0.029499057680368423 \tBC Loss:  0.04547133669257164\tIC Loss:  0.16837921738624573\tPredicted Param: [ 9.6626  27.30684]\tStd Params: [0.9256087 0.9662003]\n",
            "Epoch (Adam): 52000,  Total Loss: 0.3374802768230438,\tPDE Loss: 0.021726129576563835 \tBC Loss:  0.047342848032712936\tIC Loss:  0.13889865577220917\tPredicted Param: [ 7.9934974 36.609207 ]\tStd Params: [0.92949027 0.96114826]\n",
            "Epoch (Adam): 56000,  Total Loss: 0.34540432691574097,\tPDE Loss: 0.016538141295313835 \tBC Loss:  0.057043805718421936\tIC Loss:  0.1337408423423767\tPredicted Param: [ 8.265089 47.3813  ]\tStd Params: [0.9331166  0.95514005]\n",
            "Epoch (Adam): 60000,  Total Loss: 0.3920389711856842,\tPDE Loss: 0.03840900585055351 \tBC Loss:  0.04269927367568016\tIC Loss:  0.12774625420570374\tPredicted Param: [ 8.475119 56.743652]\tStd Params: [0.98603636 1.0785942 ]\n",
            "Epoch (Adam): 64000,  Total Loss: 0.35271719098091125,\tPDE Loss: 0.031744372099637985 \tBC Loss:  0.0444132424890995\tIC Loss:  0.11217589676380157\tPredicted Param: [ 7.6767135 63.43303  ]\tStd Params: [0.99645716 1.0362015 ]\n",
            "Epoch (Adam): 68000,  Total Loss: 0.27706992626190186,\tPDE Loss: 0.06260721385478973 \tBC Loss:  0.024629194289445877\tIC Loss:  0.058874063193798065\tPredicted Param: [ 4.7993636 77.67759  ]\tStd Params: [0.9327211 1.0054023]\n"
          ]
        }
      ]
    },
    {
      "cell_type": "code",
      "source": [
        "make_plot(net, device=net.device)"
      ],
      "metadata": {
        "colab": {
          "base_uri": "https://localhost:8080/",
          "height": 325
        },
        "id": "jsZSJLXXUy0H",
        "outputId": "fc8f9235-4fe7-4164-a431-b9856984f1cc"
      },
      "execution_count": 45,
      "outputs": [
        {
          "output_type": "display_data",
          "data": {
            "text/plain": [
              "<Figure size 600x300 with 2 Axes>"
            ],
            "image/png": "[encoded data removed]"
          },
          "metadata": {}
        }
      ]
    },
    {
      "cell_type": "code",
      "source": [
        "plot_residuals(net, device=net.device, noise=0.0)"
      ],
      "metadata": {
        "colab": {
          "base_uri": "https://localhost:8080/",
          "height": 325
        },
        "id": "oHjKd828U01l",
        "outputId": "8efc6f2e-7e8c-4061-ee3d-ab295ba79b47"
      },
      "execution_count": 46,
      "outputs": [
        {
          "output_type": "display_data",
          "data": {
            "text/plain": [
              "<Figure size 600x300 with 2 Axes>"
            ],
            "image/png": "[encoded data removed]"
          },
          "metadata": {}
        }
      ]
    },
    {
      "cell_type": "code",
      "source": [
        "samples = net.sample_parameter_posterior(num_samples=100)"
      ],
      "metadata": {
        "id": "YyC72D9mU3GD"
      },
      "execution_count": 47,
      "outputs": []
    },
    {
      "cell_type": "code",
      "source": [
        "samples.mean(axis=0), samples.std(axis=0)"
      ],
      "metadata": {
        "colab": {
          "base_uri": "https://localhost:8080/"
        },
        "id": "AoeVq4xpU46Z",
        "outputId": "d8a24f4f-9c86-429e-d0c9-8e305b59f807"
      },
      "execution_count": 48,
      "outputs": [
        {
          "output_type": "execute_result",
          "data": {
            "text/plain": [
              "(tensor([ 4.7941, 86.7604], grad_fn=<MeanBackward1>),\n",
              " tensor([0.9337, 0.9995], grad_fn=<StdBackward0>))"
            ]
          },
          "metadata": {},
          "execution_count": 48
        }
      ]
    },
    {
      "cell_type": "code",
      "source": [
        "g  = sns.kdeplot(samples.cpu().data, fill=True, palette=\"crest\",\n",
        "                 alpha=.5, linewidth=1)\n",
        "g.legend( ['Alpha','D'])"
      ],
      "metadata": {
        "colab": {
          "base_uri": "https://localhost:8080/",
          "height": 390
        },
        "id": "wdGgVRYjU6yW",
        "outputId": "97451fa7-84ec-48fc-c960-c576a5fc0621"
      },
      "execution_count": 49,
      "outputs": [
        {
          "output_type": "execute_result",
          "data": {
            "text/plain": [
              "<matplotlib.legend.Legend at 0x7fe69b9e3f40>"
            ]
          },
          "metadata": {},
          "execution_count": 49
        },
        {
          "output_type": "display_data",
          "data": {
            "text/plain": [
              "<Figure size 400x400 with 1 Axes>"
            ],
            "image/png": "[encoded data removed]"
          },
          "metadata": {}
        }
      ]
    },
    {
      "cell_type": "code",
      "source": [
        "x = torch.linspace(-1, 1, 100).reshape(-1, 1)\n",
        "t = torch.linspace(0, 1, 100).reshape(-1, 1)\n",
        "\n",
        "X, T = torch.meshgrid(x[:, 0], t[:, 0])\n",
        "\n",
        "y_true = Experiment.exact_solution(T, X)"
      ],
      "metadata": {
        "id": "lYqtbvIPU8eG"
      },
      "execution_count": 50,
      "outputs": []
    },
    {
      "cell_type": "code",
      "source": [
        "# net(t,x);"
      ],
      "metadata": {
        "id": "vKKrJczVU9_h"
      },
      "execution_count": 51,
      "outputs": []
    }
  ]
}