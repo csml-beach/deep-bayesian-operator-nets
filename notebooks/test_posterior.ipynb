{
 "cells": [
  {
   "cell_type": "code",
   "execution_count": 62,
   "metadata": {
    "id": "hBc_Jy8VUgOI"
   },
   "outputs": [],
   "source": [
    "import torch\n",
    "import numpy as np\n",
    "from numpy.ma.core import outer\n",
    "from sys import stderr\n",
    "import torch.nn as nn\n",
    "import torch.nn.functional as F\n",
    "import torch.optim as optim\n",
    "from scipy import stats\n",
    "import matplotlib.pyplot as plt\n",
    "from matplotlib.pyplot import scatter, figure\n",
    "from torch.utils.data import TensorDataset, DataLoader\n",
    "import pandas as pd\n",
    "import seaborn as sns\n",
    "sns.set(rc={'figure.figsize':(4, 4)})\n",
    "\n",
    "import warnings\n",
    "\n",
    "warnings.filterwarnings('ignore')\n",
    "\n",
    "\n",
    "batch_size = 32\n",
    "\n",
    "class Experiment(nn.Module):\n",
    "    def __init__(self):\n",
    "        super(Experiment, self).__init__()\n",
    "\n",
    "        self.device = torch.device(\"cuda:0\" if torch.cuda.is_available() else \"mps\" if torch.backends.mps.is_available() else \"cpu\")\n",
    "        print(self.device)\n",
    "\n",
    "        self.optimizer = None\n",
    "        self.train_loss_history = []\n",
    "        self.w_ic = 1.5\n",
    "        self.w_int = 1\n",
    "        self.w_data = 1\n",
    "        self.w_bc = 1.5\n",
    "        self.w_param_std = 1.0\n",
    "        self.numInputs = 2\n",
    "        self.numParams = 2\n",
    "        self.numOutputs = 1\n",
    "        self.hidden_size = 25\n",
    "\n",
    "        self.t0 = torch.tensor([0.0], requires_grad=True).to(self.device)\n",
    "        self.y0 = torch.tensor([1.0], requires_grad=True).to(self.device)\n",
    "\n",
    "        self.predicted_params = torch.zeros((self.numParams,1), requires_grad=True, device=self.device)\n",
    "\n",
    "        # We only have 1 input feature\n",
    "        self.b1 = nn.Linear(self.numInputs, self.hidden_size).to(self.device)\n",
    "        self.b2 = nn.Linear(self.hidden_size, self.hidden_size).to(self.device)\n",
    "        self.b3 = nn.Linear(self.hidden_size, self.numOutputs).to(self.device)\n",
    "\n",
    "        self.t1 = nn.Linear(self.hidden_size, self.hidden_size).to(self.device)\n",
    "        self.t2 = nn.Linear(self.hidden_size, self.hidden_size).to(self.device)\n",
    "        self.t3 = nn.Linear(self.hidden_size, self.numParams).to(self.device)\n",
    "\n",
    "\n",
    "    # make this static so that it can be called independently\n",
    "    @staticmethod\n",
    "    def exact_solution(t, x):\n",
    "        return torch.exp(-t) * torch.sin(torch.pi * x)\n",
    "\n",
    "    \n",
    "    def forward(self, t, x):\n",
    "        if not torch.is_tensor(t):\n",
    "            t = torch.from_numpy(t).float().to(self.device)\n",
    "\n",
    "        if not torch.is_tensor(x):\n",
    "\n",
    "            x = torch.from_numpy(x).float().to(self.device)\n",
    "\n",
    "\n",
    "        input = torch.cat((t, x), 1)\n",
    "\n",
    "        h1 = torch.tanh(self.b1(input))\n",
    "        h2 = torch.tanh(self.b2(h1))\n",
    "\n",
    "        prior_param_sample = torch.rand(1, self.hidden_size , device=self.device).requires_grad_(True)\n",
    "\n",
    "        t1 = torch.tanh(self.t1(prior_param_sample))\n",
    "        t2 = torch.tanh(self.t2(t1))\n",
    "        posterior_param_sample = self.t3(t2)\n",
    "\n",
    "        self.predicted_params = posterior_param_sample.view(-1)\n",
    "\n",
    "        y = self.b3(torch.multiply(t2, h2))\n",
    "\n",
    "        return y\n",
    "\n",
    "\n",
    "    # General formula to compute the n-th order derivative of y = f(x) with respect to x\n",
    "    def compute_derivative(self, y, x, n):\n",
    "        if n == 0:\n",
    "            return y\n",
    "        else:\n",
    "            dy_dx = torch.autograd.grad(y, x, torch.ones_like(y, device= self.device),\n",
    "                                        create_graph=True, retain_graph=True,\n",
    "                                        allow_unused=True)[0]\n",
    "\n",
    "        return self.compute_derivative(dy_dx, x, n - 1)\n",
    "\n",
    "    \n",
    "    def PDE_residual(self, t, x):\n",
    "        y = self.forward(t, x)\n",
    "        dy_dt = self.compute_derivative(y, t, 1)\n",
    "        dy_dx = self.compute_derivative(y, x, 1)\n",
    "        d2y_dx2 = self.compute_derivative(y, x, 2)\n",
    "\n",
    "        residual = dy_dt - self.predicted_params[0] * d2y_dx2 \\\n",
    "            + torch.exp(-self.predicted_params[1] * t) * (torch.sin(torch.tensor(np.pi) * x) - torch.tensor(np.pi) ** 2 * torch.sin(torch.tensor(np.pi) * x))\n",
    "\n",
    "        return residual\n",
    "\n",
    "    \n",
    "    def loss_initial_condition(self, num_samples=200):\n",
    "        t0 = self.t0 * torch.ones((num_samples, 1), device = self.device)\n",
    "        x = 2*torch.rand((num_samples, 1), device=self.device).requires_grad_(True)  - 1.0\n",
    "        y0_pred = self.forward(t0, x)\n",
    "        y0_true = self.exact_solution(t0, x)\n",
    "        loss_ic = torch.mean(torch.square(y0_true - y0_pred))\n",
    "        return loss_ic\n",
    "\n",
    "    \n",
    "    def loss_boundary_condition(self, num_samples=200):\n",
    "        x_low = -1\n",
    "        x_high = 1\n",
    "        xb_low   = x_low * torch.ones((num_samples, 1),  device = self.device)\n",
    "        xb_high  = x_high * torch.ones((num_samples, 1), device = self.device)\n",
    "\n",
    "        t = 2*torch.rand((num_samples, 1), device=self.device).requires_grad_(True) - 1.0\n",
    "\n",
    "        yb_low = self.exact_solution(t, xb_low)\n",
    "        yb_high = self.exact_solution(t, xb_high)\n",
    "\n",
    "        yb_pred_low = self.forward(t, xb_low)\n",
    "        yb_pred_high = self.forward(t, xb_high)\n",
    "\n",
    "        loss_ic = torch.mean(torch.square(yb_pred_low - yb_low)) \\\n",
    "                + torch.mean(torch.square(yb_pred_high - yb_high))\n",
    "\n",
    "        return loss_ic\n",
    "\n",
    "    \n",
    "    def compute_losses(self):\n",
    "        loss_ic = self.loss_initial_condition()\n",
    "        loss_interior = self.loss_interior()\n",
    "        loss_data = self.loss_data()\n",
    "        loss_bc = self.loss_boundary_condition()\n",
    "        return loss_ic, loss_interior, loss_data, loss_bc\n",
    "\n",
    "    \n",
    "    def loss_data(self, num_samples=100):\n",
    "        t_data, x_data, y_data = next(iter(train_loader))\n",
    "        y_pred = self.forward(t_data, x_data)\n",
    "        loss = torch.mean(torch.square(y_pred - y_data))\n",
    "        return loss\n",
    "\n",
    "    \n",
    "    def loss_interior(self, num_samples=200):\n",
    "\n",
    "        interior_t_samples = torch.rand((num_samples, 1),   device=self.device).requires_grad_(True)\n",
    "        interior_x_samples = 2*torch.rand((num_samples, 1), device=self.device).requires_grad_(True)  - 1.0\n",
    "        res = self.PDE_residual(interior_t_samples, interior_x_samples)\n",
    "        loss_residual = torch.mean(torch.square(res))\n",
    "        return loss_residual\n",
    "\n",
    "    \n",
    "    def sample_parameter_posterior(self, num_samples=100):\n",
    "        prior_param_samples = torch.rand(num_samples, self.hidden_size, device=self.device).requires_grad_(True)\n",
    "        t1 = torch.tanh(self.t1(prior_param_samples))\n",
    "        t2 = torch.tanh(self.t2(t1))\n",
    "        posterior_param_samples = self.t3(t2)\n",
    "        return posterior_param_samples\n",
    "\n",
    "    \n",
    "    def update_predicted_params(self, posterior_samples):\n",
    "\n",
    "        mean = torch.mean(posterior_samples, dim=0)  # Compute the mean along the first axis\n",
    "        std = torch.std(posterior_samples, dim=0)    # Compute the standard deviation along the first axis\n",
    "    \n",
    "        self.predicted_params = mean\n",
    "        self.std_params = std  # Attach the standard deviation as an attribute\n",
    "\n",
    "        \n",
    "    def closure(self):\n",
    "        self.optimizer.zero_grad()\n",
    "        loss_ic, loss_interior, loss_data, loss_bc = self.compute_losses()\n",
    "        total_loss = self.w_ic * loss_ic \\\n",
    "                   + self.w_int * loss_interior \\\n",
    "                   + self.w_data * loss_data \\\n",
    "                   + self.w_bc * loss_bc\n",
    "\n",
    "        # Sample the parameter posterior and update self.predicted_params and self.std_params\n",
    "        posterior_samples = self.sample_parameter_posterior(num_samples=100)\n",
    "        self.update_predicted_params(posterior_samples)\n",
    "\n",
    "        # Add the (Log(std))**2 term to the loss with the specified weight\n",
    "        self.log_std_squared_loss = self.w_param_std * torch.mean(torch.log(self.std_params)**2)\n",
    "        total_loss += self.log_std_squared_loss\n",
    "\n",
    "        total_loss.backward(retain_graph=True)\n",
    "        return total_loss\n",
    "\n",
    "\n",
    "    def train(self, epochs, optimizer='Adam', num_samples=100, **kwargs):\n",
    "        if optimizer == 'Adam':\n",
    "            self.optimizer = torch.optim.Adam(self.parameters(), **kwargs)\n",
    "\n",
    "        elif optimizer == 'L-BFGS':\n",
    "            self.optimizer = torch.optim.LBFGS(self.parameters(), **kwargs)\n",
    "\n",
    "        # Training loop\n",
    "        for epoch in range(epochs):\n",
    "            self.optimizer.step(self.closure)\n",
    "            if epoch % 4000 == 0:\n",
    "                loss_ic, loss_interior, loss_data, loss_bc = self.compute_losses()\n",
    "                total_loss = loss_ic + loss_interior + loss_data + loss_bc\n",
    "                \n",
    "                print(f'Epoch({optimizer}):{epoch},  Total Loss:{total_loss.item():.2f}  ' \\\n",
    "                        f'PDE Loss:{loss_interior.item():.2f}  ' \\\n",
    "                        f'BC Loss:{loss_bc.item():.2f}  ' \\\n",
    "                        f'IC Loss: {loss_ic.item():.2f}  ' \\\n",
    "                        f'Predicted Param:{self.predicted_params.detach().cpu().numpy()[0]:.2f}  ' \\\n",
    "                        f'Std Params:{self.std_params.detach().cpu().numpy()[0]:.2f}  ' \\\n",
    "                        f'Std Log Loss:{self.log_std_squared_loss.item():.2f}')\n",
    "\n",
    "\n"
   ]
  },
  {
   "cell_type": "code",
   "execution_count": 63,
   "metadata": {
    "id": "qktqyo9XUm1y"
   },
   "outputs": [],
   "source": [
    "def sample_dataset(noise=0.1, numSamples=100, device='cpu'):\n",
    "    t = torch.linspace(0, 1, numSamples, device=device) # Time domain\n",
    "    x = torch.linspace(-1, 1, numSamples, device=device) # Space domain\n",
    "\n",
    "    T, X   = torch.meshgrid(t, x) # Time-Space domain\n",
    "\n",
    "    y_true = Experiment.exact_solution(T, X)\n",
    "    T      = T.reshape(-1, 1) # Reshape to 2D to 1D\n",
    "    X      = X.reshape(-1, 1) # Resahpe to 2D to 1D\n",
    "\n",
    "    sample_mean = y_true.reshape(-1, 1)\n",
    "    sample_var  = noise * torch.ones_like(sample_mean)\n",
    "    Y_noisy     = torch.normal(sample_mean, sample_var)\n",
    "\n",
    "    return T, X, Y_noisy\n",
    "\n",
    "\n",
    "def create_train_test_datasets(device='cpu', batch_size = 32):\n",
    "    t_train, x_train, y_train = sample_dataset(noise=0.01, numSamples=10, device=device)\n",
    "    t_test, x_test, y_test = sample_dataset(noise=0.0, numSamples=100, device=device)\n",
    "\n",
    "    fig = plt.figure()\n",
    "    size = int(t_test.size(0)**0.5)\n",
    "\n",
    "\n",
    "    plt.contourf(t_test.view(size, size).cpu().detach().numpy(),\n",
    "                 x_test.view(size, size).cpu().detach().numpy(),\n",
    "                 y_test.view(size, size).cpu().detach().numpy())\n",
    "    plt.xlabel('t'); plt.ylabel('x');\n",
    "    plt.colorbar()\n",
    "\n",
    "    train_dataset = TensorDataset(t_train, x_train, y_train)\n",
    "    train_loader = DataLoader(train_dataset, batch_size=batch_size, shuffle=True)\n",
    "\n",
    "    test_dataset = TensorDataset(t_test, x_test, y_test)\n",
    "    test_loader = DataLoader(test_dataset, batch_size=batch_size, shuffle=True)\n",
    "\n",
    "    return train_loader, test_loader\n",
    "\n",
    "\n",
    "def plot_residuals(net, device, noise=0.0):\n",
    "    t_test, x_test, y_test = sample_dataset(noise=noise, device=device)\n",
    "    mu   = net.forward(t_test, x_test)\n",
    "\n",
    "    fig  = plt.figure(figsize=(6, 3))\n",
    "    ax1  = plt.subplot(121)\n",
    "    size = int(np.sqrt(x_test.size(0)))\n",
    "\n",
    "    # Calculate the residuals (difference between predictions and ground truth)\n",
    "    absDifference  = torch.abs(mu - y_test)\n",
    "    residuals      = absDifference.view(size, size).cpu().detach().numpy()\n",
    "\n",
    "    # Create a contour plot of the residuals\n",
    "    cax = ax1.contourf(t_test.view(size, size).cpu().detach().numpy(),\n",
    "                       x_test.view(size, size).cpu().detach().numpy(),\n",
    "                       residuals)\n",
    "\n",
    "    plt.colorbar(cax)\n",
    "    plt.xlabel('t');plt.ylabel('x')\n",
    "    plt.show()\n",
    "\n",
    "\n",
    "def make_plot(net, device):\n",
    "    t_test, x_test, y_test = sample_dataset(noise=0.0, device=device)\n",
    "    mu = net.forward(t_test, x_test)\n",
    "\n",
    "    fig = plt.figure(figsize=(6, 3))\n",
    "    ax1 = plt.subplot(121)\n",
    "    ax2 = plt.subplot(122, sharex=ax1)\n",
    "    size = int(np.sqrt(x_test.size(0)))\n",
    "\n",
    "    ax1.contourf(t_test.view(size, size).cpu().detach().numpy(),\n",
    "                 x_test.view(size, size).cpu().detach().numpy(),\n",
    "                 mu.view(size, size).cpu().detach().numpy())\n",
    "\n",
    "    plt.xlabel('t')\n",
    "    plt.ylabel('x')\n",
    "\n",
    "    ax2.contourf(t_test.view(size, size).cpu().detach().numpy(),\n",
    "                 x_test.view(size, size).cpu().detach().numpy(),\n",
    "                 y_test.view(size, size).cpu().detach().numpy())\n",
    "\n",
    "    plt.show()"
   ]
  },
  {
   "cell_type": "code",
   "execution_count": 64,
   "metadata": {
    "colab": {
     "base_uri": "https://localhost:8080/"
    },
    "id": "OxdtBGzUUphv",
    "outputId": "5778e169-bbae-4f41-fbdc-1f96ed1951a9"
   },
   "outputs": [
    {
     "name": "stdout",
     "output_type": "stream",
     "text": [
      "mps\n",
      "Params: 2103\n"
     ]
    }
   ],
   "source": [
    "net = Experiment()\n",
    "net.to(net.device)\n",
    "print(\"Params:\", sum(p.numel() for p in net.parameters() if p.requires_grad))"
   ]
  },
  {
   "cell_type": "code",
   "execution_count": 65,
   "metadata": {
    "colab": {
     "base_uri": "https://localhost:8080/",
     "height": 402
    },
    "id": "yvco7AmeUrOF",
    "outputId": "91677b60-7faf-4934-bb3e-964376527fab"
   },
   "outputs": [
    {
     "data": {
      "image/png": "[encoded data removed]",
      "text/plain": [
       "<Figure size 400x400 with 2 Axes>"
      ]
     },
     "metadata": {},
     "output_type": "display_data"
    }
   ],
   "source": [
    "train_loader, test_loader = create_train_test_datasets(device = net.device, batch_size=32)"
   ]
  },
  {
   "cell_type": "code",
   "execution_count": 66,
   "metadata": {
    "id": "ivyI-KUlUsBV"
   },
   "outputs": [],
   "source": [
    "net.w_ic = 1\n",
    "net.w_data = 10\n",
    "net.w_bc   = 10\n",
    "net.w_int = 2\n",
    "net.w_param_std = 1"
   ]
  },
  {
   "cell_type": "code",
   "execution_count": 67,
   "metadata": {
    "colab": {
     "base_uri": "https://localhost:8080/"
    },
    "id": "pXJ12CAPUvSp",
    "outputId": "6d35b2c1-f71d-49dd-e5e5-4cb2c47d3ab5"
   },
   "outputs": [
    {
     "name": "stdout",
     "output_type": "stream",
     "text": [
      "Epoch(Adam):0,  Total Loss:37.37  PDE Loss:36.64  BC Loss:0.00  IC Loss: 0.52  Predicted Param:0.12  Std Params:0.04  Std Log Loss:9.79\n",
      "Epoch(Adam):4000,  Total Loss:0.44  PDE Loss:0.39  BC Loss:0.02  IC Loss: 0.02  Predicted Param:1.16  Std Params:0.36  Std Log Loss:0.70\n",
      "Epoch(Adam):8000,  Total Loss:0.18  PDE Loss:0.02  BC Loss:0.00  IC Loss: 0.00  Predicted Param:1.00  Std Params:0.60  Std Log Loss:0.19\n",
      "Epoch(Adam):12000,  Total Loss:0.03  PDE Loss:0.02  BC Loss:0.00  IC Loss: 0.00  Predicted Param:1.04  Std Params:0.52  Std Log Loss:0.27\n",
      "Epoch(Adam):16000,  Total Loss:0.04  PDE Loss:0.03  BC Loss:0.00  IC Loss: 0.00  Predicted Param:3.72  Std Params:0.62  Std Log Loss:0.18\n",
      "Epoch(Adam):20000,  Total Loss:0.10  PDE Loss:0.01  BC Loss:0.00  IC Loss: 0.00  Predicted Param:1.02  Std Params:0.95  Std Log Loss:0.02\n",
      "Epoch(Adam):24000,  Total Loss:0.01  PDE Loss:0.01  BC Loss:0.00  IC Loss: 0.00  Predicted Param:3.44  Std Params:0.71  Std Log Loss:0.06\n",
      "Epoch(Adam):28000,  Total Loss:0.01  PDE Loss:0.00  BC Loss:0.00  IC Loss: 0.00  Predicted Param:0.98  Std Params:0.96  Std Log Loss:0.00\n",
      "Epoch(Adam):32000,  Total Loss:0.01  PDE Loss:0.00  BC Loss:0.00  IC Loss: 0.00  Predicted Param:0.98  Std Params:0.96  Std Log Loss:0.00\n",
      "Epoch(Adam):36000,  Total Loss:0.01  PDE Loss:0.00  BC Loss:0.01  IC Loss: 0.00  Predicted Param:0.97  Std Params:0.96  Std Log Loss:0.00\n",
      "Epoch(Adam):40000,  Total Loss:0.01  PDE Loss:0.00  BC Loss:0.00  IC Loss: 0.00  Predicted Param:0.96  Std Params:1.12  Std Log Loss:0.02\n",
      "Epoch(Adam):44000,  Total Loss:0.05  PDE Loss:0.04  BC Loss:0.01  IC Loss: 0.00  Predicted Param:1.03  Std Params:0.64  Std Log Loss:0.12\n",
      "Epoch(Adam):48000,  Total Loss:0.00  PDE Loss:0.00  BC Loss:0.00  IC Loss: 0.00  Predicted Param:0.97  Std Params:0.96  Std Log Loss:0.00\n",
      "Epoch(Adam):52000,  Total Loss:0.01  PDE Loss:0.00  BC Loss:0.00  IC Loss: 0.00  Predicted Param:0.98  Std Params:0.83  Std Log Loss:0.02\n",
      "Epoch(Adam):56000,  Total Loss:0.01  PDE Loss:0.01  BC Loss:0.00  IC Loss: 0.00  Predicted Param:0.97  Std Params:0.97  Std Log Loss:0.00\n",
      "Epoch(Adam):60000,  Total Loss:0.01  PDE Loss:0.01  BC Loss:0.00  IC Loss: 0.00  Predicted Param:0.98  Std Params:0.95  Std Log Loss:0.00\n",
      "Epoch(Adam):64000,  Total Loss:0.02  PDE Loss:0.00  BC Loss:0.01  IC Loss: 0.00  Predicted Param:0.96  Std Params:0.83  Std Log Loss:0.02\n",
      "Epoch(Adam):68000,  Total Loss:0.01  PDE Loss:0.01  BC Loss:0.00  IC Loss: 0.00  Predicted Param:0.98  Std Params:1.24  Std Log Loss:0.06\n"
     ]
    }
   ],
   "source": [
    "net.train(70000, optimizer='Adam', lr=1e-3)"
   ]
  },
  {
   "cell_type": "code",
   "execution_count": 68,
   "metadata": {
    "colab": {
     "base_uri": "https://localhost:8080/",
     "height": 325
    },
    "id": "jsZSJLXXUy0H",
    "outputId": "fc8f9235-4fe7-4164-a431-b9856984f1cc"
   },
   "outputs": [
    {
     "data": {
      "image/png": "[encoded data removed]",
      "text/plain": [
       "<Figure size 600x300 with 2 Axes>"
      ]
     },
     "metadata": {},
     "output_type": "display_data"
    }
   ],
   "source": [
    "make_plot(net, device=net.device)"
   ]
  },
  {
   "cell_type": "code",
   "execution_count": 69,
   "metadata": {
    "colab": {
     "base_uri": "https://localhost:8080/",
     "height": 325
    },
    "id": "oHjKd828U01l",
    "outputId": "8efc6f2e-7e8c-4061-ee3d-ab295ba79b47"
   },
   "outputs": [
    {
     "data": {
      "image/png": "[encoded data removed]",
      "text/plain": [
       "<Figure size 600x300 with 2 Axes>"
      ]
     },
     "metadata": {},
     "output_type": "display_data"
    }
   ],
   "source": [
    "plot_residuals(net, device=net.device, noise=0.0)"
   ]
  },
  {
   "cell_type": "code",
   "execution_count": 70,
   "metadata": {
    "id": "YyC72D9mU3GD"
   },
   "outputs": [],
   "source": [
    "samples = net.sample_parameter_posterior(num_samples=100)"
   ]
  },
  {
   "cell_type": "code",
   "execution_count": 71,
   "metadata": {
    "colab": {
     "base_uri": "https://localhost:8080/"
    },
    "id": "AoeVq4xpU46Z",
    "outputId": "d8a24f4f-9c86-429e-d0c9-8e305b59f807"
   },
   "outputs": [
    {
     "data": {
      "text/plain": [
       "(tensor([1.3014, 1.4226], device='mps:0', grad_fn=<MeanBackward1>),\n",
       " tensor([1.0386, 1.1650], device='mps:0', grad_fn=<StdBackward0>))"
      ]
     },
     "execution_count": 71,
     "metadata": {},
     "output_type": "execute_result"
    }
   ],
   "source": [
    "samples.mean(axis=0), samples.std(axis=0)"
   ]
  },
  {
   "cell_type": "code",
   "execution_count": 72,
   "metadata": {},
   "outputs": [],
   "source": [
    "p1, p2 = samples.cpu().detach().unbind(1)"
   ]
  },
  {
   "cell_type": "code",
   "execution_count": 73,
   "metadata": {
    "colab": {
     "base_uri": "https://localhost:8080/",
     "height": 390
    },
    "id": "wdGgVRYjU6yW",
    "outputId": "97451fa7-84ec-48fc-c960-c576a5fc0621"
   },
   "outputs": [
    {
     "data": {
      "text/plain": [
       "<matplotlib.legend.Legend at 0x295d6a910>"
      ]
     },
     "execution_count": 73,
     "metadata": {},
     "output_type": "execute_result"
    },
    {
     "data": {
      "image/png": "[encoded data removed]",
      "text/plain": [
       "<Figure size 400x400 with 1 Axes>"
      ]
     },
     "metadata": {},
     "output_type": "display_data"
    }
   ],
   "source": [
    "g  = sns.kdeplot(p1, fill=True, palette=\"crest\",\n",
    "                 alpha=.5, linewidth=1)\n",
    "\n",
    "\n",
    "g  = sns.kdeplot(p2, fill=True, palette=\"crest\",\n",
    "                 alpha=.5, linewidth=1)\n",
    "g.legend( ['D', 'Alpha'])\n"
   ]
  },
  {
   "cell_type": "code",
   "execution_count": 74,
   "metadata": {
    "id": "lYqtbvIPU8eG"
   },
   "outputs": [],
   "source": [
    "x = torch.linspace(-1, 1, 100).reshape(-1, 1)\n",
    "t = torch.linspace(0, 1, 100).reshape(-1, 1)\n",
    "\n",
    "X, T = torch.meshgrid(x[:, 0], t[:, 0])\n",
    "\n",
    "y_true = Experiment.exact_solution(T, X)"
   ]
  }
 ],
 "metadata": {
  "colab": {
   "provenance": []
  },
  "kernelspec": {
   "display_name": "Python 3 (ipykernel)",
   "language": "python",
   "name": "python3"
  },
  "language_info": {
   "codemirror_mode": {
    "name": "ipython",
    "version": 3
   },
   "file_extension": ".py",
   "mimetype": "text/x-python",
   "name": "python",
   "nbconvert_exporter": "python",
   "pygments_lexer": "ipython3",
   "version": "3.11.4"
  }
 },
 "nbformat": 4,
 "nbformat_minor": 1
}
