{
 "cells": [
  {
   "cell_type": "code",
   "execution_count": 1,
   "id": "739a86c2-19d0-4041-919f-58fad6a21931",
   "metadata": {
    "tags": []
   },
   "outputs": [],
   "source": [
    "import torch \n",
    "import numpy as np\n",
    "from numpy.ma.core import outer\n",
    "from sys import stderr\n",
    "import torch.nn as nn\n",
    "import torch.nn.functional as F\n",
    "import torch.optim as optim\n",
    "from scipy import stats\n",
    "import matplotlib.pyplot as plt\n",
    "from matplotlib.pyplot import scatter, figure\n",
    "from torch.utils.data import TensorDataset, DataLoader\n",
    "import pandas as pd\n",
    "import seaborn as sns\n",
    "sns.set(rc={'figure.figsize':(4, 4)})\n",
    "\n",
    "import warnings\n",
    "\n",
    "warnings.filterwarnings('ignore')\n"
   ]
  },
  {
   "cell_type": "code",
   "execution_count": 2,
   "id": "5e73ca15-bde6-4e65-8aba-18b861898c7d",
   "metadata": {},
   "outputs": [],
   "source": [
    "batch_size = 3\n",
    "start      = 0.0\n",
    "end        = 1.4"
   ]
  },
  {
   "cell_type": "code",
   "execution_count": 27,
   "id": "1030b8f0-1aaf-4082-a9e3-1ca296407e3b",
   "metadata": {},
   "outputs": [
    {
     "data": {
      "text/plain": [
       "<matplotlib.legend.Legend at 0x2b2e77bd0>"
      ]
     },
     "execution_count": 27,
     "metadata": {},
     "output_type": "execute_result"
    },
    {
     "data": {
      "image/png": "[encoded data removed]",
      "text/plain": [
       "<Figure size 400x400 with 1 Axes>"
      ]
     },
     "metadata": {},
     "output_type": "display_data"
    }
   ],
   "source": [
    "def sample_dataset(start, end, n, noise=0.1):\n",
    "    \n",
    "    x = np.linspace(start, end, n)\n",
    "    sample_mean = np.exp(-2*x) \n",
    "    sample_var = noise*np.ones_like(sample_mean) \n",
    "    # sample_var = [abs((abs(start)+abs(end))/2 - abs(i))/16 for i in x]\n",
    "    y = stats.norm(sample_mean, sample_var).rvs(random_state=1)\n",
    "    return x, y\n",
    "\n",
    "\n",
    "x_train, y_train = sample_dataset(0, 1, 100)\n",
    "\n",
    "figure(figsize=(4, 4))\n",
    "# Not exactly the same distribution, but works for now\n",
    "x_test, y_test = sample_dataset(start, end, 100, noise = 0.0)\n",
    "scatter(x_train, y_train, c=\"blue\", marker=\"*\", label ='train')\n",
    "scatter(x_test, y_test, c=\"green\", marker=\".\", label = 'test')\n",
    "plt.legend()"
   ]
  },
  {
   "cell_type": "code",
   "execution_count": 28,
   "id": "5730e00e-d3ac-4eee-8552-02e35948e2b9",
   "metadata": {},
   "outputs": [],
   "source": [
    "# Train\n",
    "tensor_x_train = torch.Tensor(x_train).unsqueeze(1)\n",
    "tensor_y_train = torch.Tensor(y_train).unsqueeze(1)\n",
    "train_dataset = TensorDataset(tensor_x_train, tensor_y_train)\n",
    "train_loader = DataLoader(train_dataset, batch_size=batch_size, shuffle=True)\n",
    "\n",
    "# Test\n",
    "tensor_x_test = torch.Tensor(x_test).unsqueeze(1)\n",
    "tensor_y_test = torch.Tensor(y_test).unsqueeze(1)\n",
    "test_dataset = TensorDataset(tensor_x_test, tensor_y_test)\n",
    "test_loader = DataLoader(test_dataset, batch_size=batch_size, shuffle=True)"
   ]
  },
  {
   "cell_type": "code",
   "execution_count": 42,
   "id": "641001df-7009-44a3-bb34-99c98c00ea22",
   "metadata": {},
   "outputs": [],
   "source": [
    "class Experiment(nn.Module):\n",
    "    def __init__(self):\n",
    "        super(Experiment, self).__init__()\n",
    "\n",
    "        self.optimizer = None\n",
    "        self.train_loss_history = []\n",
    "        \n",
    "        self.hidden_size = 15\n",
    "        self.t0 = torch.tensor([0.0], requires_grad=True)\n",
    "        self.y0 = torch.tensor([1.0], requires_grad=True)\n",
    "        self.predicted_params = 1.0\n",
    "    \n",
    "\n",
    "        # We only have 1 input feature\n",
    "        self.b1 = nn.Linear(1, self.hidden_size)\n",
    "        self.b2 = nn.Linear(self.hidden_size, self.hidden_size)\n",
    "        self.b3 = nn.Linear(self.hidden_size, 1)\n",
    "\n",
    "        self.t1 = nn.Linear(1, self.hidden_size)\n",
    "        self.t2 = nn.Linear(self.hidden_size, self.hidden_size)\n",
    "        self.t3 = nn.Linear(self.hidden_size, 1)\n",
    "        \n",
    "        nn.init.ones_(self.b1.weight)\n",
    "        nn.init.ones_(self.b2.weight)\n",
    "        nn.init.ones_(self.b3.weight)\n",
    "        \n",
    "        nn.init.ones_(self.t1.weight)\n",
    "        nn.init.ones_(self.t2.weight)\n",
    "        nn.init.ones_(self.t3.weight)\n",
    "        \n",
    "    def forward(self, t):\n",
    "        if not torch.is_tensor(t):         \n",
    "            t = torch.from_numpy(t)                \n",
    "        \n",
    "        t = t.float()\n",
    "        \n",
    "        h1 = torch.tanh(self.b1(t))\n",
    "        h2 = torch.tanh(self.b2(h1))\n",
    "\n",
    "\n",
    "        prior_param_sample = torch.rand(1,1).requires_grad_(True)\n",
    "        t1 = torch.tanh(self.t1(prior_param_sample))\n",
    "        t2 = torch.tanh(self.t2(t1))\n",
    "        y = self.b3(torch.multiply(t2,h2))\n",
    "        # posterior_param_sample = self.t3(torch.multiply(t2,h2))\n",
    "        posterior_param_sample =  self.t3(t2)\n",
    "        self.predicted_params  =  posterior_param_sample\n",
    "        # print(posterior_param_sample.shape)\n",
    "        return y\n",
    "\n",
    "    def sample_parameter_posterior(self, num_samples=50):\n",
    "        prior_param_sample     = torch.rand(num_samples,1).requires_grad_(True)\n",
    "        posterior_param_sample = self.t3(torch.tanh(self.t2(torch.tanh(self.t1(prior_param_sample)))))\n",
    "        return posterior_param_sample\n",
    "        \n",
    "    def compute_derivative(self, y, x, n):\n",
    "        # General formula to compute the n-th order derivative of y = f(x) with respect to x\n",
    "        if n == 0:\n",
    "            return y\n",
    "        else:\n",
    "            dy_dx = torch.autograd.grad(y, x, torch.ones_like(y).to(device),\n",
    "                                        create_graph=True, retain_graph=True,\n",
    "                                        allow_unused=True)[0]\n",
    "            \n",
    "        return self.compute_derivative(dy_dx, x, n - 1)\n",
    "\n",
    "    def PDE_residual(self, t):\n",
    "        # Compute the differential equation residual\n",
    "        y      = self.forward(t)\n",
    "        dy_dt  = self.compute_derivative(y, t, 1)\n",
    "\n",
    "        residual = dy_dt  + self.predicted_params*y\n",
    "        return residual\n",
    "\n",
    "    def loss_initial_condition(self):\n",
    "        y0_pred    = self.forward(self.t0)\n",
    "        loss_ic    = torch.mean(torch.square(self.y0 - y0_pred))\n",
    "        return loss_ic\n",
    "\n",
    "    def compute_losses(self):\n",
    "\n",
    "        loss_ic       = self.loss_initial_condition()\n",
    "        loss_interior = self.loss_interior()\n",
    "        loss_data     = self.loss_data()\n",
    "        # mse_BC = self.loss_BC()\n",
    "\n",
    "        return loss_ic, loss_interior, loss_data\n",
    "\n",
    "\n",
    "    def loss_data(self, num_samples = 100):\n",
    "        # t_data = torch.linspace(0,1,num_samples).reshape(-1,1).to(device).requires_grad_(True)\n",
    "        # y_data = torch.exp(-2.0*t_data) \n",
    "        t_data, y_data = next(iter(train_loader))\n",
    "        y_pred = self.forward(t_data)\n",
    "        loss   = torch.mean(torch.square(y_pred-y_data))\n",
    "        return loss\n",
    "        \n",
    "    def loss_interior(self, num_samples = 100):\n",
    "        interior_time_samples = torch.FloatTensor(num_samples, 1).uniform_(0, 1).requires_grad_(True)\n",
    "        res = self.PDE_residual(interior_time_samples)\n",
    "        loss_residual = torch.mean(torch.square(res))\n",
    "        \n",
    "        return loss_residual\n",
    "        \n",
    "    def closure(self, w1 = 1, w2=1, w3=2):\n",
    "        self.optimizer.zero_grad()\n",
    "        loss_ic, loss_interior, loss_data = self.compute_losses()\n",
    "        total_loss = w1*loss_ic + w2*loss_interior  + w3*loss_data\n",
    "        total_loss.backward(retain_graph=True)\n",
    "        return total_loss\n",
    "\n",
    "    def train(self, epochs, optimizer='Adam', **kwargs):\n",
    "\n",
    "        if optimizer=='Adam':\n",
    "            self.optimizer = torch.optim.Adam(self.parameters(), **kwargs)\n",
    "\n",
    "        elif optimizer=='L-BFGS':\n",
    "            self.optimizer = torch.optim.LBFGS(self.parameters(), **kwargs)\n",
    "\n",
    "        # Training loop\n",
    "        for epoch in range(epochs):\n",
    "\n",
    "\n",
    "            self.optimizer.step(self.closure)\n",
    "\n",
    "            if epoch % 1000 == 0:\n",
    "                loss_ic, loss_interior, loss_data = self.compute_losses()\n",
    "                total_loss = loss_ic + loss_interior + loss_data\n",
    "            \n",
    "            # self.train_loss_history.append([total_loss.cpu().detach(),\n",
    "            #                                 loss_ic.cpu().detach(),\n",
    "            #                                 loss_interior.cpu().detach()])\n",
    "                print(f'Epoch ({optimizer}): {epoch}, Total Loss: {total_loss.detach().cpu().numpy()}')\n",
    "            \n",
    "    def get_training_history(self):\n",
    "        loss_hist = np.array(self.train_loss_history)\n",
    "        total_loss, loss_ic, loss_interior, loss_data = np.split(loss_hist, 3, axis=1)\n",
    "        return total_loss, loss_ic, loss_interior, loss_data\n",
    "\n",
    "        \n",
    "    # def compute_Jacobina(self, x):\n",
    "    #     self.dy_dx = torch.autograd.functional.jacobian(self, x, create_graph=True)\n",
    "    #     self.dy_dx = torch.squeeze(self.dy_dx)\n",
    "    #     return self.dy_dx\n",
    "\n",
    "   # def loss_BC(self):\n",
    "   #      y_pred_BC1 = self.network_prediction(self.t_lb, self.x_lb)\n",
    "   #      mse_BC1 = torch.mean((self.y_lb - y_pred_BC1)**2)\n",
    "        \n",
    "   #      y_pred_BC2 = self.network_prediction(self.t_ub, self.x_ub)\n",
    "   #      mse_BC2 = torch.mean((self.y_ub - y_pred_BC2)**2)\n",
    "        \n",
    "   #      mse_BC = mse_BC1 + mse_BC2\n",
    "   #      return mse_BC\n",
    "\n",
    "    def make_plot(self):\n",
    "        # Get predictions\n",
    "        mu = self.forward(tensor_x_test)\n",
    "    \n",
    "        # Create DF from predictions\n",
    "    \n",
    "        data = {\n",
    "                  \"x\": list(tensor_x_test.squeeze().detach().numpy()),\n",
    "                  \"y\": list(mu.squeeze().detach().numpy())\n",
    "            }\n",
    "        temp = pd.DataFrame.from_dict(data)\n",
    "    \n",
    "        # Plot predictions with confidence\n",
    "        sns_plot = sns.lineplot(data=temp, x=\"x\", y=\"y\", c='r')\n",
    "    \n",
    "        # Highlight training range\n",
    "        plt.axvline(x=start)\n",
    "        plt.axvline(x=end)\n",
    "    \n",
    "        # Plot test data on top\n",
    "        scatter(x_test, y_test, c=\"green\", marker=\"*\", alpha=0.5)\n",
    "        plt.show()"
   ]
  },
  {
   "cell_type": "code",
   "execution_count": 43,
   "id": "ed233349-edb6-4640-b672-00d28cdd21ae",
   "metadata": {},
   "outputs": [],
   "source": [
    "device = torch.device(\"cuda:0\" if torch.cuda.is_available() else \"cpu\")"
   ]
  },
  {
   "cell_type": "code",
   "execution_count": 44,
   "id": "ce77cab3-9668-4ae2-b509-df6c63e04e77",
   "metadata": {},
   "outputs": [
    {
     "name": "stdout",
     "output_type": "stream",
     "text": [
      "Experiment(\n",
      "  (b1): Linear(in_features=1, out_features=15, bias=True)\n",
      "  (b2): Linear(in_features=15, out_features=15, bias=True)\n",
      "  (b3): Linear(in_features=15, out_features=1, bias=True)\n",
      "  (t1): Linear(in_features=1, out_features=15, bias=True)\n",
      "  (t2): Linear(in_features=15, out_features=15, bias=True)\n",
      "  (t3): Linear(in_features=15, out_features=1, bias=True)\n",
      ")\n",
      "Params: 572\n"
     ]
    }
   ],
   "source": [
    "net = Experiment()\n",
    "print(net)\n",
    "print(\"Params:\", sum(p.numel() for p in net.parameters() if p.requires_grad))"
   ]
  },
  {
   "cell_type": "code",
   "execution_count": 45,
   "id": "a47f3ef6-05be-4d13-ae3f-79d20ce7181f",
   "metadata": {},
   "outputs": [],
   "source": [
    "x, y  = next(iter(test_loader))"
   ]
  },
  {
   "cell_type": "code",
   "execution_count": 48,
   "id": "1d502667-8fcd-4a88-87b9-c4dc3726998d",
   "metadata": {},
   "outputs": [
    {
     "name": "stdout",
     "output_type": "stream",
     "text": [
      "Epoch (Adam): 0, Total Loss: 0.008790923282504082\n",
      "Epoch (Adam): 1000, Total Loss: 0.0009993744315579534\n",
      "Epoch (Adam): 2000, Total Loss: 0.009583096951246262\n",
      "Epoch (Adam): 3000, Total Loss: 0.004869346506893635\n",
      "Epoch (Adam): 4000, Total Loss: 0.018911749124526978\n",
      "Epoch (Adam): 5000, Total Loss: 0.0022238539531826973\n",
      "Epoch (Adam): 6000, Total Loss: 0.0216490738093853\n",
      "Epoch (Adam): 7000, Total Loss: 0.0012663444504141808\n",
      "Epoch (Adam): 8000, Total Loss: 0.011876358650624752\n",
      "Epoch (Adam): 9000, Total Loss: 0.009694932959973812\n"
     ]
    }
   ],
   "source": [
    "net.train(10000, lr=1e-3)"
   ]
  },
  {
   "cell_type": "code",
   "execution_count": 49,
   "id": "30050ef6-deff-4514-ba0a-2a046a53ad9e",
   "metadata": {},
   "outputs": [
    {
     "data": {
      "text/plain": [
       "tensor([[0.0115],\n",
       "        [0.0092],\n",
       "        [0.0107]], grad_fn=<SubBackward0>)"
      ]
     },
     "execution_count": 49,
     "metadata": {},
     "output_type": "execute_result"
    }
   ],
   "source": [
    "net(x) - torch.exp(-2*x)"
   ]
  },
  {
   "cell_type": "code",
   "execution_count": 50,
   "id": "ccbc3ac4-8aed-4466-8a0f-d9a582479ed5",
   "metadata": {},
   "outputs": [
    {
     "data": {
      "image/png": "[encoded data removed]",
      "text/plain": [
       "<Figure size 400x400 with 1 Axes>"
      ]
     },
     "metadata": {},
     "output_type": "display_data"
    }
   ],
   "source": [
    "net.make_plot()"
   ]
  },
  {
   "cell_type": "code",
   "execution_count": 51,
   "id": "32e12689-78a0-4e03-8d67-897b7f94c0ee",
   "metadata": {},
   "outputs": [
    {
     "data": {
      "image/png": "[encoded data removed]",
      "text/plain": [
       "<Figure size 400x400 with 1 Axes>"
      ]
     },
     "metadata": {},
     "output_type": "display_data"
    }
   ],
   "source": [
    "samples = net.predicted_params.detach().cpu()\n",
    "samples = net.sample_parameter_posterior(num_samples=1000).detach().cpu()\n",
    "g  = sns.kdeplot(samples)\n"
   ]
  },
  {
   "cell_type": "code",
   "execution_count": 371,
   "id": "0dfabe88-559a-4718-9755-fbb19da1cba4",
   "metadata": {},
   "outputs": [
    {
     "data": {
      "text/plain": [
       "(tensor(2.4110e-05, grad_fn=<MeanBackward0>),\n",
       " tensor(nan, grad_fn=<StdBackward0>))"
      ]
     },
     "execution_count": 371,
     "metadata": {},
     "output_type": "execute_result"
    }
   ],
   "source": [
    "net.predicted_params.mean(), net.predicted_params.std()"
   ]
  },
  {
   "cell_type": "code",
   "execution_count": null,
   "id": "1b32162c-f220-4c58-abd8-e918052fc36a",
   "metadata": {},
   "outputs": [],
   "source": []
  },
  {
   "cell_type": "code",
   "execution_count": null,
   "id": "4e442127-2af7-4d28-bba8-aa6e9965a2e9",
   "metadata": {},
   "outputs": [],
   "source": []
  }
 ],
 "metadata": {
  "kernelspec": {
   "display_name": "Python 3 (ipykernel)",
   "language": "python",
   "name": "python3"
  },
  "language_info": {
   "codemirror_mode": {
    "name": "ipython",
    "version": 3
   },
   "file_extension": ".py",
   "mimetype": "text/x-python",
   "name": "python",
   "nbconvert_exporter": "python",
   "pygments_lexer": "ipython3",
   "version": "3.11.3"
  }
 },
 "nbformat": 4,
 "nbformat_minor": 5
}
